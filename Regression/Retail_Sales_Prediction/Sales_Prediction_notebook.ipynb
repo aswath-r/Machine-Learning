{
  "nbformat": 4,
  "nbformat_minor": 0,
  "metadata": {
    "colab": {
      "provenance": [],
      "collapsed_sections": [
        "mgT6MOyySj85",
        "_B4V5LC3S4gx",
        "i-CsvC5XZKNg",
        "-Rc8yzl6IgPA",
        "vxiELfUJbWn1",
        "WskJPN1DpdnV",
        "R2v7jAAvi1c3",
        "gFj-RMwJjJxr",
        "RA3UaKWKkUca",
        "ToA0x5Wyoo4A",
        "yhON9-h038RE"
      ],
      "toc_visible": true
    },
    "kernelspec": {
      "name": "python3",
      "display_name": "Python 3"
    },
    "language_info": {
      "name": "python"
    }
  },
  "cells": [
    {
      "cell_type": "markdown",
      "source": [
        "## <b> Problem Description </b>\n",
        "\n",
        "### Rossmann operates over 3,000 drug stores in 7 European countries. Currently, Rossmann store managers are tasked with predicting their daily sales for up to six weeks in advance. Store sales are influenced by many factors, including promotions, competition, school and state holidays, seasonality, and locality. With thousands of individual managers predicting sales based on their unique circumstances, the accuracy of results can be quite varied.\n",
        "\n",
        "### You are provided with historical sales data for 1,115 Rossmann stores. The task is to forecast the \"Sales\" column for the test set. Note that some stores in the dataset were temporarily closed for refurbishment."
      ],
      "metadata": {
        "id": "tMBM76cuSaV8"
      }
    },
    {
      "cell_type": "markdown",
      "source": [
        "# **Importing the dataset**"
      ],
      "metadata": {
        "id": "mgT6MOyySj85"
      }
    },
    {
      "cell_type": "code",
      "execution_count": null,
      "metadata": {
        "id": "UYGMeik7SQ64"
      },
      "outputs": [],
      "source": [
        "# Import the required libraries\n",
        "import pandas as pd\n",
        "import numpy as np\n",
        "import matplotlib.pyplot as plt\n",
        "import seaborn as sns\n",
        "import math\n",
        "\n",
        "import warnings\n",
        "warnings.filterwarnings(\"ignore\")"
      ]
    },
    {
      "cell_type": "code",
      "source": [
        "from google.colab import drive\n",
        "drive.mount('/content/drive')"
      ],
      "metadata": {
        "colab": {
          "base_uri": "https://localhost:8080/"
        },
        "id": "TUJQMDFoSiFx",
        "outputId": "bb01d7e1-c01d-428c-f752-38be453bfa0e"
      },
      "execution_count": null,
      "outputs": [
        {
          "output_type": "stream",
          "name": "stdout",
          "text": [
            "Mounted at /content/drive\n"
          ]
        }
      ]
    },
    {
      "cell_type": "code",
      "source": [
        "#Load all the dataset \n",
        "rossmann_stores = pd.read_csv(r\"/content/drive/MyDrive/Data_Science/Capstone_Projects/REGRESSION/Rossmann Stores Data.csv\")\n",
        "stores_df = pd.read_csv(r\"/content/drive/MyDrive/Data_Science/Capstone_Projects/REGRESSION/store.csv\")"
      ],
      "metadata": {
        "id": "jhOTQUJMSwWH"
      },
      "execution_count": null,
      "outputs": []
    },
    {
      "cell_type": "markdown",
      "source": [
        "# **Dataset Inspection**"
      ],
      "metadata": {
        "id": "_B4V5LC3S4gx"
      }
    },
    {
      "cell_type": "code",
      "source": [
        "# Explore the details of rossmann_stores file\n",
        "print(\"******The rossmann_stores csv file*******\\n\")\n",
        "print(rossmann_stores.info())\n",
        "print('-'* 100)\n",
        "print(\"******The sample data of rossmann_stores csv file******\")\n",
        "rossmann_stores.head(10)"
      ],
      "metadata": {
        "colab": {
          "base_uri": "https://localhost:8080/"
        },
        "id": "rxBQ9vfyS74i",
        "outputId": "347825a2-5463-4275-c15c-065cad9e6db9"
      },
      "execution_count": null,
      "outputs": [
        {
          "output_type": "stream",
          "name": "stdout",
          "text": [
            "******The rossmann_stores csv file*******\n",
            "\n",
            "<class 'pandas.core.frame.DataFrame'>\n",
            "RangeIndex: 1017209 entries, 0 to 1017208\n",
            "Data columns (total 9 columns):\n",
            " #   Column         Non-Null Count    Dtype \n",
            "---  ------         --------------    ----- \n",
            " 0   Store          1017209 non-null  int64 \n",
            " 1   DayOfWeek      1017209 non-null  int64 \n",
            " 2   Date           1017209 non-null  object\n",
            " 3   Sales          1017209 non-null  int64 \n",
            " 4   Customers      1017209 non-null  int64 \n",
            " 5   Open           1017209 non-null  int64 \n",
            " 6   Promo          1017209 non-null  int64 \n",
            " 7   StateHoliday   1017209 non-null  object\n",
            " 8   SchoolHoliday  1017209 non-null  int64 \n",
            "dtypes: int64(7), object(2)\n",
            "memory usage: 69.8+ MB\n",
            "None\n",
            "----------------------------------------------------------------------------------------------------\n",
            "******The sample data of rossmann_stores csv file******\n"
          ]
        },
        {
          "output_type": "execute_result",
          "data": {
            "text/plain": [
              "   Store  DayOfWeek        Date  Sales  Customers  Open  Promo StateHoliday  \\\n",
              "0      1          5  2015-07-31   5263        555     1      1            0   \n",
              "1      2          5  2015-07-31   6064        625     1      1            0   \n",
              "2      3          5  2015-07-31   8314        821     1      1            0   \n",
              "3      4          5  2015-07-31  13995       1498     1      1            0   \n",
              "4      5          5  2015-07-31   4822        559     1      1            0   \n",
              "5      6          5  2015-07-31   5651        589     1      1            0   \n",
              "6      7          5  2015-07-31  15344       1414     1      1            0   \n",
              "7      8          5  2015-07-31   8492        833     1      1            0   \n",
              "8      9          5  2015-07-31   8565        687     1      1            0   \n",
              "9     10          5  2015-07-31   7185        681     1      1            0   \n",
              "\n",
              "   SchoolHoliday  \n",
              "0              1  \n",
              "1              1  \n",
              "2              1  \n",
              "3              1  \n",
              "4              1  \n",
              "5              1  \n",
              "6              1  \n",
              "7              1  \n",
              "8              1  \n",
              "9              1  "
            ],
            "text/html": [
              "\n",
              "  <div id=\"df-5e79da74-1ee5-4d12-a75c-8c63a1754a89\">\n",
              "    <div class=\"colab-df-container\">\n",
              "      <div>\n",
              "<style scoped>\n",
              "    .dataframe tbody tr th:only-of-type {\n",
              "        vertical-align: middle;\n",
              "    }\n",
              "\n",
              "    .dataframe tbody tr th {\n",
              "        vertical-align: top;\n",
              "    }\n",
              "\n",
              "    .dataframe thead th {\n",
              "        text-align: right;\n",
              "    }\n",
              "</style>\n",
              "<table border=\"1\" class=\"dataframe\">\n",
              "  <thead>\n",
              "    <tr style=\"text-align: right;\">\n",
              "      <th></th>\n",
              "      <th>Store</th>\n",
              "      <th>DayOfWeek</th>\n",
              "      <th>Date</th>\n",
              "      <th>Sales</th>\n",
              "      <th>Customers</th>\n",
              "      <th>Open</th>\n",
              "      <th>Promo</th>\n",
              "      <th>StateHoliday</th>\n",
              "      <th>SchoolHoliday</th>\n",
              "    </tr>\n",
              "  </thead>\n",
              "  <tbody>\n",
              "    <tr>\n",
              "      <th>0</th>\n",
              "      <td>1</td>\n",
              "      <td>5</td>\n",
              "      <td>2015-07-31</td>\n",
              "      <td>5263</td>\n",
              "      <td>555</td>\n",
              "      <td>1</td>\n",
              "      <td>1</td>\n",
              "      <td>0</td>\n",
              "      <td>1</td>\n",
              "    </tr>\n",
              "    <tr>\n",
              "      <th>1</th>\n",
              "      <td>2</td>\n",
              "      <td>5</td>\n",
              "      <td>2015-07-31</td>\n",
              "      <td>6064</td>\n",
              "      <td>625</td>\n",
              "      <td>1</td>\n",
              "      <td>1</td>\n",
              "      <td>0</td>\n",
              "      <td>1</td>\n",
              "    </tr>\n",
              "    <tr>\n",
              "      <th>2</th>\n",
              "      <td>3</td>\n",
              "      <td>5</td>\n",
              "      <td>2015-07-31</td>\n",
              "      <td>8314</td>\n",
              "      <td>821</td>\n",
              "      <td>1</td>\n",
              "      <td>1</td>\n",
              "      <td>0</td>\n",
              "      <td>1</td>\n",
              "    </tr>\n",
              "    <tr>\n",
              "      <th>3</th>\n",
              "      <td>4</td>\n",
              "      <td>5</td>\n",
              "      <td>2015-07-31</td>\n",
              "      <td>13995</td>\n",
              "      <td>1498</td>\n",
              "      <td>1</td>\n",
              "      <td>1</td>\n",
              "      <td>0</td>\n",
              "      <td>1</td>\n",
              "    </tr>\n",
              "    <tr>\n",
              "      <th>4</th>\n",
              "      <td>5</td>\n",
              "      <td>5</td>\n",
              "      <td>2015-07-31</td>\n",
              "      <td>4822</td>\n",
              "      <td>559</td>\n",
              "      <td>1</td>\n",
              "      <td>1</td>\n",
              "      <td>0</td>\n",
              "      <td>1</td>\n",
              "    </tr>\n",
              "    <tr>\n",
              "      <th>5</th>\n",
              "      <td>6</td>\n",
              "      <td>5</td>\n",
              "      <td>2015-07-31</td>\n",
              "      <td>5651</td>\n",
              "      <td>589</td>\n",
              "      <td>1</td>\n",
              "      <td>1</td>\n",
              "      <td>0</td>\n",
              "      <td>1</td>\n",
              "    </tr>\n",
              "    <tr>\n",
              "      <th>6</th>\n",
              "      <td>7</td>\n",
              "      <td>5</td>\n",
              "      <td>2015-07-31</td>\n",
              "      <td>15344</td>\n",
              "      <td>1414</td>\n",
              "      <td>1</td>\n",
              "      <td>1</td>\n",
              "      <td>0</td>\n",
              "      <td>1</td>\n",
              "    </tr>\n",
              "    <tr>\n",
              "      <th>7</th>\n",
              "      <td>8</td>\n",
              "      <td>5</td>\n",
              "      <td>2015-07-31</td>\n",
              "      <td>8492</td>\n",
              "      <td>833</td>\n",
              "      <td>1</td>\n",
              "      <td>1</td>\n",
              "      <td>0</td>\n",
              "      <td>1</td>\n",
              "    </tr>\n",
              "    <tr>\n",
              "      <th>8</th>\n",
              "      <td>9</td>\n",
              "      <td>5</td>\n",
              "      <td>2015-07-31</td>\n",
              "      <td>8565</td>\n",
              "      <td>687</td>\n",
              "      <td>1</td>\n",
              "      <td>1</td>\n",
              "      <td>0</td>\n",
              "      <td>1</td>\n",
              "    </tr>\n",
              "    <tr>\n",
              "      <th>9</th>\n",
              "      <td>10</td>\n",
              "      <td>5</td>\n",
              "      <td>2015-07-31</td>\n",
              "      <td>7185</td>\n",
              "      <td>681</td>\n",
              "      <td>1</td>\n",
              "      <td>1</td>\n",
              "      <td>0</td>\n",
              "      <td>1</td>\n",
              "    </tr>\n",
              "  </tbody>\n",
              "</table>\n",
              "</div>\n",
              "      <button class=\"colab-df-convert\" onclick=\"convertToInteractive('df-5e79da74-1ee5-4d12-a75c-8c63a1754a89')\"\n",
              "              title=\"Convert this dataframe to an interactive table.\"\n",
              "              style=\"display:none;\">\n",
              "        \n",
              "  <svg xmlns=\"http://www.w3.org/2000/svg\" height=\"24px\"viewBox=\"0 0 24 24\"\n",
              "       width=\"24px\">\n",
              "    <path d=\"M0 0h24v24H0V0z\" fill=\"none\"/>\n",
              "    <path d=\"M18.56 5.44l.94 2.06.94-2.06 2.06-.94-2.06-.94-.94-2.06-.94 2.06-2.06.94zm-11 1L8.5 8.5l.94-2.06 2.06-.94-2.06-.94L8.5 2.5l-.94 2.06-2.06.94zm10 10l.94 2.06.94-2.06 2.06-.94-2.06-.94-.94-2.06-.94 2.06-2.06.94z\"/><path d=\"M17.41 7.96l-1.37-1.37c-.4-.4-.92-.59-1.43-.59-.52 0-1.04.2-1.43.59L10.3 9.45l-7.72 7.72c-.78.78-.78 2.05 0 2.83L4 21.41c.39.39.9.59 1.41.59.51 0 1.02-.2 1.41-.59l7.78-7.78 2.81-2.81c.8-.78.8-2.07 0-2.86zM5.41 20L4 18.59l7.72-7.72 1.47 1.35L5.41 20z\"/>\n",
              "  </svg>\n",
              "      </button>\n",
              "      \n",
              "  <style>\n",
              "    .colab-df-container {\n",
              "      display:flex;\n",
              "      flex-wrap:wrap;\n",
              "      gap: 12px;\n",
              "    }\n",
              "\n",
              "    .colab-df-convert {\n",
              "      background-color: #E8F0FE;\n",
              "      border: none;\n",
              "      border-radius: 50%;\n",
              "      cursor: pointer;\n",
              "      display: none;\n",
              "      fill: #1967D2;\n",
              "      height: 32px;\n",
              "      padding: 0 0 0 0;\n",
              "      width: 32px;\n",
              "    }\n",
              "\n",
              "    .colab-df-convert:hover {\n",
              "      background-color: #E2EBFA;\n",
              "      box-shadow: 0px 1px 2px rgba(60, 64, 67, 0.3), 0px 1px 3px 1px rgba(60, 64, 67, 0.15);\n",
              "      fill: #174EA6;\n",
              "    }\n",
              "\n",
              "    [theme=dark] .colab-df-convert {\n",
              "      background-color: #3B4455;\n",
              "      fill: #D2E3FC;\n",
              "    }\n",
              "\n",
              "    [theme=dark] .colab-df-convert:hover {\n",
              "      background-color: #434B5C;\n",
              "      box-shadow: 0px 1px 3px 1px rgba(0, 0, 0, 0.15);\n",
              "      filter: drop-shadow(0px 1px 2px rgba(0, 0, 0, 0.3));\n",
              "      fill: #FFFFFF;\n",
              "    }\n",
              "  </style>\n",
              "\n",
              "      <script>\n",
              "        const buttonEl =\n",
              "          document.querySelector('#df-5e79da74-1ee5-4d12-a75c-8c63a1754a89 button.colab-df-convert');\n",
              "        buttonEl.style.display =\n",
              "          google.colab.kernel.accessAllowed ? 'block' : 'none';\n",
              "\n",
              "        async function convertToInteractive(key) {\n",
              "          const element = document.querySelector('#df-5e79da74-1ee5-4d12-a75c-8c63a1754a89');\n",
              "          const dataTable =\n",
              "            await google.colab.kernel.invokeFunction('convertToInteractive',\n",
              "                                                     [key], {});\n",
              "          if (!dataTable) return;\n",
              "\n",
              "          const docLinkHtml = 'Like what you see? Visit the ' +\n",
              "            '<a target=\"_blank\" href=https://colab.research.google.com/notebooks/data_table.ipynb>data table notebook</a>'\n",
              "            + ' to learn more about interactive tables.';\n",
              "          element.innerHTML = '';\n",
              "          dataTable['output_type'] = 'display_data';\n",
              "          await google.colab.output.renderOutput(dataTable, element);\n",
              "          const docLink = document.createElement('div');\n",
              "          docLink.innerHTML = docLinkHtml;\n",
              "          element.appendChild(docLink);\n",
              "        }\n",
              "      </script>\n",
              "    </div>\n",
              "  </div>\n",
              "  "
            ]
          },
          "metadata": {},
          "execution_count": 5
        }
      ]
    },
    {
      "cell_type": "code",
      "source": [
        "# Explore the details of Stores csv file\n",
        "print(\"*********8The Stores csv file************ \\n \\n\")\n",
        "print(stores_df.info())\n",
        "print('-'* 100)\n",
        "print(\"*********The sample data of stores csv file*********\\n\\n\")\n",
        "stores_df.head(10)"
      ],
      "metadata": {
        "colab": {
          "base_uri": "https://localhost:8080/"
        },
        "id": "38hN_njLTdu3",
        "outputId": "6db6b8d2-b366-44a6-a092-dd9704b272bc"
      },
      "execution_count": null,
      "outputs": [
        {
          "output_type": "stream",
          "name": "stdout",
          "text": [
            "*********8The Stores csv file************ \n",
            " \n",
            "\n",
            "<class 'pandas.core.frame.DataFrame'>\n",
            "RangeIndex: 1115 entries, 0 to 1114\n",
            "Data columns (total 10 columns):\n",
            " #   Column                     Non-Null Count  Dtype  \n",
            "---  ------                     --------------  -----  \n",
            " 0   Store                      1115 non-null   int64  \n",
            " 1   StoreType                  1115 non-null   object \n",
            " 2   Assortment                 1115 non-null   object \n",
            " 3   CompetitionDistance        1112 non-null   float64\n",
            " 4   CompetitionOpenSinceMonth  761 non-null    float64\n",
            " 5   CompetitionOpenSinceYear   761 non-null    float64\n",
            " 6   Promo2                     1115 non-null   int64  \n",
            " 7   Promo2SinceWeek            571 non-null    float64\n",
            " 8   Promo2SinceYear            571 non-null    float64\n",
            " 9   PromoInterval              571 non-null    object \n",
            "dtypes: float64(5), int64(2), object(3)\n",
            "memory usage: 87.2+ KB\n",
            "None\n",
            "----------------------------------------------------------------------------------------------------\n",
            "*********The sample data of stores csv file*********\n",
            "\n",
            "\n"
          ]
        },
        {
          "output_type": "execute_result",
          "data": {
            "text/plain": [
              "   Store StoreType Assortment  CompetitionDistance  CompetitionOpenSinceMonth  \\\n",
              "0      1         c          a               1270.0                        9.0   \n",
              "1      2         a          a                570.0                       11.0   \n",
              "2      3         a          a              14130.0                       12.0   \n",
              "3      4         c          c                620.0                        9.0   \n",
              "4      5         a          a              29910.0                        4.0   \n",
              "5      6         a          a                310.0                       12.0   \n",
              "6      7         a          c              24000.0                        4.0   \n",
              "7      8         a          a               7520.0                       10.0   \n",
              "8      9         a          c               2030.0                        8.0   \n",
              "9     10         a          a               3160.0                        9.0   \n",
              "\n",
              "   CompetitionOpenSinceYear  Promo2  Promo2SinceWeek  Promo2SinceYear  \\\n",
              "0                    2008.0       0              NaN              NaN   \n",
              "1                    2007.0       1             13.0           2010.0   \n",
              "2                    2006.0       1             14.0           2011.0   \n",
              "3                    2009.0       0              NaN              NaN   \n",
              "4                    2015.0       0              NaN              NaN   \n",
              "5                    2013.0       0              NaN              NaN   \n",
              "6                    2013.0       0              NaN              NaN   \n",
              "7                    2014.0       0              NaN              NaN   \n",
              "8                    2000.0       0              NaN              NaN   \n",
              "9                    2009.0       0              NaN              NaN   \n",
              "\n",
              "     PromoInterval  \n",
              "0              NaN  \n",
              "1  Jan,Apr,Jul,Oct  \n",
              "2  Jan,Apr,Jul,Oct  \n",
              "3              NaN  \n",
              "4              NaN  \n",
              "5              NaN  \n",
              "6              NaN  \n",
              "7              NaN  \n",
              "8              NaN  \n",
              "9              NaN  "
            ],
            "text/html": [
              "\n",
              "  <div id=\"df-65837212-93f1-4579-adeb-bd35c16c9227\">\n",
              "    <div class=\"colab-df-container\">\n",
              "      <div>\n",
              "<style scoped>\n",
              "    .dataframe tbody tr th:only-of-type {\n",
              "        vertical-align: middle;\n",
              "    }\n",
              "\n",
              "    .dataframe tbody tr th {\n",
              "        vertical-align: top;\n",
              "    }\n",
              "\n",
              "    .dataframe thead th {\n",
              "        text-align: right;\n",
              "    }\n",
              "</style>\n",
              "<table border=\"1\" class=\"dataframe\">\n",
              "  <thead>\n",
              "    <tr style=\"text-align: right;\">\n",
              "      <th></th>\n",
              "      <th>Store</th>\n",
              "      <th>StoreType</th>\n",
              "      <th>Assortment</th>\n",
              "      <th>CompetitionDistance</th>\n",
              "      <th>CompetitionOpenSinceMonth</th>\n",
              "      <th>CompetitionOpenSinceYear</th>\n",
              "      <th>Promo2</th>\n",
              "      <th>Promo2SinceWeek</th>\n",
              "      <th>Promo2SinceYear</th>\n",
              "      <th>PromoInterval</th>\n",
              "    </tr>\n",
              "  </thead>\n",
              "  <tbody>\n",
              "    <tr>\n",
              "      <th>0</th>\n",
              "      <td>1</td>\n",
              "      <td>c</td>\n",
              "      <td>a</td>\n",
              "      <td>1270.0</td>\n",
              "      <td>9.0</td>\n",
              "      <td>2008.0</td>\n",
              "      <td>0</td>\n",
              "      <td>NaN</td>\n",
              "      <td>NaN</td>\n",
              "      <td>NaN</td>\n",
              "    </tr>\n",
              "    <tr>\n",
              "      <th>1</th>\n",
              "      <td>2</td>\n",
              "      <td>a</td>\n",
              "      <td>a</td>\n",
              "      <td>570.0</td>\n",
              "      <td>11.0</td>\n",
              "      <td>2007.0</td>\n",
              "      <td>1</td>\n",
              "      <td>13.0</td>\n",
              "      <td>2010.0</td>\n",
              "      <td>Jan,Apr,Jul,Oct</td>\n",
              "    </tr>\n",
              "    <tr>\n",
              "      <th>2</th>\n",
              "      <td>3</td>\n",
              "      <td>a</td>\n",
              "      <td>a</td>\n",
              "      <td>14130.0</td>\n",
              "      <td>12.0</td>\n",
              "      <td>2006.0</td>\n",
              "      <td>1</td>\n",
              "      <td>14.0</td>\n",
              "      <td>2011.0</td>\n",
              "      <td>Jan,Apr,Jul,Oct</td>\n",
              "    </tr>\n",
              "    <tr>\n",
              "      <th>3</th>\n",
              "      <td>4</td>\n",
              "      <td>c</td>\n",
              "      <td>c</td>\n",
              "      <td>620.0</td>\n",
              "      <td>9.0</td>\n",
              "      <td>2009.0</td>\n",
              "      <td>0</td>\n",
              "      <td>NaN</td>\n",
              "      <td>NaN</td>\n",
              "      <td>NaN</td>\n",
              "    </tr>\n",
              "    <tr>\n",
              "      <th>4</th>\n",
              "      <td>5</td>\n",
              "      <td>a</td>\n",
              "      <td>a</td>\n",
              "      <td>29910.0</td>\n",
              "      <td>4.0</td>\n",
              "      <td>2015.0</td>\n",
              "      <td>0</td>\n",
              "      <td>NaN</td>\n",
              "      <td>NaN</td>\n",
              "      <td>NaN</td>\n",
              "    </tr>\n",
              "    <tr>\n",
              "      <th>5</th>\n",
              "      <td>6</td>\n",
              "      <td>a</td>\n",
              "      <td>a</td>\n",
              "      <td>310.0</td>\n",
              "      <td>12.0</td>\n",
              "      <td>2013.0</td>\n",
              "      <td>0</td>\n",
              "      <td>NaN</td>\n",
              "      <td>NaN</td>\n",
              "      <td>NaN</td>\n",
              "    </tr>\n",
              "    <tr>\n",
              "      <th>6</th>\n",
              "      <td>7</td>\n",
              "      <td>a</td>\n",
              "      <td>c</td>\n",
              "      <td>24000.0</td>\n",
              "      <td>4.0</td>\n",
              "      <td>2013.0</td>\n",
              "      <td>0</td>\n",
              "      <td>NaN</td>\n",
              "      <td>NaN</td>\n",
              "      <td>NaN</td>\n",
              "    </tr>\n",
              "    <tr>\n",
              "      <th>7</th>\n",
              "      <td>8</td>\n",
              "      <td>a</td>\n",
              "      <td>a</td>\n",
              "      <td>7520.0</td>\n",
              "      <td>10.0</td>\n",
              "      <td>2014.0</td>\n",
              "      <td>0</td>\n",
              "      <td>NaN</td>\n",
              "      <td>NaN</td>\n",
              "      <td>NaN</td>\n",
              "    </tr>\n",
              "    <tr>\n",
              "      <th>8</th>\n",
              "      <td>9</td>\n",
              "      <td>a</td>\n",
              "      <td>c</td>\n",
              "      <td>2030.0</td>\n",
              "      <td>8.0</td>\n",
              "      <td>2000.0</td>\n",
              "      <td>0</td>\n",
              "      <td>NaN</td>\n",
              "      <td>NaN</td>\n",
              "      <td>NaN</td>\n",
              "    </tr>\n",
              "    <tr>\n",
              "      <th>9</th>\n",
              "      <td>10</td>\n",
              "      <td>a</td>\n",
              "      <td>a</td>\n",
              "      <td>3160.0</td>\n",
              "      <td>9.0</td>\n",
              "      <td>2009.0</td>\n",
              "      <td>0</td>\n",
              "      <td>NaN</td>\n",
              "      <td>NaN</td>\n",
              "      <td>NaN</td>\n",
              "    </tr>\n",
              "  </tbody>\n",
              "</table>\n",
              "</div>\n",
              "      <button class=\"colab-df-convert\" onclick=\"convertToInteractive('df-65837212-93f1-4579-adeb-bd35c16c9227')\"\n",
              "              title=\"Convert this dataframe to an interactive table.\"\n",
              "              style=\"display:none;\">\n",
              "        \n",
              "  <svg xmlns=\"http://www.w3.org/2000/svg\" height=\"24px\"viewBox=\"0 0 24 24\"\n",
              "       width=\"24px\">\n",
              "    <path d=\"M0 0h24v24H0V0z\" fill=\"none\"/>\n",
              "    <path d=\"M18.56 5.44l.94 2.06.94-2.06 2.06-.94-2.06-.94-.94-2.06-.94 2.06-2.06.94zm-11 1L8.5 8.5l.94-2.06 2.06-.94-2.06-.94L8.5 2.5l-.94 2.06-2.06.94zm10 10l.94 2.06.94-2.06 2.06-.94-2.06-.94-.94-2.06-.94 2.06-2.06.94z\"/><path d=\"M17.41 7.96l-1.37-1.37c-.4-.4-.92-.59-1.43-.59-.52 0-1.04.2-1.43.59L10.3 9.45l-7.72 7.72c-.78.78-.78 2.05 0 2.83L4 21.41c.39.39.9.59 1.41.59.51 0 1.02-.2 1.41-.59l7.78-7.78 2.81-2.81c.8-.78.8-2.07 0-2.86zM5.41 20L4 18.59l7.72-7.72 1.47 1.35L5.41 20z\"/>\n",
              "  </svg>\n",
              "      </button>\n",
              "      \n",
              "  <style>\n",
              "    .colab-df-container {\n",
              "      display:flex;\n",
              "      flex-wrap:wrap;\n",
              "      gap: 12px;\n",
              "    }\n",
              "\n",
              "    .colab-df-convert {\n",
              "      background-color: #E8F0FE;\n",
              "      border: none;\n",
              "      border-radius: 50%;\n",
              "      cursor: pointer;\n",
              "      display: none;\n",
              "      fill: #1967D2;\n",
              "      height: 32px;\n",
              "      padding: 0 0 0 0;\n",
              "      width: 32px;\n",
              "    }\n",
              "\n",
              "    .colab-df-convert:hover {\n",
              "      background-color: #E2EBFA;\n",
              "      box-shadow: 0px 1px 2px rgba(60, 64, 67, 0.3), 0px 1px 3px 1px rgba(60, 64, 67, 0.15);\n",
              "      fill: #174EA6;\n",
              "    }\n",
              "\n",
              "    [theme=dark] .colab-df-convert {\n",
              "      background-color: #3B4455;\n",
              "      fill: #D2E3FC;\n",
              "    }\n",
              "\n",
              "    [theme=dark] .colab-df-convert:hover {\n",
              "      background-color: #434B5C;\n",
              "      box-shadow: 0px 1px 3px 1px rgba(0, 0, 0, 0.15);\n",
              "      filter: drop-shadow(0px 1px 2px rgba(0, 0, 0, 0.3));\n",
              "      fill: #FFFFFF;\n",
              "    }\n",
              "  </style>\n",
              "\n",
              "      <script>\n",
              "        const buttonEl =\n",
              "          document.querySelector('#df-65837212-93f1-4579-adeb-bd35c16c9227 button.colab-df-convert');\n",
              "        buttonEl.style.display =\n",
              "          google.colab.kernel.accessAllowed ? 'block' : 'none';\n",
              "\n",
              "        async function convertToInteractive(key) {\n",
              "          const element = document.querySelector('#df-65837212-93f1-4579-adeb-bd35c16c9227');\n",
              "          const dataTable =\n",
              "            await google.colab.kernel.invokeFunction('convertToInteractive',\n",
              "                                                     [key], {});\n",
              "          if (!dataTable) return;\n",
              "\n",
              "          const docLinkHtml = 'Like what you see? Visit the ' +\n",
              "            '<a target=\"_blank\" href=https://colab.research.google.com/notebooks/data_table.ipynb>data table notebook</a>'\n",
              "            + ' to learn more about interactive tables.';\n",
              "          element.innerHTML = '';\n",
              "          dataTable['output_type'] = 'display_data';\n",
              "          await google.colab.output.renderOutput(dataTable, element);\n",
              "          const docLink = document.createElement('div');\n",
              "          docLink.innerHTML = docLinkHtml;\n",
              "          element.appendChild(docLink);\n",
              "        }\n",
              "      </script>\n",
              "    </div>\n",
              "  </div>\n",
              "  "
            ]
          },
          "metadata": {},
          "execution_count": 6
        }
      ]
    },
    {
      "cell_type": "markdown",
      "source": [
        "\n",
        "*  From the Rossmann_stores file , we can able to observe that , it contains daily sales data of each store\n",
        "*  While stores csv file, contains 1115 rossmann stores details - store type, store promotional activities, nearest competetive store details"
      ],
      "metadata": {
        "id": "Or_zCX4jTtuI"
      }
    },
    {
      "cell_type": "code",
      "source": [
        "# Merge the (Rossmann_stores file,stores csv file) with unique variable in both the files- 'Store'\n",
        "df = pd.merge(rossmann_stores,stores_df,on= 'Store',how='left')"
      ],
      "metadata": {
        "id": "o9bKyx2gTPj_"
      },
      "execution_count": null,
      "outputs": []
    },
    {
      "cell_type": "code",
      "source": [
        "df.describe(include='all')"
      ],
      "metadata": {
        "colab": {
          "base_uri": "https://localhost:8080/"
        },
        "id": "D1eg3CcRT9fa",
        "outputId": "181c06b5-d0aa-4a28-c0fb-dec0d81d767b"
      },
      "execution_count": null,
      "outputs": [
        {
          "output_type": "execute_result",
          "data": {
            "text/plain": [
              "               Store     DayOfWeek        Date         Sales     Customers  \\\n",
              "count   1.017209e+06  1.017209e+06     1017209  1.017209e+06  1.017209e+06   \n",
              "unique           NaN           NaN         942           NaN           NaN   \n",
              "top              NaN           NaN  2015-07-31           NaN           NaN   \n",
              "freq             NaN           NaN        1115           NaN           NaN   \n",
              "mean    5.584297e+02  3.998341e+00         NaN  5.773819e+03  6.331459e+02   \n",
              "std     3.219087e+02  1.997391e+00         NaN  3.849926e+03  4.644117e+02   \n",
              "min     1.000000e+00  1.000000e+00         NaN  0.000000e+00  0.000000e+00   \n",
              "25%     2.800000e+02  2.000000e+00         NaN  3.727000e+03  4.050000e+02   \n",
              "50%     5.580000e+02  4.000000e+00         NaN  5.744000e+03  6.090000e+02   \n",
              "75%     8.380000e+02  6.000000e+00         NaN  7.856000e+03  8.370000e+02   \n",
              "max     1.115000e+03  7.000000e+00         NaN  4.155100e+04  7.388000e+03   \n",
              "\n",
              "                Open         Promo StateHoliday  SchoolHoliday StoreType  \\\n",
              "count   1.017209e+06  1.017209e+06      1017209   1.017209e+06   1017209   \n",
              "unique           NaN           NaN            5            NaN         4   \n",
              "top              NaN           NaN            0            NaN         a   \n",
              "freq             NaN           NaN       855087            NaN    551627   \n",
              "mean    8.301067e-01  3.815145e-01          NaN   1.786467e-01       NaN   \n",
              "std     3.755392e-01  4.857586e-01          NaN   3.830564e-01       NaN   \n",
              "min     0.000000e+00  0.000000e+00          NaN   0.000000e+00       NaN   \n",
              "25%     1.000000e+00  0.000000e+00          NaN   0.000000e+00       NaN   \n",
              "50%     1.000000e+00  0.000000e+00          NaN   0.000000e+00       NaN   \n",
              "75%     1.000000e+00  1.000000e+00          NaN   0.000000e+00       NaN   \n",
              "max     1.000000e+00  1.000000e+00          NaN   1.000000e+00       NaN   \n",
              "\n",
              "       Assortment  CompetitionDistance  CompetitionOpenSinceMonth  \\\n",
              "count     1017209         1.014567e+06              693861.000000   \n",
              "unique          3                  NaN                        NaN   \n",
              "top             a                  NaN                        NaN   \n",
              "freq       537445                  NaN                        NaN   \n",
              "mean          NaN         5.430086e+03                   7.222866   \n",
              "std           NaN         7.715324e+03                   3.211832   \n",
              "min           NaN         2.000000e+01                   1.000000   \n",
              "25%           NaN         7.100000e+02                   4.000000   \n",
              "50%           NaN         2.330000e+03                   8.000000   \n",
              "75%           NaN         6.890000e+03                  10.000000   \n",
              "max           NaN         7.586000e+04                  12.000000   \n",
              "\n",
              "        CompetitionOpenSinceYear        Promo2  Promo2SinceWeek  \\\n",
              "count              693861.000000  1.017209e+06    509178.000000   \n",
              "unique                       NaN           NaN              NaN   \n",
              "top                          NaN           NaN              NaN   \n",
              "freq                         NaN           NaN              NaN   \n",
              "mean                 2008.690228  5.005638e-01        23.269093   \n",
              "std                     5.992644  4.999999e-01        14.095973   \n",
              "min                  1900.000000  0.000000e+00         1.000000   \n",
              "25%                  2006.000000  0.000000e+00        13.000000   \n",
              "50%                  2010.000000  1.000000e+00        22.000000   \n",
              "75%                  2013.000000  1.000000e+00        37.000000   \n",
              "max                  2015.000000  1.000000e+00        50.000000   \n",
              "\n",
              "        Promo2SinceYear    PromoInterval  \n",
              "count     509178.000000           509178  \n",
              "unique              NaN                3  \n",
              "top                 NaN  Jan,Apr,Jul,Oct  \n",
              "freq                NaN           293122  \n",
              "mean        2011.752774              NaN  \n",
              "std            1.662870              NaN  \n",
              "min         2009.000000              NaN  \n",
              "25%         2011.000000              NaN  \n",
              "50%         2012.000000              NaN  \n",
              "75%         2013.000000              NaN  \n",
              "max         2015.000000              NaN  "
            ],
            "text/html": [
              "\n",
              "  <div id=\"df-aa49dc49-65ac-4130-aa2b-83a8cfa729f3\">\n",
              "    <div class=\"colab-df-container\">\n",
              "      <div>\n",
              "<style scoped>\n",
              "    .dataframe tbody tr th:only-of-type {\n",
              "        vertical-align: middle;\n",
              "    }\n",
              "\n",
              "    .dataframe tbody tr th {\n",
              "        vertical-align: top;\n",
              "    }\n",
              "\n",
              "    .dataframe thead th {\n",
              "        text-align: right;\n",
              "    }\n",
              "</style>\n",
              "<table border=\"1\" class=\"dataframe\">\n",
              "  <thead>\n",
              "    <tr style=\"text-align: right;\">\n",
              "      <th></th>\n",
              "      <th>Store</th>\n",
              "      <th>DayOfWeek</th>\n",
              "      <th>Date</th>\n",
              "      <th>Sales</th>\n",
              "      <th>Customers</th>\n",
              "      <th>Open</th>\n",
              "      <th>Promo</th>\n",
              "      <th>StateHoliday</th>\n",
              "      <th>SchoolHoliday</th>\n",
              "      <th>StoreType</th>\n",
              "      <th>Assortment</th>\n",
              "      <th>CompetitionDistance</th>\n",
              "      <th>CompetitionOpenSinceMonth</th>\n",
              "      <th>CompetitionOpenSinceYear</th>\n",
              "      <th>Promo2</th>\n",
              "      <th>Promo2SinceWeek</th>\n",
              "      <th>Promo2SinceYear</th>\n",
              "      <th>PromoInterval</th>\n",
              "    </tr>\n",
              "  </thead>\n",
              "  <tbody>\n",
              "    <tr>\n",
              "      <th>count</th>\n",
              "      <td>1.017209e+06</td>\n",
              "      <td>1.017209e+06</td>\n",
              "      <td>1017209</td>\n",
              "      <td>1.017209e+06</td>\n",
              "      <td>1.017209e+06</td>\n",
              "      <td>1.017209e+06</td>\n",
              "      <td>1.017209e+06</td>\n",
              "      <td>1017209</td>\n",
              "      <td>1.017209e+06</td>\n",
              "      <td>1017209</td>\n",
              "      <td>1017209</td>\n",
              "      <td>1.014567e+06</td>\n",
              "      <td>693861.000000</td>\n",
              "      <td>693861.000000</td>\n",
              "      <td>1.017209e+06</td>\n",
              "      <td>509178.000000</td>\n",
              "      <td>509178.000000</td>\n",
              "      <td>509178</td>\n",
              "    </tr>\n",
              "    <tr>\n",
              "      <th>unique</th>\n",
              "      <td>NaN</td>\n",
              "      <td>NaN</td>\n",
              "      <td>942</td>\n",
              "      <td>NaN</td>\n",
              "      <td>NaN</td>\n",
              "      <td>NaN</td>\n",
              "      <td>NaN</td>\n",
              "      <td>5</td>\n",
              "      <td>NaN</td>\n",
              "      <td>4</td>\n",
              "      <td>3</td>\n",
              "      <td>NaN</td>\n",
              "      <td>NaN</td>\n",
              "      <td>NaN</td>\n",
              "      <td>NaN</td>\n",
              "      <td>NaN</td>\n",
              "      <td>NaN</td>\n",
              "      <td>3</td>\n",
              "    </tr>\n",
              "    <tr>\n",
              "      <th>top</th>\n",
              "      <td>NaN</td>\n",
              "      <td>NaN</td>\n",
              "      <td>2015-07-31</td>\n",
              "      <td>NaN</td>\n",
              "      <td>NaN</td>\n",
              "      <td>NaN</td>\n",
              "      <td>NaN</td>\n",
              "      <td>0</td>\n",
              "      <td>NaN</td>\n",
              "      <td>a</td>\n",
              "      <td>a</td>\n",
              "      <td>NaN</td>\n",
              "      <td>NaN</td>\n",
              "      <td>NaN</td>\n",
              "      <td>NaN</td>\n",
              "      <td>NaN</td>\n",
              "      <td>NaN</td>\n",
              "      <td>Jan,Apr,Jul,Oct</td>\n",
              "    </tr>\n",
              "    <tr>\n",
              "      <th>freq</th>\n",
              "      <td>NaN</td>\n",
              "      <td>NaN</td>\n",
              "      <td>1115</td>\n",
              "      <td>NaN</td>\n",
              "      <td>NaN</td>\n",
              "      <td>NaN</td>\n",
              "      <td>NaN</td>\n",
              "      <td>855087</td>\n",
              "      <td>NaN</td>\n",
              "      <td>551627</td>\n",
              "      <td>537445</td>\n",
              "      <td>NaN</td>\n",
              "      <td>NaN</td>\n",
              "      <td>NaN</td>\n",
              "      <td>NaN</td>\n",
              "      <td>NaN</td>\n",
              "      <td>NaN</td>\n",
              "      <td>293122</td>\n",
              "    </tr>\n",
              "    <tr>\n",
              "      <th>mean</th>\n",
              "      <td>5.584297e+02</td>\n",
              "      <td>3.998341e+00</td>\n",
              "      <td>NaN</td>\n",
              "      <td>5.773819e+03</td>\n",
              "      <td>6.331459e+02</td>\n",
              "      <td>8.301067e-01</td>\n",
              "      <td>3.815145e-01</td>\n",
              "      <td>NaN</td>\n",
              "      <td>1.786467e-01</td>\n",
              "      <td>NaN</td>\n",
              "      <td>NaN</td>\n",
              "      <td>5.430086e+03</td>\n",
              "      <td>7.222866</td>\n",
              "      <td>2008.690228</td>\n",
              "      <td>5.005638e-01</td>\n",
              "      <td>23.269093</td>\n",
              "      <td>2011.752774</td>\n",
              "      <td>NaN</td>\n",
              "    </tr>\n",
              "    <tr>\n",
              "      <th>std</th>\n",
              "      <td>3.219087e+02</td>\n",
              "      <td>1.997391e+00</td>\n",
              "      <td>NaN</td>\n",
              "      <td>3.849926e+03</td>\n",
              "      <td>4.644117e+02</td>\n",
              "      <td>3.755392e-01</td>\n",
              "      <td>4.857586e-01</td>\n",
              "      <td>NaN</td>\n",
              "      <td>3.830564e-01</td>\n",
              "      <td>NaN</td>\n",
              "      <td>NaN</td>\n",
              "      <td>7.715324e+03</td>\n",
              "      <td>3.211832</td>\n",
              "      <td>5.992644</td>\n",
              "      <td>4.999999e-01</td>\n",
              "      <td>14.095973</td>\n",
              "      <td>1.662870</td>\n",
              "      <td>NaN</td>\n",
              "    </tr>\n",
              "    <tr>\n",
              "      <th>min</th>\n",
              "      <td>1.000000e+00</td>\n",
              "      <td>1.000000e+00</td>\n",
              "      <td>NaN</td>\n",
              "      <td>0.000000e+00</td>\n",
              "      <td>0.000000e+00</td>\n",
              "      <td>0.000000e+00</td>\n",
              "      <td>0.000000e+00</td>\n",
              "      <td>NaN</td>\n",
              "      <td>0.000000e+00</td>\n",
              "      <td>NaN</td>\n",
              "      <td>NaN</td>\n",
              "      <td>2.000000e+01</td>\n",
              "      <td>1.000000</td>\n",
              "      <td>1900.000000</td>\n",
              "      <td>0.000000e+00</td>\n",
              "      <td>1.000000</td>\n",
              "      <td>2009.000000</td>\n",
              "      <td>NaN</td>\n",
              "    </tr>\n",
              "    <tr>\n",
              "      <th>25%</th>\n",
              "      <td>2.800000e+02</td>\n",
              "      <td>2.000000e+00</td>\n",
              "      <td>NaN</td>\n",
              "      <td>3.727000e+03</td>\n",
              "      <td>4.050000e+02</td>\n",
              "      <td>1.000000e+00</td>\n",
              "      <td>0.000000e+00</td>\n",
              "      <td>NaN</td>\n",
              "      <td>0.000000e+00</td>\n",
              "      <td>NaN</td>\n",
              "      <td>NaN</td>\n",
              "      <td>7.100000e+02</td>\n",
              "      <td>4.000000</td>\n",
              "      <td>2006.000000</td>\n",
              "      <td>0.000000e+00</td>\n",
              "      <td>13.000000</td>\n",
              "      <td>2011.000000</td>\n",
              "      <td>NaN</td>\n",
              "    </tr>\n",
              "    <tr>\n",
              "      <th>50%</th>\n",
              "      <td>5.580000e+02</td>\n",
              "      <td>4.000000e+00</td>\n",
              "      <td>NaN</td>\n",
              "      <td>5.744000e+03</td>\n",
              "      <td>6.090000e+02</td>\n",
              "      <td>1.000000e+00</td>\n",
              "      <td>0.000000e+00</td>\n",
              "      <td>NaN</td>\n",
              "      <td>0.000000e+00</td>\n",
              "      <td>NaN</td>\n",
              "      <td>NaN</td>\n",
              "      <td>2.330000e+03</td>\n",
              "      <td>8.000000</td>\n",
              "      <td>2010.000000</td>\n",
              "      <td>1.000000e+00</td>\n",
              "      <td>22.000000</td>\n",
              "      <td>2012.000000</td>\n",
              "      <td>NaN</td>\n",
              "    </tr>\n",
              "    <tr>\n",
              "      <th>75%</th>\n",
              "      <td>8.380000e+02</td>\n",
              "      <td>6.000000e+00</td>\n",
              "      <td>NaN</td>\n",
              "      <td>7.856000e+03</td>\n",
              "      <td>8.370000e+02</td>\n",
              "      <td>1.000000e+00</td>\n",
              "      <td>1.000000e+00</td>\n",
              "      <td>NaN</td>\n",
              "      <td>0.000000e+00</td>\n",
              "      <td>NaN</td>\n",
              "      <td>NaN</td>\n",
              "      <td>6.890000e+03</td>\n",
              "      <td>10.000000</td>\n",
              "      <td>2013.000000</td>\n",
              "      <td>1.000000e+00</td>\n",
              "      <td>37.000000</td>\n",
              "      <td>2013.000000</td>\n",
              "      <td>NaN</td>\n",
              "    </tr>\n",
              "    <tr>\n",
              "      <th>max</th>\n",
              "      <td>1.115000e+03</td>\n",
              "      <td>7.000000e+00</td>\n",
              "      <td>NaN</td>\n",
              "      <td>4.155100e+04</td>\n",
              "      <td>7.388000e+03</td>\n",
              "      <td>1.000000e+00</td>\n",
              "      <td>1.000000e+00</td>\n",
              "      <td>NaN</td>\n",
              "      <td>1.000000e+00</td>\n",
              "      <td>NaN</td>\n",
              "      <td>NaN</td>\n",
              "      <td>7.586000e+04</td>\n",
              "      <td>12.000000</td>\n",
              "      <td>2015.000000</td>\n",
              "      <td>1.000000e+00</td>\n",
              "      <td>50.000000</td>\n",
              "      <td>2015.000000</td>\n",
              "      <td>NaN</td>\n",
              "    </tr>\n",
              "  </tbody>\n",
              "</table>\n",
              "</div>\n",
              "      <button class=\"colab-df-convert\" onclick=\"convertToInteractive('df-aa49dc49-65ac-4130-aa2b-83a8cfa729f3')\"\n",
              "              title=\"Convert this dataframe to an interactive table.\"\n",
              "              style=\"display:none;\">\n",
              "        \n",
              "  <svg xmlns=\"http://www.w3.org/2000/svg\" height=\"24px\"viewBox=\"0 0 24 24\"\n",
              "       width=\"24px\">\n",
              "    <path d=\"M0 0h24v24H0V0z\" fill=\"none\"/>\n",
              "    <path d=\"M18.56 5.44l.94 2.06.94-2.06 2.06-.94-2.06-.94-.94-2.06-.94 2.06-2.06.94zm-11 1L8.5 8.5l.94-2.06 2.06-.94-2.06-.94L8.5 2.5l-.94 2.06-2.06.94zm10 10l.94 2.06.94-2.06 2.06-.94-2.06-.94-.94-2.06-.94 2.06-2.06.94z\"/><path d=\"M17.41 7.96l-1.37-1.37c-.4-.4-.92-.59-1.43-.59-.52 0-1.04.2-1.43.59L10.3 9.45l-7.72 7.72c-.78.78-.78 2.05 0 2.83L4 21.41c.39.39.9.59 1.41.59.51 0 1.02-.2 1.41-.59l7.78-7.78 2.81-2.81c.8-.78.8-2.07 0-2.86zM5.41 20L4 18.59l7.72-7.72 1.47 1.35L5.41 20z\"/>\n",
              "  </svg>\n",
              "      </button>\n",
              "      \n",
              "  <style>\n",
              "    .colab-df-container {\n",
              "      display:flex;\n",
              "      flex-wrap:wrap;\n",
              "      gap: 12px;\n",
              "    }\n",
              "\n",
              "    .colab-df-convert {\n",
              "      background-color: #E8F0FE;\n",
              "      border: none;\n",
              "      border-radius: 50%;\n",
              "      cursor: pointer;\n",
              "      display: none;\n",
              "      fill: #1967D2;\n",
              "      height: 32px;\n",
              "      padding: 0 0 0 0;\n",
              "      width: 32px;\n",
              "    }\n",
              "\n",
              "    .colab-df-convert:hover {\n",
              "      background-color: #E2EBFA;\n",
              "      box-shadow: 0px 1px 2px rgba(60, 64, 67, 0.3), 0px 1px 3px 1px rgba(60, 64, 67, 0.15);\n",
              "      fill: #174EA6;\n",
              "    }\n",
              "\n",
              "    [theme=dark] .colab-df-convert {\n",
              "      background-color: #3B4455;\n",
              "      fill: #D2E3FC;\n",
              "    }\n",
              "\n",
              "    [theme=dark] .colab-df-convert:hover {\n",
              "      background-color: #434B5C;\n",
              "      box-shadow: 0px 1px 3px 1px rgba(0, 0, 0, 0.15);\n",
              "      filter: drop-shadow(0px 1px 2px rgba(0, 0, 0, 0.3));\n",
              "      fill: #FFFFFF;\n",
              "    }\n",
              "  </style>\n",
              "\n",
              "      <script>\n",
              "        const buttonEl =\n",
              "          document.querySelector('#df-aa49dc49-65ac-4130-aa2b-83a8cfa729f3 button.colab-df-convert');\n",
              "        buttonEl.style.display =\n",
              "          google.colab.kernel.accessAllowed ? 'block' : 'none';\n",
              "\n",
              "        async function convertToInteractive(key) {\n",
              "          const element = document.querySelector('#df-aa49dc49-65ac-4130-aa2b-83a8cfa729f3');\n",
              "          const dataTable =\n",
              "            await google.colab.kernel.invokeFunction('convertToInteractive',\n",
              "                                                     [key], {});\n",
              "          if (!dataTable) return;\n",
              "\n",
              "          const docLinkHtml = 'Like what you see? Visit the ' +\n",
              "            '<a target=\"_blank\" href=https://colab.research.google.com/notebooks/data_table.ipynb>data table notebook</a>'\n",
              "            + ' to learn more about interactive tables.';\n",
              "          element.innerHTML = '';\n",
              "          dataTable['output_type'] = 'display_data';\n",
              "          await google.colab.output.renderOutput(dataTable, element);\n",
              "          const docLink = document.createElement('div');\n",
              "          docLink.innerHTML = docLinkHtml;\n",
              "          element.appendChild(docLink);\n",
              "        }\n",
              "      </script>\n",
              "    </div>\n",
              "  </div>\n",
              "  "
            ]
          },
          "metadata": {},
          "execution_count": 8
        }
      ]
    },
    {
      "cell_type": "code",
      "source": [
        "# Explore the dataset - Rossmann Stores\n",
        "print(\"****Rossmann Stores****\\n\")\n",
        "print(df.info())\n",
        "print('-'* 100)\n",
        "print(\"****The sample data Rossmann Stores sales****\")\n",
        "df.head(3)"
      ],
      "metadata": {
        "colab": {
          "base_uri": "https://localhost:8080/"
        },
        "id": "q0s1f9CUTUYa",
        "outputId": "6aa4513f-307d-4df4-e405-8aa9f55b6a56"
      },
      "execution_count": null,
      "outputs": [
        {
          "output_type": "stream",
          "name": "stdout",
          "text": [
            "****Rossmann Stores****\n",
            "\n",
            "<class 'pandas.core.frame.DataFrame'>\n",
            "Int64Index: 1017209 entries, 0 to 1017208\n",
            "Data columns (total 18 columns):\n",
            " #   Column                     Non-Null Count    Dtype  \n",
            "---  ------                     --------------    -----  \n",
            " 0   Store                      1017209 non-null  int64  \n",
            " 1   DayOfWeek                  1017209 non-null  int64  \n",
            " 2   Date                       1017209 non-null  object \n",
            " 3   Sales                      1017209 non-null  int64  \n",
            " 4   Customers                  1017209 non-null  int64  \n",
            " 5   Open                       1017209 non-null  int64  \n",
            " 6   Promo                      1017209 non-null  int64  \n",
            " 7   StateHoliday               1017209 non-null  object \n",
            " 8   SchoolHoliday              1017209 non-null  int64  \n",
            " 9   StoreType                  1017209 non-null  object \n",
            " 10  Assortment                 1017209 non-null  object \n",
            " 11  CompetitionDistance        1014567 non-null  float64\n",
            " 12  CompetitionOpenSinceMonth  693861 non-null   float64\n",
            " 13  CompetitionOpenSinceYear   693861 non-null   float64\n",
            " 14  Promo2                     1017209 non-null  int64  \n",
            " 15  Promo2SinceWeek            509178 non-null   float64\n",
            " 16  Promo2SinceYear            509178 non-null   float64\n",
            " 17  PromoInterval              509178 non-null   object \n",
            "dtypes: float64(5), int64(8), object(5)\n",
            "memory usage: 147.5+ MB\n",
            "None\n",
            "----------------------------------------------------------------------------------------------------\n",
            "****The sample data Rossmann Stores sales****\n"
          ]
        },
        {
          "output_type": "execute_result",
          "data": {
            "text/plain": [
              "   Store  DayOfWeek        Date  Sales  Customers  Open  Promo StateHoliday  \\\n",
              "0      1          5  2015-07-31   5263        555     1      1            0   \n",
              "1      2          5  2015-07-31   6064        625     1      1            0   \n",
              "2      3          5  2015-07-31   8314        821     1      1            0   \n",
              "\n",
              "   SchoolHoliday StoreType Assortment  CompetitionDistance  \\\n",
              "0              1         c          a               1270.0   \n",
              "1              1         a          a                570.0   \n",
              "2              1         a          a              14130.0   \n",
              "\n",
              "   CompetitionOpenSinceMonth  CompetitionOpenSinceYear  Promo2  \\\n",
              "0                        9.0                    2008.0       0   \n",
              "1                       11.0                    2007.0       1   \n",
              "2                       12.0                    2006.0       1   \n",
              "\n",
              "   Promo2SinceWeek  Promo2SinceYear    PromoInterval  \n",
              "0              NaN              NaN              NaN  \n",
              "1             13.0           2010.0  Jan,Apr,Jul,Oct  \n",
              "2             14.0           2011.0  Jan,Apr,Jul,Oct  "
            ],
            "text/html": [
              "\n",
              "  <div id=\"df-3a280853-b497-425c-aec9-2b77556c7fdf\">\n",
              "    <div class=\"colab-df-container\">\n",
              "      <div>\n",
              "<style scoped>\n",
              "    .dataframe tbody tr th:only-of-type {\n",
              "        vertical-align: middle;\n",
              "    }\n",
              "\n",
              "    .dataframe tbody tr th {\n",
              "        vertical-align: top;\n",
              "    }\n",
              "\n",
              "    .dataframe thead th {\n",
              "        text-align: right;\n",
              "    }\n",
              "</style>\n",
              "<table border=\"1\" class=\"dataframe\">\n",
              "  <thead>\n",
              "    <tr style=\"text-align: right;\">\n",
              "      <th></th>\n",
              "      <th>Store</th>\n",
              "      <th>DayOfWeek</th>\n",
              "      <th>Date</th>\n",
              "      <th>Sales</th>\n",
              "      <th>Customers</th>\n",
              "      <th>Open</th>\n",
              "      <th>Promo</th>\n",
              "      <th>StateHoliday</th>\n",
              "      <th>SchoolHoliday</th>\n",
              "      <th>StoreType</th>\n",
              "      <th>Assortment</th>\n",
              "      <th>CompetitionDistance</th>\n",
              "      <th>CompetitionOpenSinceMonth</th>\n",
              "      <th>CompetitionOpenSinceYear</th>\n",
              "      <th>Promo2</th>\n",
              "      <th>Promo2SinceWeek</th>\n",
              "      <th>Promo2SinceYear</th>\n",
              "      <th>PromoInterval</th>\n",
              "    </tr>\n",
              "  </thead>\n",
              "  <tbody>\n",
              "    <tr>\n",
              "      <th>0</th>\n",
              "      <td>1</td>\n",
              "      <td>5</td>\n",
              "      <td>2015-07-31</td>\n",
              "      <td>5263</td>\n",
              "      <td>555</td>\n",
              "      <td>1</td>\n",
              "      <td>1</td>\n",
              "      <td>0</td>\n",
              "      <td>1</td>\n",
              "      <td>c</td>\n",
              "      <td>a</td>\n",
              "      <td>1270.0</td>\n",
              "      <td>9.0</td>\n",
              "      <td>2008.0</td>\n",
              "      <td>0</td>\n",
              "      <td>NaN</td>\n",
              "      <td>NaN</td>\n",
              "      <td>NaN</td>\n",
              "    </tr>\n",
              "    <tr>\n",
              "      <th>1</th>\n",
              "      <td>2</td>\n",
              "      <td>5</td>\n",
              "      <td>2015-07-31</td>\n",
              "      <td>6064</td>\n",
              "      <td>625</td>\n",
              "      <td>1</td>\n",
              "      <td>1</td>\n",
              "      <td>0</td>\n",
              "      <td>1</td>\n",
              "      <td>a</td>\n",
              "      <td>a</td>\n",
              "      <td>570.0</td>\n",
              "      <td>11.0</td>\n",
              "      <td>2007.0</td>\n",
              "      <td>1</td>\n",
              "      <td>13.0</td>\n",
              "      <td>2010.0</td>\n",
              "      <td>Jan,Apr,Jul,Oct</td>\n",
              "    </tr>\n",
              "    <tr>\n",
              "      <th>2</th>\n",
              "      <td>3</td>\n",
              "      <td>5</td>\n",
              "      <td>2015-07-31</td>\n",
              "      <td>8314</td>\n",
              "      <td>821</td>\n",
              "      <td>1</td>\n",
              "      <td>1</td>\n",
              "      <td>0</td>\n",
              "      <td>1</td>\n",
              "      <td>a</td>\n",
              "      <td>a</td>\n",
              "      <td>14130.0</td>\n",
              "      <td>12.0</td>\n",
              "      <td>2006.0</td>\n",
              "      <td>1</td>\n",
              "      <td>14.0</td>\n",
              "      <td>2011.0</td>\n",
              "      <td>Jan,Apr,Jul,Oct</td>\n",
              "    </tr>\n",
              "  </tbody>\n",
              "</table>\n",
              "</div>\n",
              "      <button class=\"colab-df-convert\" onclick=\"convertToInteractive('df-3a280853-b497-425c-aec9-2b77556c7fdf')\"\n",
              "              title=\"Convert this dataframe to an interactive table.\"\n",
              "              style=\"display:none;\">\n",
              "        \n",
              "  <svg xmlns=\"http://www.w3.org/2000/svg\" height=\"24px\"viewBox=\"0 0 24 24\"\n",
              "       width=\"24px\">\n",
              "    <path d=\"M0 0h24v24H0V0z\" fill=\"none\"/>\n",
              "    <path d=\"M18.56 5.44l.94 2.06.94-2.06 2.06-.94-2.06-.94-.94-2.06-.94 2.06-2.06.94zm-11 1L8.5 8.5l.94-2.06 2.06-.94-2.06-.94L8.5 2.5l-.94 2.06-2.06.94zm10 10l.94 2.06.94-2.06 2.06-.94-2.06-.94-.94-2.06-.94 2.06-2.06.94z\"/><path d=\"M17.41 7.96l-1.37-1.37c-.4-.4-.92-.59-1.43-.59-.52 0-1.04.2-1.43.59L10.3 9.45l-7.72 7.72c-.78.78-.78 2.05 0 2.83L4 21.41c.39.39.9.59 1.41.59.51 0 1.02-.2 1.41-.59l7.78-7.78 2.81-2.81c.8-.78.8-2.07 0-2.86zM5.41 20L4 18.59l7.72-7.72 1.47 1.35L5.41 20z\"/>\n",
              "  </svg>\n",
              "      </button>\n",
              "      \n",
              "  <style>\n",
              "    .colab-df-container {\n",
              "      display:flex;\n",
              "      flex-wrap:wrap;\n",
              "      gap: 12px;\n",
              "    }\n",
              "\n",
              "    .colab-df-convert {\n",
              "      background-color: #E8F0FE;\n",
              "      border: none;\n",
              "      border-radius: 50%;\n",
              "      cursor: pointer;\n",
              "      display: none;\n",
              "      fill: #1967D2;\n",
              "      height: 32px;\n",
              "      padding: 0 0 0 0;\n",
              "      width: 32px;\n",
              "    }\n",
              "\n",
              "    .colab-df-convert:hover {\n",
              "      background-color: #E2EBFA;\n",
              "      box-shadow: 0px 1px 2px rgba(60, 64, 67, 0.3), 0px 1px 3px 1px rgba(60, 64, 67, 0.15);\n",
              "      fill: #174EA6;\n",
              "    }\n",
              "\n",
              "    [theme=dark] .colab-df-convert {\n",
              "      background-color: #3B4455;\n",
              "      fill: #D2E3FC;\n",
              "    }\n",
              "\n",
              "    [theme=dark] .colab-df-convert:hover {\n",
              "      background-color: #434B5C;\n",
              "      box-shadow: 0px 1px 3px 1px rgba(0, 0, 0, 0.15);\n",
              "      filter: drop-shadow(0px 1px 2px rgba(0, 0, 0, 0.3));\n",
              "      fill: #FFFFFF;\n",
              "    }\n",
              "  </style>\n",
              "\n",
              "      <script>\n",
              "        const buttonEl =\n",
              "          document.querySelector('#df-3a280853-b497-425c-aec9-2b77556c7fdf button.colab-df-convert');\n",
              "        buttonEl.style.display =\n",
              "          google.colab.kernel.accessAllowed ? 'block' : 'none';\n",
              "\n",
              "        async function convertToInteractive(key) {\n",
              "          const element = document.querySelector('#df-3a280853-b497-425c-aec9-2b77556c7fdf');\n",
              "          const dataTable =\n",
              "            await google.colab.kernel.invokeFunction('convertToInteractive',\n",
              "                                                     [key], {});\n",
              "          if (!dataTable) return;\n",
              "\n",
              "          const docLinkHtml = 'Like what you see? Visit the ' +\n",
              "            '<a target=\"_blank\" href=https://colab.research.google.com/notebooks/data_table.ipynb>data table notebook</a>'\n",
              "            + ' to learn more about interactive tables.';\n",
              "          element.innerHTML = '';\n",
              "          dataTable['output_type'] = 'display_data';\n",
              "          await google.colab.output.renderOutput(dataTable, element);\n",
              "          const docLink = document.createElement('div');\n",
              "          docLink.innerHTML = docLinkHtml;\n",
              "          element.appendChild(docLink);\n",
              "        }\n",
              "      </script>\n",
              "    </div>\n",
              "  </div>\n",
              "  "
            ]
          },
          "metadata": {},
          "execution_count": 9
        }
      ]
    },
    {
      "cell_type": "code",
      "source": [
        "# Convert column Date-object to Datetime format\n",
        "df['Date'] = pd.to_datetime(df['Date'])"
      ],
      "metadata": {
        "id": "cMPu0XN_URD9"
      },
      "execution_count": null,
      "outputs": []
    },
    {
      "cell_type": "code",
      "source": [
        "# Extract Day,month,year from the column 'Date\n",
        "df['year']=pd.DatetimeIndex(df['Date']).year\n",
        "df['month']=pd.DatetimeIndex(df['Date']).month\n",
        "df['day']=pd.to_datetime(df['Date']).dt.day\n",
        "df['week'] = pd.to_datetime(df['Date']).dt.week"
      ],
      "metadata": {
        "id": "xRveorVAUdIl"
      },
      "execution_count": null,
      "outputs": []
    },
    {
      "cell_type": "code",
      "source": [
        "# To avoid multicolinearity, column' date' is removed from the dataset\n",
        "df.drop(['Date'],axis=1,inplace=True)"
      ],
      "metadata": {
        "id": "S6GhRX6EUmpn"
      },
      "execution_count": null,
      "outputs": []
    },
    {
      "cell_type": "markdown",
      "source": [
        "# **Handling Missing Values**"
      ],
      "metadata": {
        "id": "i-CsvC5XZKNg"
      }
    },
    {
      "cell_type": "code",
      "source": [
        "# To check for duplicate rows\n",
        "df.duplicated().sum()"
      ],
      "metadata": {
        "colab": {
          "base_uri": "https://localhost:8080/"
        },
        "id": "AeHnKjG5ZK3C",
        "outputId": "6b954181-9728-4d7e-cb6a-a3178c566027"
      },
      "execution_count": null,
      "outputs": [
        {
          "output_type": "execute_result",
          "data": {
            "text/plain": [
              "0"
            ]
          },
          "metadata": {},
          "execution_count": 13
        }
      ]
    },
    {
      "cell_type": "code",
      "source": [
        "# To check null values in each column\n",
        "df.isnull().sum()"
      ],
      "metadata": {
        "colab": {
          "base_uri": "https://localhost:8080/"
        },
        "id": "xEUbdm3QZOr2",
        "outputId": "8fcd449e-dd28-41e9-f6f8-7e0f54b37712"
      },
      "execution_count": null,
      "outputs": [
        {
          "output_type": "execute_result",
          "data": {
            "text/plain": [
              "Store                             0\n",
              "DayOfWeek                         0\n",
              "Sales                             0\n",
              "Customers                         0\n",
              "Open                              0\n",
              "Promo                             0\n",
              "StateHoliday                      0\n",
              "SchoolHoliday                     0\n",
              "StoreType                         0\n",
              "Assortment                        0\n",
              "CompetitionDistance            2642\n",
              "CompetitionOpenSinceMonth    323348\n",
              "CompetitionOpenSinceYear     323348\n",
              "Promo2                            0\n",
              "Promo2SinceWeek              508031\n",
              "Promo2SinceYear              508031\n",
              "PromoInterval                508031\n",
              "year                              0\n",
              "month                             0\n",
              "day                               0\n",
              "week                              0\n",
              "dtype: int64"
            ]
          },
          "metadata": {},
          "execution_count": 14
        }
      ]
    },
    {
      "cell_type": "code",
      "source": [
        "# Fill all the null values with Mean,Median \n",
        "df['CompetitionDistance']=df['CompetitionDistance'].fillna(df.groupby('StoreType')['CompetitionDistance'].transform('mean'))  # Nan values are replaced with mean\n",
        "df['CompetitionOpenSinceMonth']=df['CompetitionOpenSinceMonth'].fillna(df.groupby('StoreType')['CompetitionOpenSinceMonth'].transform('median')) # Nan values are replaced with mean because of outliers\n",
        "df['CompetitionOpenSinceYear']=df['CompetitionOpenSinceYear'].fillna(df.groupby('StoreType')['CompetitionOpenSinceYear'].transform('median'))# Nan values are replaced with mean because of outliers\n",
        "df['Promo2SinceWeek']=df['Promo2SinceWeek'].fillna(0) # Filled with 0s because promo2 is not applied for that store\n",
        "df['Promo2SinceYear']=df['Promo2SinceYear'].fillna(0) # Filled with 0s because promo2 is not applied for that store\n",
        "df['PromoInterval']=df['PromoInterval'].fillna(0)# Filled with 0s because promo2 is not applied for that store"
      ],
      "metadata": {
        "id": "BP1l9pMrZYS8"
      },
      "execution_count": null,
      "outputs": []
    },
    {
      "cell_type": "code",
      "source": [
        "# To visualize store open/closed based on store type\n",
        "df.groupby(['StoreType','Open']).Store.nunique()"
      ],
      "metadata": {
        "colab": {
          "base_uri": "https://localhost:8080/"
        },
        "id": "DRCtgVsYHZiN",
        "outputId": "980dceb4-85e9-4d3b-e821-0b0861a48499"
      },
      "execution_count": null,
      "outputs": [
        {
          "output_type": "execute_result",
          "data": {
            "text/plain": [
              "StoreType  Open\n",
              "a          0       602\n",
              "           1       602\n",
              "b          0         7\n",
              "           1        17\n",
              "c          0       148\n",
              "           1       148\n",
              "d          0       348\n",
              "           1       348\n",
              "Name: Store, dtype: int64"
            ]
          },
          "metadata": {},
          "execution_count": 16
        }
      ]
    },
    {
      "cell_type": "code",
      "source": [
        "# Remove all the stores which are closed from the dataset\n",
        "df = df[df['Open']==1]"
      ],
      "metadata": {
        "id": "1oSHYkj_GeiG"
      },
      "execution_count": null,
      "outputs": []
    },
    {
      "cell_type": "markdown",
      "source": [
        " Rossman clearly stated that they were undergoing refurbishments , so store may be closed, so to reduce bias , we will analyse only open stores since a close store yield a profit of 0."
      ],
      "metadata": {
        "id": "YWdaZar0yD1K"
      }
    },
    {
      "cell_type": "code",
      "source": [
        "df.shape"
      ],
      "metadata": {
        "colab": {
          "base_uri": "https://localhost:8080/"
        },
        "id": "gFecudQhIFPK",
        "outputId": "486c5f2d-dbe8-454c-f783-561cc0bc1c41"
      },
      "execution_count": null,
      "outputs": [
        {
          "output_type": "execute_result",
          "data": {
            "text/plain": [
              "(844392, 21)"
            ]
          },
          "metadata": {},
          "execution_count": 18
        }
      ]
    },
    {
      "cell_type": "markdown",
      "source": [
        "# **Feature Extraction**"
      ],
      "metadata": {
        "id": "-Rc8yzl6IgPA"
      }
    },
    {
      "cell_type": "markdown",
      "source": [
        "We will extract some useful features from our dataset\n",
        " - SalesperCustomer - To determine how many sales per customer\n",
        " - CompetitionDist_Cat - To group the competition store \n",
        " - Promo2Open - To determine since how many months promo-2 is open\n",
        " - CompetitionOpen - To determine since how many months Competition Open is open\n",
        " - isPromoMonth - To determine whether the sale is happened in promo month."
      ],
      "metadata": {
        "id": "aQ1LyyObjyV1"
      }
    },
    {
      "cell_type": "markdown",
      "source": [
        "## SalesperCustomer"
      ],
      "metadata": {
        "id": "SZeSsCLpl0Wz"
      }
    },
    {
      "cell_type": "code",
      "source": [
        "# SalesperCustomer - To determine how many sales per customer\n",
        "df['SalesperCustomer']=df['Sales']/df['Customers']"
      ],
      "metadata": {
        "id": "PZFUojQtaUHv"
      },
      "execution_count": null,
      "outputs": []
    },
    {
      "cell_type": "code",
      "source": [
        "df['SalesperCustomer'] = df['SalesperCustomer'].fillna(0)"
      ],
      "metadata": {
        "id": "Y22MQ-vNgsx9"
      },
      "execution_count": null,
      "outputs": []
    },
    {
      "cell_type": "markdown",
      "source": [
        "## CompetitionDist_Cat"
      ],
      "metadata": {
        "id": "20MIraWPl5OF"
      }
    },
    {
      "cell_type": "code",
      "source": [
        "# CompetitionOpen - To determine since how many months Competition Open is open\n",
        "df['CompetitionDist_Cat']=pd.cut(df['CompetitionDistance'], 10)"
      ],
      "metadata": {
        "id": "j3k_hjtVkWa5"
      },
      "execution_count": null,
      "outputs": []
    },
    {
      "cell_type": "markdown",
      "source": [
        "## Promo2Open"
      ],
      "metadata": {
        "id": "PnlnrDh0mCgv"
      }
    },
    {
      "cell_type": "code",
      "source": [
        "# Feature extraction # 'Promo2Open' and 'CompetitionOpen' -  To visuaize how promo2 and competition open is impacting the sales \n",
        "df['Promo2Open'] = 12 * ((df['year'] - df['Promo2SinceYear']) + (df['week'] - df['Promo2SinceWeek']))/float(4) # Promo2open column shows since how many months promo 2 is open for that perticular sale day \n",
        "df['Promo2Open'] = df['Promo2Open'].apply(lambda x: x if x < 500 and x > 0 else 0)"
      ],
      "metadata": {
        "id": "zNXENtcrBJZP"
      },
      "execution_count": null,
      "outputs": []
    },
    {
      "cell_type": "markdown",
      "source": [
        "## CompetitionOpen"
      ],
      "metadata": {
        "id": "Wlethnqrl-tT"
      }
    },
    {
      "cell_type": "code",
      "source": [
        "df['CompetitionOpen'] = 12 * (df['year'] - df['CompetitionOpenSinceYear']) + (df['month'] - df['CompetitionOpenSinceMonth']) # Competition open column shows since how many months comepetitor store opened nearby\n",
        "df['CompetitionOpen'] = df['CompetitionOpen'].apply(lambda x: x if x > 0 else 0)"
      ],
      "metadata": {
        "id": "UQbHwUU7l9FD"
      },
      "execution_count": null,
      "outputs": []
    },
    {
      "cell_type": "markdown",
      "source": [
        "## isPromoMonth"
      ],
      "metadata": {
        "id": "dFB-Uw8pmKKc"
      }
    },
    {
      "cell_type": "code",
      "source": [
        "# To convert month number to name of the month\n",
        "import calendar\n",
        "df['MonthName']=df['month'].apply(lambda x: calendar.month_abbr[x])"
      ],
      "metadata": {
        "id": "d9Z0KiC-AVFI"
      },
      "execution_count": null,
      "outputs": []
    },
    {
      "cell_type": "code",
      "source": [
        "# To check whether sale happened due to promo\n",
        "df['isPromoMonth'] = df.apply(lambda x: 1 if str(x.MonthName) in str(x.PromoInterval) else 0,axis =1)"
      ],
      "metadata": {
        "id": "5degZYvD_mDB"
      },
      "execution_count": null,
      "outputs": []
    },
    {
      "cell_type": "code",
      "source": [
        "# To visualize the dataframe\n",
        "pd.set_option('display.max_columns', None)\n",
        "df.head()"
      ],
      "metadata": {
        "colab": {
          "base_uri": "https://localhost:8080/"
        },
        "id": "DEbHjW545hxl",
        "outputId": "422b98ed-418b-4063-a827-a039e525b309"
      },
      "execution_count": null,
      "outputs": [
        {
          "output_type": "execute_result",
          "data": {
            "text/plain": [
              "   Store  DayOfWeek  Sales  Customers  Open  Promo StateHoliday  \\\n",
              "0      1          5   5263        555     1      1            0   \n",
              "1      2          5   6064        625     1      1            0   \n",
              "2      3          5   8314        821     1      1            0   \n",
              "3      4          5  13995       1498     1      1            0   \n",
              "4      5          5   4822        559     1      1            0   \n",
              "\n",
              "   SchoolHoliday StoreType Assortment  CompetitionDistance  \\\n",
              "0              1         c          a               1270.0   \n",
              "1              1         a          a                570.0   \n",
              "2              1         a          a              14130.0   \n",
              "3              1         c          c                620.0   \n",
              "4              1         a          a              29910.0   \n",
              "\n",
              "   CompetitionOpenSinceMonth  CompetitionOpenSinceYear  Promo2  \\\n",
              "0                        9.0                    2008.0       0   \n",
              "1                       11.0                    2007.0       1   \n",
              "2                       12.0                    2006.0       1   \n",
              "3                        9.0                    2009.0       0   \n",
              "4                        4.0                    2015.0       0   \n",
              "\n",
              "   Promo2SinceWeek  Promo2SinceYear    PromoInterval  year  month  day  week  \\\n",
              "0              0.0              0.0                0  2015      7   31    31   \n",
              "1             13.0           2010.0  Jan,Apr,Jul,Oct  2015      7   31    31   \n",
              "2             14.0           2011.0  Jan,Apr,Jul,Oct  2015      7   31    31   \n",
              "3              0.0              0.0                0  2015      7   31    31   \n",
              "4              0.0              0.0                0  2015      7   31    31   \n",
              "\n",
              "   SalesperCustomer CompetitionDist_Cat  Promo2Open  CompetitionOpen  \\\n",
              "0          9.482883    (-55.84, 7604.0]         0.0             82.0   \n",
              "1          9.702400    (-55.84, 7604.0]        69.0             92.0   \n",
              "2         10.126675   (7604.0, 15188.0]        63.0            103.0   \n",
              "3          9.342457    (-55.84, 7604.0]         0.0             70.0   \n",
              "4          8.626118  (22772.0, 30356.0]         0.0              3.0   \n",
              "\n",
              "  MonthName  isPromoMonth  \n",
              "0       Jul             0  \n",
              "1       Jul             1  \n",
              "2       Jul             1  \n",
              "3       Jul             0  \n",
              "4       Jul             0  "
            ],
            "text/html": [
              "\n",
              "  <div id=\"df-ab62e6b5-9e3d-4ac5-8d34-6dfe13d5a4ca\">\n",
              "    <div class=\"colab-df-container\">\n",
              "      <div>\n",
              "<style scoped>\n",
              "    .dataframe tbody tr th:only-of-type {\n",
              "        vertical-align: middle;\n",
              "    }\n",
              "\n",
              "    .dataframe tbody tr th {\n",
              "        vertical-align: top;\n",
              "    }\n",
              "\n",
              "    .dataframe thead th {\n",
              "        text-align: right;\n",
              "    }\n",
              "</style>\n",
              "<table border=\"1\" class=\"dataframe\">\n",
              "  <thead>\n",
              "    <tr style=\"text-align: right;\">\n",
              "      <th></th>\n",
              "      <th>Store</th>\n",
              "      <th>DayOfWeek</th>\n",
              "      <th>Sales</th>\n",
              "      <th>Customers</th>\n",
              "      <th>Open</th>\n",
              "      <th>Promo</th>\n",
              "      <th>StateHoliday</th>\n",
              "      <th>SchoolHoliday</th>\n",
              "      <th>StoreType</th>\n",
              "      <th>Assortment</th>\n",
              "      <th>CompetitionDistance</th>\n",
              "      <th>CompetitionOpenSinceMonth</th>\n",
              "      <th>CompetitionOpenSinceYear</th>\n",
              "      <th>Promo2</th>\n",
              "      <th>Promo2SinceWeek</th>\n",
              "      <th>Promo2SinceYear</th>\n",
              "      <th>PromoInterval</th>\n",
              "      <th>year</th>\n",
              "      <th>month</th>\n",
              "      <th>day</th>\n",
              "      <th>week</th>\n",
              "      <th>SalesperCustomer</th>\n",
              "      <th>CompetitionDist_Cat</th>\n",
              "      <th>Promo2Open</th>\n",
              "      <th>CompetitionOpen</th>\n",
              "      <th>MonthName</th>\n",
              "      <th>isPromoMonth</th>\n",
              "    </tr>\n",
              "  </thead>\n",
              "  <tbody>\n",
              "    <tr>\n",
              "      <th>0</th>\n",
              "      <td>1</td>\n",
              "      <td>5</td>\n",
              "      <td>5263</td>\n",
              "      <td>555</td>\n",
              "      <td>1</td>\n",
              "      <td>1</td>\n",
              "      <td>0</td>\n",
              "      <td>1</td>\n",
              "      <td>c</td>\n",
              "      <td>a</td>\n",
              "      <td>1270.0</td>\n",
              "      <td>9.0</td>\n",
              "      <td>2008.0</td>\n",
              "      <td>0</td>\n",
              "      <td>0.0</td>\n",
              "      <td>0.0</td>\n",
              "      <td>0</td>\n",
              "      <td>2015</td>\n",
              "      <td>7</td>\n",
              "      <td>31</td>\n",
              "      <td>31</td>\n",
              "      <td>9.482883</td>\n",
              "      <td>(-55.84, 7604.0]</td>\n",
              "      <td>0.0</td>\n",
              "      <td>82.0</td>\n",
              "      <td>Jul</td>\n",
              "      <td>0</td>\n",
              "    </tr>\n",
              "    <tr>\n",
              "      <th>1</th>\n",
              "      <td>2</td>\n",
              "      <td>5</td>\n",
              "      <td>6064</td>\n",
              "      <td>625</td>\n",
              "      <td>1</td>\n",
              "      <td>1</td>\n",
              "      <td>0</td>\n",
              "      <td>1</td>\n",
              "      <td>a</td>\n",
              "      <td>a</td>\n",
              "      <td>570.0</td>\n",
              "      <td>11.0</td>\n",
              "      <td>2007.0</td>\n",
              "      <td>1</td>\n",
              "      <td>13.0</td>\n",
              "      <td>2010.0</td>\n",
              "      <td>Jan,Apr,Jul,Oct</td>\n",
              "      <td>2015</td>\n",
              "      <td>7</td>\n",
              "      <td>31</td>\n",
              "      <td>31</td>\n",
              "      <td>9.702400</td>\n",
              "      <td>(-55.84, 7604.0]</td>\n",
              "      <td>69.0</td>\n",
              "      <td>92.0</td>\n",
              "      <td>Jul</td>\n",
              "      <td>1</td>\n",
              "    </tr>\n",
              "    <tr>\n",
              "      <th>2</th>\n",
              "      <td>3</td>\n",
              "      <td>5</td>\n",
              "      <td>8314</td>\n",
              "      <td>821</td>\n",
              "      <td>1</td>\n",
              "      <td>1</td>\n",
              "      <td>0</td>\n",
              "      <td>1</td>\n",
              "      <td>a</td>\n",
              "      <td>a</td>\n",
              "      <td>14130.0</td>\n",
              "      <td>12.0</td>\n",
              "      <td>2006.0</td>\n",
              "      <td>1</td>\n",
              "      <td>14.0</td>\n",
              "      <td>2011.0</td>\n",
              "      <td>Jan,Apr,Jul,Oct</td>\n",
              "      <td>2015</td>\n",
              "      <td>7</td>\n",
              "      <td>31</td>\n",
              "      <td>31</td>\n",
              "      <td>10.126675</td>\n",
              "      <td>(7604.0, 15188.0]</td>\n",
              "      <td>63.0</td>\n",
              "      <td>103.0</td>\n",
              "      <td>Jul</td>\n",
              "      <td>1</td>\n",
              "    </tr>\n",
              "    <tr>\n",
              "      <th>3</th>\n",
              "      <td>4</td>\n",
              "      <td>5</td>\n",
              "      <td>13995</td>\n",
              "      <td>1498</td>\n",
              "      <td>1</td>\n",
              "      <td>1</td>\n",
              "      <td>0</td>\n",
              "      <td>1</td>\n",
              "      <td>c</td>\n",
              "      <td>c</td>\n",
              "      <td>620.0</td>\n",
              "      <td>9.0</td>\n",
              "      <td>2009.0</td>\n",
              "      <td>0</td>\n",
              "      <td>0.0</td>\n",
              "      <td>0.0</td>\n",
              "      <td>0</td>\n",
              "      <td>2015</td>\n",
              "      <td>7</td>\n",
              "      <td>31</td>\n",
              "      <td>31</td>\n",
              "      <td>9.342457</td>\n",
              "      <td>(-55.84, 7604.0]</td>\n",
              "      <td>0.0</td>\n",
              "      <td>70.0</td>\n",
              "      <td>Jul</td>\n",
              "      <td>0</td>\n",
              "    </tr>\n",
              "    <tr>\n",
              "      <th>4</th>\n",
              "      <td>5</td>\n",
              "      <td>5</td>\n",
              "      <td>4822</td>\n",
              "      <td>559</td>\n",
              "      <td>1</td>\n",
              "      <td>1</td>\n",
              "      <td>0</td>\n",
              "      <td>1</td>\n",
              "      <td>a</td>\n",
              "      <td>a</td>\n",
              "      <td>29910.0</td>\n",
              "      <td>4.0</td>\n",
              "      <td>2015.0</td>\n",
              "      <td>0</td>\n",
              "      <td>0.0</td>\n",
              "      <td>0.0</td>\n",
              "      <td>0</td>\n",
              "      <td>2015</td>\n",
              "      <td>7</td>\n",
              "      <td>31</td>\n",
              "      <td>31</td>\n",
              "      <td>8.626118</td>\n",
              "      <td>(22772.0, 30356.0]</td>\n",
              "      <td>0.0</td>\n",
              "      <td>3.0</td>\n",
              "      <td>Jul</td>\n",
              "      <td>0</td>\n",
              "    </tr>\n",
              "  </tbody>\n",
              "</table>\n",
              "</div>\n",
              "      <button class=\"colab-df-convert\" onclick=\"convertToInteractive('df-ab62e6b5-9e3d-4ac5-8d34-6dfe13d5a4ca')\"\n",
              "              title=\"Convert this dataframe to an interactive table.\"\n",
              "              style=\"display:none;\">\n",
              "        \n",
              "  <svg xmlns=\"http://www.w3.org/2000/svg\" height=\"24px\"viewBox=\"0 0 24 24\"\n",
              "       width=\"24px\">\n",
              "    <path d=\"M0 0h24v24H0V0z\" fill=\"none\"/>\n",
              "    <path d=\"M18.56 5.44l.94 2.06.94-2.06 2.06-.94-2.06-.94-.94-2.06-.94 2.06-2.06.94zm-11 1L8.5 8.5l.94-2.06 2.06-.94-2.06-.94L8.5 2.5l-.94 2.06-2.06.94zm10 10l.94 2.06.94-2.06 2.06-.94-2.06-.94-.94-2.06-.94 2.06-2.06.94z\"/><path d=\"M17.41 7.96l-1.37-1.37c-.4-.4-.92-.59-1.43-.59-.52 0-1.04.2-1.43.59L10.3 9.45l-7.72 7.72c-.78.78-.78 2.05 0 2.83L4 21.41c.39.39.9.59 1.41.59.51 0 1.02-.2 1.41-.59l7.78-7.78 2.81-2.81c.8-.78.8-2.07 0-2.86zM5.41 20L4 18.59l7.72-7.72 1.47 1.35L5.41 20z\"/>\n",
              "  </svg>\n",
              "      </button>\n",
              "      \n",
              "  <style>\n",
              "    .colab-df-container {\n",
              "      display:flex;\n",
              "      flex-wrap:wrap;\n",
              "      gap: 12px;\n",
              "    }\n",
              "\n",
              "    .colab-df-convert {\n",
              "      background-color: #E8F0FE;\n",
              "      border: none;\n",
              "      border-radius: 50%;\n",
              "      cursor: pointer;\n",
              "      display: none;\n",
              "      fill: #1967D2;\n",
              "      height: 32px;\n",
              "      padding: 0 0 0 0;\n",
              "      width: 32px;\n",
              "    }\n",
              "\n",
              "    .colab-df-convert:hover {\n",
              "      background-color: #E2EBFA;\n",
              "      box-shadow: 0px 1px 2px rgba(60, 64, 67, 0.3), 0px 1px 3px 1px rgba(60, 64, 67, 0.15);\n",
              "      fill: #174EA6;\n",
              "    }\n",
              "\n",
              "    [theme=dark] .colab-df-convert {\n",
              "      background-color: #3B4455;\n",
              "      fill: #D2E3FC;\n",
              "    }\n",
              "\n",
              "    [theme=dark] .colab-df-convert:hover {\n",
              "      background-color: #434B5C;\n",
              "      box-shadow: 0px 1px 3px 1px rgba(0, 0, 0, 0.15);\n",
              "      filter: drop-shadow(0px 1px 2px rgba(0, 0, 0, 0.3));\n",
              "      fill: #FFFFFF;\n",
              "    }\n",
              "  </style>\n",
              "\n",
              "      <script>\n",
              "        const buttonEl =\n",
              "          document.querySelector('#df-ab62e6b5-9e3d-4ac5-8d34-6dfe13d5a4ca button.colab-df-convert');\n",
              "        buttonEl.style.display =\n",
              "          google.colab.kernel.accessAllowed ? 'block' : 'none';\n",
              "\n",
              "        async function convertToInteractive(key) {\n",
              "          const element = document.querySelector('#df-ab62e6b5-9e3d-4ac5-8d34-6dfe13d5a4ca');\n",
              "          const dataTable =\n",
              "            await google.colab.kernel.invokeFunction('convertToInteractive',\n",
              "                                                     [key], {});\n",
              "          if (!dataTable) return;\n",
              "\n",
              "          const docLinkHtml = 'Like what you see? Visit the ' +\n",
              "            '<a target=\"_blank\" href=https://colab.research.google.com/notebooks/data_table.ipynb>data table notebook</a>'\n",
              "            + ' to learn more about interactive tables.';\n",
              "          element.innerHTML = '';\n",
              "          dataTable['output_type'] = 'display_data';\n",
              "          await google.colab.output.renderOutput(dataTable, element);\n",
              "          const docLink = document.createElement('div');\n",
              "          docLink.innerHTML = docLinkHtml;\n",
              "          element.appendChild(docLink);\n",
              "        }\n",
              "      </script>\n",
              "    </div>\n",
              "  </div>\n",
              "  "
            ]
          },
          "metadata": {},
          "execution_count": 26
        }
      ]
    },
    {
      "cell_type": "code",
      "source": [
        "# Check for null values\n",
        "df.isna().sum()"
      ],
      "metadata": {
        "colab": {
          "base_uri": "https://localhost:8080/"
        },
        "id": "jxm5_FX3Dy6w",
        "outputId": "6db8145f-d8e6-42fb-f901-fd347fb9c326"
      },
      "execution_count": null,
      "outputs": [
        {
          "output_type": "execute_result",
          "data": {
            "text/plain": [
              "Store                        0\n",
              "DayOfWeek                    0\n",
              "Sales                        0\n",
              "Customers                    0\n",
              "Open                         0\n",
              "Promo                        0\n",
              "StateHoliday                 0\n",
              "SchoolHoliday                0\n",
              "StoreType                    0\n",
              "Assortment                   0\n",
              "CompetitionDistance          0\n",
              "CompetitionOpenSinceMonth    0\n",
              "CompetitionOpenSinceYear     0\n",
              "Promo2                       0\n",
              "Promo2SinceWeek              0\n",
              "Promo2SinceYear              0\n",
              "PromoInterval                0\n",
              "year                         0\n",
              "month                        0\n",
              "day                          0\n",
              "week                         0\n",
              "SalesperCustomer             0\n",
              "CompetitionDist_Cat          0\n",
              "Promo2Open                   0\n",
              "CompetitionOpen              0\n",
              "MonthName                    0\n",
              "isPromoMonth                 0\n",
              "dtype: int64"
            ]
          },
          "metadata": {},
          "execution_count": 27
        }
      ]
    },
    {
      "cell_type": "markdown",
      "source": [
        "As we derived promo2open , competition open from 'CompetitionOpenSinceMonth','CompetitionOpenSinceYear','Promo2SinceWeek','Promo2SinceYear','PromoInterval','CompetitionDist_Cat','MonthName'. We can remove these column to avoid multicolinearity"
      ],
      "metadata": {
        "id": "CHIZzZSe_p7U"
      }
    },
    {
      "cell_type": "code",
      "source": [
        "# drop some columns to avoid multicollinearity\n",
        "df = df.drop(['CompetitionOpenSinceMonth','CompetitionOpenSinceYear','Promo2SinceWeek','Promo2SinceYear','PromoInterval','MonthName'],axis = 1)"
      ],
      "metadata": {
        "id": "yqS0j4pzD6ex"
      },
      "execution_count": null,
      "outputs": []
    },
    {
      "cell_type": "markdown",
      "source": [
        "# **Exploratory Data Analysis**"
      ],
      "metadata": {
        "id": "wtN96CshZwZX"
      }
    },
    {
      "cell_type": "markdown",
      "source": [
        "## Store vs customers/sales"
      ],
      "metadata": {
        "id": "vxiELfUJbWn1"
      }
    },
    {
      "cell_type": "code",
      "source": [
        "plt.figure(figsize=(20,10))\n",
        "plt.subplot(2,3,1)\n",
        "sns.barplot(x= df.groupby(by=\"StoreType\").Store.count().index,y = df.groupby(by=\"StoreType\").Store.nunique()).set(title='Total Count of stores per store type')\n",
        "plt.subplot(2,3,2)\n",
        "sns.barplot(x=df.groupby(by=\"StoreType\").Sales.sum().index,y = df.groupby(by=\"StoreType\").Sales.sum()).set(title='Total Number of sales per store type')\n",
        "plt.subplot(2,3,3)\n",
        "sns.barplot(x=df.groupby(by=\"StoreType\").Customers.sum().index,y = df.groupby(by=\"StoreType\").Customers.sum()).set(title='Total Number of customers per store type')\n",
        "plt.subplot(2,3,4)\n",
        "sns.barplot(x=df.groupby(by=\"StoreType\").Sales.sum().index,y = df.groupby(by=\"StoreType\").Sales.mean()).set(title='Average Sales per store type')\n",
        "plt.subplot(2,3,5)\n",
        "sns.barplot(x=df.groupby(by=\"StoreType\").Customers.sum().index,y = df.groupby(by=\"StoreType\").Customers.mean()).set(title='Average customers per store type')\n",
        "plt.subplot(2,3,6)\n",
        "sns.barplot(x=df.groupby(by=\"StoreType\").Customers.sum().index,y = df.groupby(by=\"StoreType\").SalesperCustomer.mean()).set(title='Average sales per customers per store type')"
      ],
      "metadata": {
        "id": "I-cCI-7TZ5NV",
        "colab": {
          "base_uri": "https://localhost:8080/"
        },
        "outputId": "e1c2b9a3-1b6e-4a74-e445-b02aed1a2c05"
      },
      "execution_count": null,
      "outputs": [
        {
          "output_type": "execute_result",
          "data": {
            "text/plain": [
              "[Text(0.5, 1.0, 'Average sales per customers per store type')]"
            ]
          },
          "metadata": {},
          "execution_count": 29
        },
        {
          "output_type": "display_data",
          "data": {
            "text/plain": [
              "<Figure size 1440x720 with 6 Axes>"
            ],
            "image/png": "[encoded data removed]"
          },
          "metadata": {
            "needs_background": "light"
          }
        }
      ]
    },
    {
      "cell_type": "markdown",
      "source": [
        "\n",
        "\n",
        "*   Store Type - A has more number of stores and also store A has most number of sales and customers.From this we can find that store type is impacting the sales.\n",
        "*   We can see similar patterns with the customers column and the Sales column, if the customer increases ,Sales increases\n",
        "\n"
      ],
      "metadata": {
        "id": "mm0pI2nr0dTB"
      }
    },
    {
      "cell_type": "markdown",
      "source": [
        "## Sale ,customer vs week day"
      ],
      "metadata": {
        "id": "WskJPN1DpdnV"
      }
    },
    {
      "cell_type": "code",
      "source": [
        "plt.figure(figsize=(20,10))\n",
        "plt.subplot(2,3,1)\n",
        "sns.barplot(data=df, x ='DayOfWeek',y = 'Sales')\n",
        "plt.subplot(2,3,2)\n",
        "sns.barplot(data=df, x= 'DayOfWeek',y = 'Customers')"
      ],
      "metadata": {
        "id": "fpJg14JloxiM",
        "outputId": "d854b824-ef1c-40ec-aa04-b83cb18df18b",
        "colab": {
          "base_uri": "https://localhost:8080/"
        }
      },
      "execution_count": null,
      "outputs": [
        {
          "output_type": "execute_result",
          "data": {
            "text/plain": [
              "<matplotlib.axes._subplots.AxesSubplot at 0x7f76c41161d0>"
            ]
          },
          "metadata": {},
          "execution_count": 30
        },
        {
          "output_type": "display_data",
          "data": {
            "text/plain": [
              "<Figure size 1440x720 with 2 Axes>"
            ],
            "image/png": "[encoded data removed]"
          },
          "metadata": {
            "needs_background": "light"
          }
        }
      ]
    },
    {
      "cell_type": "markdown",
      "source": [
        "## Store Assortment"
      ],
      "metadata": {
        "id": "R2v7jAAvi1c3"
      }
    },
    {
      "cell_type": "code",
      "source": [
        "sns.countplot(data = df, x = \"StoreType\", hue = \"Assortment\", order=[\"a\",\"b\",\"c\",\"d\"]) \n",
        "plt.show()"
      ],
      "metadata": {
        "id": "-TQRIF5hi_ih",
        "colab": {
          "base_uri": "https://localhost:8080/"
        },
        "outputId": "f82476ff-f24e-42b9-f71f-3ec8783fc2b8"
      },
      "execution_count": null,
      "outputs": [
        {
          "output_type": "display_data",
          "data": {
            "text/plain": [
              "<Figure size 432x288 with 1 Axes>"
            ],
            "image/png": "[encoded data removed]"
          },
          "metadata": {
            "needs_background": "light"
          }
        }
      ]
    },
    {
      "cell_type": "markdown",
      "source": [
        "We can clearly see here that most of the stores have either assortment type -A  or  assortment type C.\n"
      ],
      "metadata": {
        "id": "y30gCtNG2284"
      }
    },
    {
      "cell_type": "markdown",
      "source": [
        "## Store Promotions"
      ],
      "metadata": {
        "id": "gFj-RMwJjJxr"
      }
    },
    {
      "cell_type": "code",
      "source": [
        "sns.factorplot(data = df, x =\"month\", y = \"Sales\", \n",
        "               col = 'Promo', # per store type in cols\n",
        "               hue = 'Promo2',\n",
        "               row = \"year\"\n",
        "              ,sharex=False)"
      ],
      "metadata": {
        "id": "pbtEhDhCjWn3",
        "colab": {
          "base_uri": "https://localhost:8080/"
        },
        "outputId": "b3d9cad9-d037-4a44-9487-7baf9c73bc83"
      },
      "execution_count": null,
      "outputs": [
        {
          "output_type": "execute_result",
          "data": {
            "text/plain": [
              "<seaborn.axisgrid.FacetGrid at 0x7f76aefbcf10>"
            ]
          },
          "metadata": {},
          "execution_count": 32
        },
        {
          "output_type": "display_data",
          "data": {
            "text/plain": [
              "<Figure size 765.75x1080 with 6 Axes>"
            ],
            "image/png": "[encoded data removed]"
          },
          "metadata": {
            "needs_background": "light"
          }
        }
      ]
    },
    {
      "cell_type": "markdown",
      "source": [
        "*   We see the dramatic change when we compare having promotion Promo=1 to not having promotion Promo=0 and can conclude that a store that have promotion on a given day changes its amount of sales considerably.\n",
        "*   List item\n",
        "\n"
      ],
      "metadata": {
        "id": "NAPeiofb3WQm"
      }
    },
    {
      "cell_type": "code",
      "source": [
        "sns.factorplot(data = df, x =\"DayOfWeek\", y = \"Sales\", \n",
        "               hue = 'Promo',\n",
        "              sharex=False)\n"
      ],
      "metadata": {
        "id": "ITGQDykjjh3h",
        "colab": {
          "base_uri": "https://localhost:8080/"
        },
        "outputId": "29e164c0-7243-468c-8d7c-39f8c9a338d2"
      },
      "execution_count": null,
      "outputs": [
        {
          "output_type": "execute_result",
          "data": {
            "text/plain": [
              "<seaborn.axisgrid.FacetGrid at 0x7f76c8fdf810>"
            ]
          },
          "metadata": {},
          "execution_count": 33
        },
        {
          "output_type": "display_data",
          "data": {
            "text/plain": [
              "<Figure size 402.375x360 with 1 Axes>"
            ],
            "image/png": "[encoded data removed]"
          },
          "metadata": {
            "needs_background": "light"
          }
        }
      ]
    },
    {
      "cell_type": "markdown",
      "source": [
        "We see already a big difference again  on a week level (from Monday to Friday) when we seperate promotion and no promotion.We see there are no promotions during the weekend.\n",
        "For Sunday to have such a high peak is understandable,only 33 stores open on sundays.This clearly shows us how important it is for stores to be opened on Sundays"
      ],
      "metadata": {
        "id": "Ww4N1aMm-uQd"
      }
    },
    {
      "cell_type": "markdown",
      "source": [
        "From all the graphs, we can conclude that all the time there is a peak on Mondays with promotions, a tiny peak on Friday before the weekend and a big peak on Sunday because of closed stores."
      ],
      "metadata": {
        "id": "sT76Ncl8_Tms"
      }
    },
    {
      "cell_type": "markdown",
      "source": [
        "## Competition Distance"
      ],
      "metadata": {
        "id": "RA3UaKWKkUca"
      }
    },
    {
      "cell_type": "code",
      "source": [
        "# To Visualize dataset with repect to Competition Distance\n",
        "plt.figure(figsize=(20,5))\n",
        "plt.subplot(1,2,1)\n",
        "sns.barplot(x= df.groupby(by=\"CompetitionDist_Cat\").Sales.mean().index,y=df.groupby(by=\"CompetitionDist_Cat\").Sales.mean())\n",
        "plt.subplot(1,2,2)\n",
        "sns.barplot(x= df.groupby(by=\"CompetitionDist_Cat\").Customers.mean().index,y=df.groupby(by=\"CompetitionDist_Cat\").Customers.mean())"
      ],
      "metadata": {
        "id": "FeQUgTdfkZtq",
        "colab": {
          "base_uri": "https://localhost:8080/"
        },
        "outputId": "49d5a658-b390-45ea-996f-5b4934b13739"
      },
      "execution_count": null,
      "outputs": [
        {
          "output_type": "execute_result",
          "data": {
            "text/plain": [
              "<matplotlib.axes._subplots.AxesSubplot at 0x7f76c6094610>"
            ]
          },
          "metadata": {},
          "execution_count": 34
        },
        {
          "output_type": "display_data",
          "data": {
            "text/plain": [
              "<Figure size 1440x360 with 2 Axes>"
            ],
            "image/png": "[encoded data removed]"
          },
          "metadata": {
            "needs_background": "light"
          }
        }
      ]
    },
    {
      "cell_type": "markdown",
      "source": [
        "## Holiday vs Sales"
      ],
      "metadata": {
        "id": "ToA0x5Wyoo4A"
      }
    },
    {
      "cell_type": "code",
      "source": [
        "plt.figure(figsize=(20,10))\n",
        "plt.subplot(2,2,1)\n",
        "sns.barplot(data = df , x ='StateHoliday', y='Sales')\n",
        "plt.subplot(2,2,2)\n",
        "sns.barplot(data = df , x ='StateHoliday', y='Customers')\n",
        "plt.subplot(2,2,3)\n",
        "sns.barplot(data = df , x ='SchoolHoliday', y='Sales')\n",
        "plt.subplot(2,2,4)\n",
        "sns.barplot(data = df , x ='SchoolHoliday', y='Customers')"
      ],
      "metadata": {
        "colab": {
          "base_uri": "https://localhost:8080/"
        },
        "id": "Hv5wzvvurmkw",
        "outputId": "71389d50-8f80-4d93-84c5-d05e2385952b"
      },
      "execution_count": null,
      "outputs": [
        {
          "output_type": "execute_result",
          "data": {
            "text/plain": [
              "<matplotlib.axes._subplots.AxesSubplot at 0x7f76c404c110>"
            ]
          },
          "metadata": {},
          "execution_count": 35
        },
        {
          "output_type": "display_data",
          "data": {
            "text/plain": [
              "<Figure size 1440x720 with 4 Axes>"
            ],
            "image/png": "[encoded data removed]"
          },
          "metadata": {
            "needs_background": "light"
          }
        }
      ]
    },
    {
      "cell_type": "markdown",
      "source": [
        "# **preprocessing the data**"
      ],
      "metadata": {
        "id": "yhON9-h038RE"
      }
    },
    {
      "cell_type": "code",
      "source": [
        "df.info()"
      ],
      "metadata": {
        "colab": {
          "base_uri": "https://localhost:8080/"
        },
        "id": "4E7bwPG47PIe",
        "outputId": "f6689199-c7e7-467d-c319-ebcdd061e99d"
      },
      "execution_count": null,
      "outputs": [
        {
          "output_type": "stream",
          "name": "stdout",
          "text": [
            "<class 'pandas.core.frame.DataFrame'>\n",
            "Int64Index: 844392 entries, 0 to 1017190\n",
            "Data columns (total 21 columns):\n",
            " #   Column               Non-Null Count   Dtype   \n",
            "---  ------               --------------   -----   \n",
            " 0   Store                844392 non-null  int64   \n",
            " 1   DayOfWeek            844392 non-null  int64   \n",
            " 2   Sales                844392 non-null  int64   \n",
            " 3   Customers            844392 non-null  int64   \n",
            " 4   Open                 844392 non-null  int64   \n",
            " 5   Promo                844392 non-null  int64   \n",
            " 6   StateHoliday         844392 non-null  object  \n",
            " 7   SchoolHoliday        844392 non-null  int64   \n",
            " 8   StoreType            844392 non-null  object  \n",
            " 9   Assortment           844392 non-null  object  \n",
            " 10  CompetitionDistance  844392 non-null  float64 \n",
            " 11  Promo2               844392 non-null  int64   \n",
            " 12  year                 844392 non-null  int64   \n",
            " 13  month                844392 non-null  int64   \n",
            " 14  day                  844392 non-null  int64   \n",
            " 15  week                 844392 non-null  int64   \n",
            " 16  SalesperCustomer     844392 non-null  float64 \n",
            " 17  CompetitionDist_Cat  844392 non-null  category\n",
            " 18  Promo2Open           844392 non-null  float64 \n",
            " 19  CompetitionOpen      844392 non-null  float64 \n",
            " 20  isPromoMonth         844392 non-null  int64   \n",
            "dtypes: category(1), float64(4), int64(13), object(3)\n",
            "memory usage: 168.3+ MB\n"
          ]
        }
      ]
    },
    {
      "cell_type": "code",
      "source": [
        "df.head()"
      ],
      "metadata": {
        "colab": {
          "base_uri": "https://localhost:8080/"
        },
        "id": "JcmYkNzXwmr4",
        "outputId": "2c00a43c-5bc1-4bd7-f493-23ac6396d519"
      },
      "execution_count": null,
      "outputs": [
        {
          "output_type": "execute_result",
          "data": {
            "text/plain": [
              "   Store  DayOfWeek  Sales  Customers  Open  Promo StateHoliday  \\\n",
              "0      1          5   5263        555     1      1            0   \n",
              "1      2          5   6064        625     1      1            0   \n",
              "2      3          5   8314        821     1      1            0   \n",
              "3      4          5  13995       1498     1      1            0   \n",
              "4      5          5   4822        559     1      1            0   \n",
              "\n",
              "   SchoolHoliday StoreType Assortment  CompetitionDistance  Promo2  year  \\\n",
              "0              1         c          a               1270.0       0  2015   \n",
              "1              1         a          a                570.0       1  2015   \n",
              "2              1         a          a              14130.0       1  2015   \n",
              "3              1         c          c                620.0       0  2015   \n",
              "4              1         a          a              29910.0       0  2015   \n",
              "\n",
              "   month  day  week  SalesperCustomer CompetitionDist_Cat  Promo2Open  \\\n",
              "0      7   31    31          9.482883    (-55.84, 7604.0]         0.0   \n",
              "1      7   31    31          9.702400    (-55.84, 7604.0]        69.0   \n",
              "2      7   31    31         10.126675   (7604.0, 15188.0]        63.0   \n",
              "3      7   31    31          9.342457    (-55.84, 7604.0]         0.0   \n",
              "4      7   31    31          8.626118  (22772.0, 30356.0]         0.0   \n",
              "\n",
              "   CompetitionOpen  isPromoMonth  \n",
              "0             82.0             0  \n",
              "1             92.0             1  \n",
              "2            103.0             1  \n",
              "3             70.0             0  \n",
              "4              3.0             0  "
            ],
            "text/html": [
              "\n",
              "  <div id=\"df-a8946af6-42bd-4dce-927e-efcf1e03293d\">\n",
              "    <div class=\"colab-df-container\">\n",
              "      <div>\n",
              "<style scoped>\n",
              "    .dataframe tbody tr th:only-of-type {\n",
              "        vertical-align: middle;\n",
              "    }\n",
              "\n",
              "    .dataframe tbody tr th {\n",
              "        vertical-align: top;\n",
              "    }\n",
              "\n",
              "    .dataframe thead th {\n",
              "        text-align: right;\n",
              "    }\n",
              "</style>\n",
              "<table border=\"1\" class=\"dataframe\">\n",
              "  <thead>\n",
              "    <tr style=\"text-align: right;\">\n",
              "      <th></th>\n",
              "      <th>Store</th>\n",
              "      <th>DayOfWeek</th>\n",
              "      <th>Sales</th>\n",
              "      <th>Customers</th>\n",
              "      <th>Open</th>\n",
              "      <th>Promo</th>\n",
              "      <th>StateHoliday</th>\n",
              "      <th>SchoolHoliday</th>\n",
              "      <th>StoreType</th>\n",
              "      <th>Assortment</th>\n",
              "      <th>CompetitionDistance</th>\n",
              "      <th>Promo2</th>\n",
              "      <th>year</th>\n",
              "      <th>month</th>\n",
              "      <th>day</th>\n",
              "      <th>week</th>\n",
              "      <th>SalesperCustomer</th>\n",
              "      <th>CompetitionDist_Cat</th>\n",
              "      <th>Promo2Open</th>\n",
              "      <th>CompetitionOpen</th>\n",
              "      <th>isPromoMonth</th>\n",
              "    </tr>\n",
              "  </thead>\n",
              "  <tbody>\n",
              "    <tr>\n",
              "      <th>0</th>\n",
              "      <td>1</td>\n",
              "      <td>5</td>\n",
              "      <td>5263</td>\n",
              "      <td>555</td>\n",
              "      <td>1</td>\n",
              "      <td>1</td>\n",
              "      <td>0</td>\n",
              "      <td>1</td>\n",
              "      <td>c</td>\n",
              "      <td>a</td>\n",
              "      <td>1270.0</td>\n",
              "      <td>0</td>\n",
              "      <td>2015</td>\n",
              "      <td>7</td>\n",
              "      <td>31</td>\n",
              "      <td>31</td>\n",
              "      <td>9.482883</td>\n",
              "      <td>(-55.84, 7604.0]</td>\n",
              "      <td>0.0</td>\n",
              "      <td>82.0</td>\n",
              "      <td>0</td>\n",
              "    </tr>\n",
              "    <tr>\n",
              "      <th>1</th>\n",
              "      <td>2</td>\n",
              "      <td>5</td>\n",
              "      <td>6064</td>\n",
              "      <td>625</td>\n",
              "      <td>1</td>\n",
              "      <td>1</td>\n",
              "      <td>0</td>\n",
              "      <td>1</td>\n",
              "      <td>a</td>\n",
              "      <td>a</td>\n",
              "      <td>570.0</td>\n",
              "      <td>1</td>\n",
              "      <td>2015</td>\n",
              "      <td>7</td>\n",
              "      <td>31</td>\n",
              "      <td>31</td>\n",
              "      <td>9.702400</td>\n",
              "      <td>(-55.84, 7604.0]</td>\n",
              "      <td>69.0</td>\n",
              "      <td>92.0</td>\n",
              "      <td>1</td>\n",
              "    </tr>\n",
              "    <tr>\n",
              "      <th>2</th>\n",
              "      <td>3</td>\n",
              "      <td>5</td>\n",
              "      <td>8314</td>\n",
              "      <td>821</td>\n",
              "      <td>1</td>\n",
              "      <td>1</td>\n",
              "      <td>0</td>\n",
              "      <td>1</td>\n",
              "      <td>a</td>\n",
              "      <td>a</td>\n",
              "      <td>14130.0</td>\n",
              "      <td>1</td>\n",
              "      <td>2015</td>\n",
              "      <td>7</td>\n",
              "      <td>31</td>\n",
              "      <td>31</td>\n",
              "      <td>10.126675</td>\n",
              "      <td>(7604.0, 15188.0]</td>\n",
              "      <td>63.0</td>\n",
              "      <td>103.0</td>\n",
              "      <td>1</td>\n",
              "    </tr>\n",
              "    <tr>\n",
              "      <th>3</th>\n",
              "      <td>4</td>\n",
              "      <td>5</td>\n",
              "      <td>13995</td>\n",
              "      <td>1498</td>\n",
              "      <td>1</td>\n",
              "      <td>1</td>\n",
              "      <td>0</td>\n",
              "      <td>1</td>\n",
              "      <td>c</td>\n",
              "      <td>c</td>\n",
              "      <td>620.0</td>\n",
              "      <td>0</td>\n",
              "      <td>2015</td>\n",
              "      <td>7</td>\n",
              "      <td>31</td>\n",
              "      <td>31</td>\n",
              "      <td>9.342457</td>\n",
              "      <td>(-55.84, 7604.0]</td>\n",
              "      <td>0.0</td>\n",
              "      <td>70.0</td>\n",
              "      <td>0</td>\n",
              "    </tr>\n",
              "    <tr>\n",
              "      <th>4</th>\n",
              "      <td>5</td>\n",
              "      <td>5</td>\n",
              "      <td>4822</td>\n",
              "      <td>559</td>\n",
              "      <td>1</td>\n",
              "      <td>1</td>\n",
              "      <td>0</td>\n",
              "      <td>1</td>\n",
              "      <td>a</td>\n",
              "      <td>a</td>\n",
              "      <td>29910.0</td>\n",
              "      <td>0</td>\n",
              "      <td>2015</td>\n",
              "      <td>7</td>\n",
              "      <td>31</td>\n",
              "      <td>31</td>\n",
              "      <td>8.626118</td>\n",
              "      <td>(22772.0, 30356.0]</td>\n",
              "      <td>0.0</td>\n",
              "      <td>3.0</td>\n",
              "      <td>0</td>\n",
              "    </tr>\n",
              "  </tbody>\n",
              "</table>\n",
              "</div>\n",
              "      <button class=\"colab-df-convert\" onclick=\"convertToInteractive('df-a8946af6-42bd-4dce-927e-efcf1e03293d')\"\n",
              "              title=\"Convert this dataframe to an interactive table.\"\n",
              "              style=\"display:none;\">\n",
              "        \n",
              "  <svg xmlns=\"http://www.w3.org/2000/svg\" height=\"24px\"viewBox=\"0 0 24 24\"\n",
              "       width=\"24px\">\n",
              "    <path d=\"M0 0h24v24H0V0z\" fill=\"none\"/>\n",
              "    <path d=\"M18.56 5.44l.94 2.06.94-2.06 2.06-.94-2.06-.94-.94-2.06-.94 2.06-2.06.94zm-11 1L8.5 8.5l.94-2.06 2.06-.94-2.06-.94L8.5 2.5l-.94 2.06-2.06.94zm10 10l.94 2.06.94-2.06 2.06-.94-2.06-.94-.94-2.06-.94 2.06-2.06.94z\"/><path d=\"M17.41 7.96l-1.37-1.37c-.4-.4-.92-.59-1.43-.59-.52 0-1.04.2-1.43.59L10.3 9.45l-7.72 7.72c-.78.78-.78 2.05 0 2.83L4 21.41c.39.39.9.59 1.41.59.51 0 1.02-.2 1.41-.59l7.78-7.78 2.81-2.81c.8-.78.8-2.07 0-2.86zM5.41 20L4 18.59l7.72-7.72 1.47 1.35L5.41 20z\"/>\n",
              "  </svg>\n",
              "      </button>\n",
              "      \n",
              "  <style>\n",
              "    .colab-df-container {\n",
              "      display:flex;\n",
              "      flex-wrap:wrap;\n",
              "      gap: 12px;\n",
              "    }\n",
              "\n",
              "    .colab-df-convert {\n",
              "      background-color: #E8F0FE;\n",
              "      border: none;\n",
              "      border-radius: 50%;\n",
              "      cursor: pointer;\n",
              "      display: none;\n",
              "      fill: #1967D2;\n",
              "      height: 32px;\n",
              "      padding: 0 0 0 0;\n",
              "      width: 32px;\n",
              "    }\n",
              "\n",
              "    .colab-df-convert:hover {\n",
              "      background-color: #E2EBFA;\n",
              "      box-shadow: 0px 1px 2px rgba(60, 64, 67, 0.3), 0px 1px 3px 1px rgba(60, 64, 67, 0.15);\n",
              "      fill: #174EA6;\n",
              "    }\n",
              "\n",
              "    [theme=dark] .colab-df-convert {\n",
              "      background-color: #3B4455;\n",
              "      fill: #D2E3FC;\n",
              "    }\n",
              "\n",
              "    [theme=dark] .colab-df-convert:hover {\n",
              "      background-color: #434B5C;\n",
              "      box-shadow: 0px 1px 3px 1px rgba(0, 0, 0, 0.15);\n",
              "      filter: drop-shadow(0px 1px 2px rgba(0, 0, 0, 0.3));\n",
              "      fill: #FFFFFF;\n",
              "    }\n",
              "  </style>\n",
              "\n",
              "      <script>\n",
              "        const buttonEl =\n",
              "          document.querySelector('#df-a8946af6-42bd-4dce-927e-efcf1e03293d button.colab-df-convert');\n",
              "        buttonEl.style.display =\n",
              "          google.colab.kernel.accessAllowed ? 'block' : 'none';\n",
              "\n",
              "        async function convertToInteractive(key) {\n",
              "          const element = document.querySelector('#df-a8946af6-42bd-4dce-927e-efcf1e03293d');\n",
              "          const dataTable =\n",
              "            await google.colab.kernel.invokeFunction('convertToInteractive',\n",
              "                                                     [key], {});\n",
              "          if (!dataTable) return;\n",
              "\n",
              "          const docLinkHtml = 'Like what you see? Visit the ' +\n",
              "            '<a target=\"_blank\" href=https://colab.research.google.com/notebooks/data_table.ipynb>data table notebook</a>'\n",
              "            + ' to learn more about interactive tables.';\n",
              "          element.innerHTML = '';\n",
              "          dataTable['output_type'] = 'display_data';\n",
              "          await google.colab.output.renderOutput(dataTable, element);\n",
              "          const docLink = document.createElement('div');\n",
              "          docLink.innerHTML = docLinkHtml;\n",
              "          element.appendChild(docLink);\n",
              "        }\n",
              "      </script>\n",
              "    </div>\n",
              "  </div>\n",
              "  "
            ]
          },
          "metadata": {},
          "execution_count": 37
        }
      ]
    },
    {
      "cell_type": "markdown",
      "source": [
        "## Encoding"
      ],
      "metadata": {
        "id": "fQCRoTVojdJP"
      }
    },
    {
      "cell_type": "code",
      "source": [
        "# To determine the unique values in each object -dtype column\n",
        "for i in df.select_dtypes(include = 'O').describe().columns:\n",
        "  print(\"The unique values of\",i,'are',df[i].unique())"
      ],
      "metadata": {
        "id": "n0OuCHl6LYmX",
        "colab": {
          "base_uri": "https://localhost:8080/"
        },
        "outputId": "702486a8-12a1-4bb9-a609-58f4c97b123e"
      },
      "execution_count": null,
      "outputs": [
        {
          "output_type": "stream",
          "name": "stdout",
          "text": [
            "The unique values of StateHoliday are ['0' 'a' 'b' 'c' 0]\n",
            "The unique values of StoreType are ['c' 'a' 'd' 'b']\n",
            "The unique values of Assortment are ['a' 'c' 'b']\n"
          ]
        }
      ]
    },
    {
      "cell_type": "code",
      "source": [
        "# Label Encoding - replace the string into numerical values\n",
        "df['StateHoliday'] = df['StateHoliday'].map({\"0\": 0, \"a\": 1, \"b\": 1, \"c\": 1, 0:0})\n",
        "df['Assortment'] = df['Assortment'].map({'a':1, 'b' : 2, 'c': 3})\n",
        "df['StoreType'] = df['StoreType'].map({'a':1, 'b' : 2, 'c': 3,'d':4})\n",
        "# df['PromoInterval'] = df['PromoInterval'].map({0:0,'Jan,Apr,Jul,Oct':1,'Feb,May,Aug,Nov':2,\"Mar,Jun,Sept,Dec\":3})"
      ],
      "metadata": {
        "id": "3SCDSITUvD-9"
      },
      "execution_count": null,
      "outputs": []
    },
    {
      "cell_type": "markdown",
      "source": [
        "## Distribution Analysis"
      ],
      "metadata": {
        "id": "6i8NQaqNjrja"
      }
    },
    {
      "cell_type": "code",
      "source": [
        "from scipy import stats\n",
        "def dist_plot(df, variable):\n",
        "  plt.figure(figsize=(20,5))\n",
        "\n",
        "  plt.subplot(1,3,1)\n",
        "  sns.distplot(df[variable],kde=True)\n",
        "\n",
        "  plt.subplot(1,3,2)\n",
        "  sns.boxplot(data=df[variable])\n",
        "\n",
        "  plt.subplot(1,3,3)\n",
        "  stats.probplot(df[variable],dist='norm',plot=plt)\n",
        "\n",
        "def right_skew (df,variable):\n",
        "  plt.figure(figsize=(20,5))\n",
        "  plt.subplot(1,3,1)\n",
        "  sns.histplot(np.log10(df[variable]),kde=True)\n",
        "\n",
        "  plt.subplot(1,3,2)\n",
        "  stats.probplot(np.log10(df[variable]),dist='norm',plot=plt)\n",
        "  plt.title('Log Transformation')\n",
        "\n",
        "  plt.subplot(1,3,3)\n",
        "  sns.boxplot(data=df[variable])\n",
        "\n",
        "\n",
        "def left_skew (df,variable):\n",
        "  plt.figure(figsize=(20,5))\n",
        "  plt.subplot(1,2,1)\n",
        "  sns.histplot(np.log10(max(df[variable]+1)-df[variable]),kde=True)\n",
        "\n",
        "  plt.subplot(1,2,2)\n",
        "  stats.probplot(np.log10(df[variable]),dist='norm',plot=plt)\n",
        "  plt.title('Log Transformation')\n",
        "  plt.show()"
      ],
      "metadata": {
        "id": "l7ke_xtZm0d8"
      },
      "execution_count": null,
      "outputs": []
    },
    {
      "cell_type": "code",
      "source": [
        "for i in ['Sales','Customers','CompetitionDistance']:\n",
        "  dist_plot(df,i)"
      ],
      "metadata": {
        "id": "I7dDsYkmlE7n",
        "colab": {
          "base_uri": "https://localhost:8080/"
        },
        "outputId": "34e7dc35-8a67-4eca-ce3f-f5f427b12fc2"
      },
      "execution_count": null,
      "outputs": [
        {
          "output_type": "display_data",
          "data": {
            "text/plain": [
              "<Figure size 1440x360 with 3 Axes>"
            ],
            "image/png": "[encoded data removed]"
          },
          "metadata": {
            "needs_background": "light"
          }
        },
        {
          "output_type": "display_data",
          "data": {
            "text/plain": [
              "<Figure size 1440x360 with 3 Axes>"
            ],
            "image/png": "[encoded data removed]"
          },
          "metadata": {
            "needs_background": "light"
          }
        },
        {
          "output_type": "display_data",
          "data": {
            "text/plain": [
              "<Figure size 1440x360 with 3 Axes>"
            ],
            "image/png": "[encoded data removed]"
          },
          "metadata": {
            "needs_background": "light"
          }
        }
      ]
    },
    {
      "cell_type": "code",
      "source": [
        "print(df['Sales'].mean())\n",
        "print(df['Sales'].median())"
      ],
      "metadata": {
        "colab": {
          "base_uri": "https://localhost:8080/"
        },
        "id": "xP60iP7PtyLP",
        "outputId": "0c11ddb2-31f5-4803-b5e1-a52476a7862e"
      },
      "execution_count": null,
      "outputs": [
        {
          "output_type": "stream",
          "name": "stdout",
          "text": [
            "6955.514290755952\n",
            "6369.0\n"
          ]
        }
      ]
    },
    {
      "cell_type": "markdown",
      "source": [
        "\n",
        "*  Dependent Variable - 'Sales' has outliers ,The outliers may be because of promotional days or big store or State Holiday. in order to analyze the data we will retain the outliers.\n",
        "*  The mean of 'Sales' variable is 6955 versus 6369 in median is a very good sign that there are no extravagant values affecting the general distribution of Sales.\n",
        "\n",
        "\n"
      ],
      "metadata": {
        "id": "5MmKayDRzD7y"
      }
    },
    {
      "cell_type": "markdown",
      "source": [
        "## Correlation Analysis"
      ],
      "metadata": {
        "id": "N9CdXBZwkqZm"
      }
    },
    {
      "cell_type": "code",
      "source": [
        "plt.figure(figsize=(25,25))\n",
        "sns.heatmap(df.corr(),annot=True,cmap='coolwarm')"
      ],
      "metadata": {
        "id": "quhjsHHlyQSF",
        "colab": {
          "base_uri": "https://localhost:8080/"
        },
        "outputId": "6a038fdc-d5f1-4717-eb51-9fbaa86de0bf"
      },
      "execution_count": null,
      "outputs": [
        {
          "output_type": "execute_result",
          "data": {
            "text/plain": [
              "<matplotlib.axes._subplots.AxesSubplot at 0x7f76c4b81450>"
            ]
          },
          "metadata": {},
          "execution_count": 43
        },
        {
          "output_type": "display_data",
          "data": {
            "text/plain": [
              "<Figure size 1800x1800 with 2 Axes>"
            ],
            "image/png": "[encoded data removed]"
          },
          "metadata": {
            "needs_background": "light"
          }
        }
      ]
    },
    {
      "cell_type": "markdown",
      "source": [
        "\n",
        "\n",
        "*   It's interesting to see that Sales per Customer and Promo (0.28) actually correlate positively, since running a promotion increases that number .\n",
        "*   Sales per Customer also correlates with Competition Distance(0.2), in a positive manner\n",
        "\n",
        "\n",
        "\n"
      ],
      "metadata": {
        "id": "fnj1XD5SbHQW"
      }
    },
    {
      "cell_type": "code",
      "source": [
        "# To remove all low variance features\n",
        "from sklearn.feature_selection import VarianceThreshold\n",
        "var = VarianceThreshold() # Default Threshold is 0\n",
        "var.fit(df.select_dtypes(include='number'))"
      ],
      "metadata": {
        "id": "4qd7f5mEys_L",
        "colab": {
          "base_uri": "https://localhost:8080/"
        },
        "outputId": "47235b16-6e4c-4dce-c3b4-d575a155f94d"
      },
      "execution_count": null,
      "outputs": [
        {
          "output_type": "execute_result",
          "data": {
            "text/plain": [
              "VarianceThreshold()"
            ]
          },
          "metadata": {},
          "execution_count": 44
        }
      ]
    },
    {
      "cell_type": "code",
      "source": [
        "# To print all the high variance features\n",
        "print('The features with high variance are = ', var.get_feature_names_out())"
      ],
      "metadata": {
        "id": "5ZVFfk-Qzg5i",
        "colab": {
          "base_uri": "https://localhost:8080/"
        },
        "outputId": "996d10b4-2037-4e64-f4ce-d1fc1caf2d5e"
      },
      "execution_count": null,
      "outputs": [
        {
          "output_type": "stream",
          "name": "stdout",
          "text": [
            "The features with high variance are =  ['Store' 'DayOfWeek' 'Sales' 'Customers' 'Promo' 'StateHoliday'\n",
            " 'SchoolHoliday' 'StoreType' 'Assortment' 'CompetitionDistance' 'Promo2'\n",
            " 'year' 'month' 'day' 'week' 'SalesperCustomer' 'Promo2Open'\n",
            " 'CompetitionOpen' 'isPromoMonth']\n"
          ]
        }
      ]
    },
    {
      "cell_type": "code",
      "source": [
        "# Low variance features can be removed from the dataset\n",
        "x=[i for i in df.describe(include='all').columns if i not in list(var.get_feature_names_out())]\n",
        "x"
      ],
      "metadata": {
        "id": "4u2hHSRLzkJ9",
        "colab": {
          "base_uri": "https://localhost:8080/"
        },
        "outputId": "8e0e69f8-132a-4488-b05c-204461ea9eb4"
      },
      "execution_count": null,
      "outputs": [
        {
          "output_type": "execute_result",
          "data": {
            "text/plain": [
              "['Open', 'CompetitionDist_Cat']"
            ]
          },
          "metadata": {},
          "execution_count": 46
        }
      ]
    },
    {
      "cell_type": "code",
      "source": [
        "df = df[list(var.get_feature_names_out())] # Removed ['Open', 'CompetitionDist_Cat'] from the dataset"
      ],
      "metadata": {
        "id": "grBg3nKD0QI9"
      },
      "execution_count": null,
      "outputs": []
    },
    {
      "cell_type": "code",
      "source": [
        "# To determine the variance_inflation_factor\n",
        "from statsmodels.stats.outliers_influence import variance_inflation_factor\n",
        "\n",
        "def calc_vif(x):\n",
        "\n",
        "  vif = pd.DataFrame()\n",
        "  vif['features']=x.columns\n",
        "  vif['VIF'] = [variance_inflation_factor(x.values,i) for i in range(x.shape[1]) ]\n",
        "  return (vif)"
      ],
      "metadata": {
        "id": "t-qDKiMy0i0g"
      },
      "execution_count": null,
      "outputs": []
    },
    {
      "cell_type": "code",
      "source": [
        "calc_vif(df)"
      ],
      "metadata": {
        "id": "y8YijEId0koU",
        "colab": {
          "base_uri": "https://localhost:8080/"
        },
        "outputId": "5a0b188c-87cf-4244-d0ba-f3f306b260c0"
      },
      "execution_count": null,
      "outputs": [
        {
          "output_type": "execute_result",
          "data": {
            "text/plain": [
              "               features        VIF\n",
              "0                 Store   4.027943\n",
              "1             DayOfWeek   5.812588\n",
              "2                 Sales  70.824199\n",
              "3             Customers  56.025609\n",
              "4                 Promo   2.437067\n",
              "5          StateHoliday   1.006385\n",
              "6         SchoolHoliday   1.309046\n",
              "7             StoreType   4.873150\n",
              "8            Assortment   5.323658\n",
              "9   CompetitionDistance   1.673191\n",
              "10               Promo2   3.618641\n",
              "11                 year  87.801349\n",
              "12                month  57.166188\n",
              "13                  day   4.585479\n",
              "14                 week  52.102546\n",
              "15     SalesperCustomer  94.938133\n",
              "16           Promo2Open   2.051591\n",
              "17      CompetitionOpen   1.928817\n",
              "18         isPromoMonth   1.532260"
            ],
            "text/html": [
              "\n",
              "  <div id=\"df-495dd71f-f3cb-4973-bad2-b078bd339aeb\">\n",
              "    <div class=\"colab-df-container\">\n",
              "      <div>\n",
              "<style scoped>\n",
              "    .dataframe tbody tr th:only-of-type {\n",
              "        vertical-align: middle;\n",
              "    }\n",
              "\n",
              "    .dataframe tbody tr th {\n",
              "        vertical-align: top;\n",
              "    }\n",
              "\n",
              "    .dataframe thead th {\n",
              "        text-align: right;\n",
              "    }\n",
              "</style>\n",
              "<table border=\"1\" class=\"dataframe\">\n",
              "  <thead>\n",
              "    <tr style=\"text-align: right;\">\n",
              "      <th></th>\n",
              "      <th>features</th>\n",
              "      <th>VIF</th>\n",
              "    </tr>\n",
              "  </thead>\n",
              "  <tbody>\n",
              "    <tr>\n",
              "      <th>0</th>\n",
              "      <td>Store</td>\n",
              "      <td>4.027943</td>\n",
              "    </tr>\n",
              "    <tr>\n",
              "      <th>1</th>\n",
              "      <td>DayOfWeek</td>\n",
              "      <td>5.812588</td>\n",
              "    </tr>\n",
              "    <tr>\n",
              "      <th>2</th>\n",
              "      <td>Sales</td>\n",
              "      <td>70.824199</td>\n",
              "    </tr>\n",
              "    <tr>\n",
              "      <th>3</th>\n",
              "      <td>Customers</td>\n",
              "      <td>56.025609</td>\n",
              "    </tr>\n",
              "    <tr>\n",
              "      <th>4</th>\n",
              "      <td>Promo</td>\n",
              "      <td>2.437067</td>\n",
              "    </tr>\n",
              "    <tr>\n",
              "      <th>5</th>\n",
              "      <td>StateHoliday</td>\n",
              "      <td>1.006385</td>\n",
              "    </tr>\n",
              "    <tr>\n",
              "      <th>6</th>\n",
              "      <td>SchoolHoliday</td>\n",
              "      <td>1.309046</td>\n",
              "    </tr>\n",
              "    <tr>\n",
              "      <th>7</th>\n",
              "      <td>StoreType</td>\n",
              "      <td>4.873150</td>\n",
              "    </tr>\n",
              "    <tr>\n",
              "      <th>8</th>\n",
              "      <td>Assortment</td>\n",
              "      <td>5.323658</td>\n",
              "    </tr>\n",
              "    <tr>\n",
              "      <th>9</th>\n",
              "      <td>CompetitionDistance</td>\n",
              "      <td>1.673191</td>\n",
              "    </tr>\n",
              "    <tr>\n",
              "      <th>10</th>\n",
              "      <td>Promo2</td>\n",
              "      <td>3.618641</td>\n",
              "    </tr>\n",
              "    <tr>\n",
              "      <th>11</th>\n",
              "      <td>year</td>\n",
              "      <td>87.801349</td>\n",
              "    </tr>\n",
              "    <tr>\n",
              "      <th>12</th>\n",
              "      <td>month</td>\n",
              "      <td>57.166188</td>\n",
              "    </tr>\n",
              "    <tr>\n",
              "      <th>13</th>\n",
              "      <td>day</td>\n",
              "      <td>4.585479</td>\n",
              "    </tr>\n",
              "    <tr>\n",
              "      <th>14</th>\n",
              "      <td>week</td>\n",
              "      <td>52.102546</td>\n",
              "    </tr>\n",
              "    <tr>\n",
              "      <th>15</th>\n",
              "      <td>SalesperCustomer</td>\n",
              "      <td>94.938133</td>\n",
              "    </tr>\n",
              "    <tr>\n",
              "      <th>16</th>\n",
              "      <td>Promo2Open</td>\n",
              "      <td>2.051591</td>\n",
              "    </tr>\n",
              "    <tr>\n",
              "      <th>17</th>\n",
              "      <td>CompetitionOpen</td>\n",
              "      <td>1.928817</td>\n",
              "    </tr>\n",
              "    <tr>\n",
              "      <th>18</th>\n",
              "      <td>isPromoMonth</td>\n",
              "      <td>1.532260</td>\n",
              "    </tr>\n",
              "  </tbody>\n",
              "</table>\n",
              "</div>\n",
              "      <button class=\"colab-df-convert\" onclick=\"convertToInteractive('df-495dd71f-f3cb-4973-bad2-b078bd339aeb')\"\n",
              "              title=\"Convert this dataframe to an interactive table.\"\n",
              "              style=\"display:none;\">\n",
              "        \n",
              "  <svg xmlns=\"http://www.w3.org/2000/svg\" height=\"24px\"viewBox=\"0 0 24 24\"\n",
              "       width=\"24px\">\n",
              "    <path d=\"M0 0h24v24H0V0z\" fill=\"none\"/>\n",
              "    <path d=\"M18.56 5.44l.94 2.06.94-2.06 2.06-.94-2.06-.94-.94-2.06-.94 2.06-2.06.94zm-11 1L8.5 8.5l.94-2.06 2.06-.94-2.06-.94L8.5 2.5l-.94 2.06-2.06.94zm10 10l.94 2.06.94-2.06 2.06-.94-2.06-.94-.94-2.06-.94 2.06-2.06.94z\"/><path d=\"M17.41 7.96l-1.37-1.37c-.4-.4-.92-.59-1.43-.59-.52 0-1.04.2-1.43.59L10.3 9.45l-7.72 7.72c-.78.78-.78 2.05 0 2.83L4 21.41c.39.39.9.59 1.41.59.51 0 1.02-.2 1.41-.59l7.78-7.78 2.81-2.81c.8-.78.8-2.07 0-2.86zM5.41 20L4 18.59l7.72-7.72 1.47 1.35L5.41 20z\"/>\n",
              "  </svg>\n",
              "      </button>\n",
              "      \n",
              "  <style>\n",
              "    .colab-df-container {\n",
              "      display:flex;\n",
              "      flex-wrap:wrap;\n",
              "      gap: 12px;\n",
              "    }\n",
              "\n",
              "    .colab-df-convert {\n",
              "      background-color: #E8F0FE;\n",
              "      border: none;\n",
              "      border-radius: 50%;\n",
              "      cursor: pointer;\n",
              "      display: none;\n",
              "      fill: #1967D2;\n",
              "      height: 32px;\n",
              "      padding: 0 0 0 0;\n",
              "      width: 32px;\n",
              "    }\n",
              "\n",
              "    .colab-df-convert:hover {\n",
              "      background-color: #E2EBFA;\n",
              "      box-shadow: 0px 1px 2px rgba(60, 64, 67, 0.3), 0px 1px 3px 1px rgba(60, 64, 67, 0.15);\n",
              "      fill: #174EA6;\n",
              "    }\n",
              "\n",
              "    [theme=dark] .colab-df-convert {\n",
              "      background-color: #3B4455;\n",
              "      fill: #D2E3FC;\n",
              "    }\n",
              "\n",
              "    [theme=dark] .colab-df-convert:hover {\n",
              "      background-color: #434B5C;\n",
              "      box-shadow: 0px 1px 3px 1px rgba(0, 0, 0, 0.15);\n",
              "      filter: drop-shadow(0px 1px 2px rgba(0, 0, 0, 0.3));\n",
              "      fill: #FFFFFF;\n",
              "    }\n",
              "  </style>\n",
              "\n",
              "      <script>\n",
              "        const buttonEl =\n",
              "          document.querySelector('#df-495dd71f-f3cb-4973-bad2-b078bd339aeb button.colab-df-convert');\n",
              "        buttonEl.style.display =\n",
              "          google.colab.kernel.accessAllowed ? 'block' : 'none';\n",
              "\n",
              "        async function convertToInteractive(key) {\n",
              "          const element = document.querySelector('#df-495dd71f-f3cb-4973-bad2-b078bd339aeb');\n",
              "          const dataTable =\n",
              "            await google.colab.kernel.invokeFunction('convertToInteractive',\n",
              "                                                     [key], {});\n",
              "          if (!dataTable) return;\n",
              "\n",
              "          const docLinkHtml = 'Like what you see? Visit the ' +\n",
              "            '<a target=\"_blank\" href=https://colab.research.google.com/notebooks/data_table.ipynb>data table notebook</a>'\n",
              "            + ' to learn more about interactive tables.';\n",
              "          element.innerHTML = '';\n",
              "          dataTable['output_type'] = 'display_data';\n",
              "          await google.colab.output.renderOutput(dataTable, element);\n",
              "          const docLink = document.createElement('div');\n",
              "          docLink.innerHTML = docLinkHtml;\n",
              "          element.appendChild(docLink);\n",
              "        }\n",
              "      </script>\n",
              "    </div>\n",
              "  </div>\n",
              "  "
            ]
          },
          "metadata": {},
          "execution_count": 49
        }
      ]
    },
    {
      "cell_type": "code",
      "source": [
        "calc_vif(df[[i for i in df.columns if i not in ['Sales','week','SalesperCustomer','year']]])"
      ],
      "metadata": {
        "id": "5nVO7GvU2YzZ",
        "colab": {
          "base_uri": "https://localhost:8080/"
        },
        "outputId": "e3592336-b1ce-4f81-c0e9-c85a0c85b454"
      },
      "execution_count": null,
      "outputs": [
        {
          "output_type": "execute_result",
          "data": {
            "text/plain": [
              "               features       VIF\n",
              "0                 Store  3.674998\n",
              "1             DayOfWeek  4.508147\n",
              "2             Customers  4.476929\n",
              "3                 Promo  1.937631\n",
              "4          StateHoliday  1.004035\n",
              "5         SchoolHoliday  1.277228\n",
              "6             StoreType  3.695994\n",
              "7            Assortment  4.913390\n",
              "8   CompetitionDistance  1.569209\n",
              "9                Promo2  3.190654\n",
              "10                month  4.750287\n",
              "11                  day  3.828286\n",
              "12           Promo2Open  1.948341\n",
              "13      CompetitionOpen  1.869003\n",
              "14         isPromoMonth  1.531598"
            ],
            "text/html": [
              "\n",
              "  <div id=\"df-c08cd073-c45a-4a26-8cfd-56ede526e55e\">\n",
              "    <div class=\"colab-df-container\">\n",
              "      <div>\n",
              "<style scoped>\n",
              "    .dataframe tbody tr th:only-of-type {\n",
              "        vertical-align: middle;\n",
              "    }\n",
              "\n",
              "    .dataframe tbody tr th {\n",
              "        vertical-align: top;\n",
              "    }\n",
              "\n",
              "    .dataframe thead th {\n",
              "        text-align: right;\n",
              "    }\n",
              "</style>\n",
              "<table border=\"1\" class=\"dataframe\">\n",
              "  <thead>\n",
              "    <tr style=\"text-align: right;\">\n",
              "      <th></th>\n",
              "      <th>features</th>\n",
              "      <th>VIF</th>\n",
              "    </tr>\n",
              "  </thead>\n",
              "  <tbody>\n",
              "    <tr>\n",
              "      <th>0</th>\n",
              "      <td>Store</td>\n",
              "      <td>3.674998</td>\n",
              "    </tr>\n",
              "    <tr>\n",
              "      <th>1</th>\n",
              "      <td>DayOfWeek</td>\n",
              "      <td>4.508147</td>\n",
              "    </tr>\n",
              "    <tr>\n",
              "      <th>2</th>\n",
              "      <td>Customers</td>\n",
              "      <td>4.476929</td>\n",
              "    </tr>\n",
              "    <tr>\n",
              "      <th>3</th>\n",
              "      <td>Promo</td>\n",
              "      <td>1.937631</td>\n",
              "    </tr>\n",
              "    <tr>\n",
              "      <th>4</th>\n",
              "      <td>StateHoliday</td>\n",
              "      <td>1.004035</td>\n",
              "    </tr>\n",
              "    <tr>\n",
              "      <th>5</th>\n",
              "      <td>SchoolHoliday</td>\n",
              "      <td>1.277228</td>\n",
              "    </tr>\n",
              "    <tr>\n",
              "      <th>6</th>\n",
              "      <td>StoreType</td>\n",
              "      <td>3.695994</td>\n",
              "    </tr>\n",
              "    <tr>\n",
              "      <th>7</th>\n",
              "      <td>Assortment</td>\n",
              "      <td>4.913390</td>\n",
              "    </tr>\n",
              "    <tr>\n",
              "      <th>8</th>\n",
              "      <td>CompetitionDistance</td>\n",
              "      <td>1.569209</td>\n",
              "    </tr>\n",
              "    <tr>\n",
              "      <th>9</th>\n",
              "      <td>Promo2</td>\n",
              "      <td>3.190654</td>\n",
              "    </tr>\n",
              "    <tr>\n",
              "      <th>10</th>\n",
              "      <td>month</td>\n",
              "      <td>4.750287</td>\n",
              "    </tr>\n",
              "    <tr>\n",
              "      <th>11</th>\n",
              "      <td>day</td>\n",
              "      <td>3.828286</td>\n",
              "    </tr>\n",
              "    <tr>\n",
              "      <th>12</th>\n",
              "      <td>Promo2Open</td>\n",
              "      <td>1.948341</td>\n",
              "    </tr>\n",
              "    <tr>\n",
              "      <th>13</th>\n",
              "      <td>CompetitionOpen</td>\n",
              "      <td>1.869003</td>\n",
              "    </tr>\n",
              "    <tr>\n",
              "      <th>14</th>\n",
              "      <td>isPromoMonth</td>\n",
              "      <td>1.531598</td>\n",
              "    </tr>\n",
              "  </tbody>\n",
              "</table>\n",
              "</div>\n",
              "      <button class=\"colab-df-convert\" onclick=\"convertToInteractive('df-c08cd073-c45a-4a26-8cfd-56ede526e55e')\"\n",
              "              title=\"Convert this dataframe to an interactive table.\"\n",
              "              style=\"display:none;\">\n",
              "        \n",
              "  <svg xmlns=\"http://www.w3.org/2000/svg\" height=\"24px\"viewBox=\"0 0 24 24\"\n",
              "       width=\"24px\">\n",
              "    <path d=\"M0 0h24v24H0V0z\" fill=\"none\"/>\n",
              "    <path d=\"M18.56 5.44l.94 2.06.94-2.06 2.06-.94-2.06-.94-.94-2.06-.94 2.06-2.06.94zm-11 1L8.5 8.5l.94-2.06 2.06-.94-2.06-.94L8.5 2.5l-.94 2.06-2.06.94zm10 10l.94 2.06.94-2.06 2.06-.94-2.06-.94-.94-2.06-.94 2.06-2.06.94z\"/><path d=\"M17.41 7.96l-1.37-1.37c-.4-.4-.92-.59-1.43-.59-.52 0-1.04.2-1.43.59L10.3 9.45l-7.72 7.72c-.78.78-.78 2.05 0 2.83L4 21.41c.39.39.9.59 1.41.59.51 0 1.02-.2 1.41-.59l7.78-7.78 2.81-2.81c.8-.78.8-2.07 0-2.86zM5.41 20L4 18.59l7.72-7.72 1.47 1.35L5.41 20z\"/>\n",
              "  </svg>\n",
              "      </button>\n",
              "      \n",
              "  <style>\n",
              "    .colab-df-container {\n",
              "      display:flex;\n",
              "      flex-wrap:wrap;\n",
              "      gap: 12px;\n",
              "    }\n",
              "\n",
              "    .colab-df-convert {\n",
              "      background-color: #E8F0FE;\n",
              "      border: none;\n",
              "      border-radius: 50%;\n",
              "      cursor: pointer;\n",
              "      display: none;\n",
              "      fill: #1967D2;\n",
              "      height: 32px;\n",
              "      padding: 0 0 0 0;\n",
              "      width: 32px;\n",
              "    }\n",
              "\n",
              "    .colab-df-convert:hover {\n",
              "      background-color: #E2EBFA;\n",
              "      box-shadow: 0px 1px 2px rgba(60, 64, 67, 0.3), 0px 1px 3px 1px rgba(60, 64, 67, 0.15);\n",
              "      fill: #174EA6;\n",
              "    }\n",
              "\n",
              "    [theme=dark] .colab-df-convert {\n",
              "      background-color: #3B4455;\n",
              "      fill: #D2E3FC;\n",
              "    }\n",
              "\n",
              "    [theme=dark] .colab-df-convert:hover {\n",
              "      background-color: #434B5C;\n",
              "      box-shadow: 0px 1px 3px 1px rgba(0, 0, 0, 0.15);\n",
              "      filter: drop-shadow(0px 1px 2px rgba(0, 0, 0, 0.3));\n",
              "      fill: #FFFFFF;\n",
              "    }\n",
              "  </style>\n",
              "\n",
              "      <script>\n",
              "        const buttonEl =\n",
              "          document.querySelector('#df-c08cd073-c45a-4a26-8cfd-56ede526e55e button.colab-df-convert');\n",
              "        buttonEl.style.display =\n",
              "          google.colab.kernel.accessAllowed ? 'block' : 'none';\n",
              "\n",
              "        async function convertToInteractive(key) {\n",
              "          const element = document.querySelector('#df-c08cd073-c45a-4a26-8cfd-56ede526e55e');\n",
              "          const dataTable =\n",
              "            await google.colab.kernel.invokeFunction('convertToInteractive',\n",
              "                                                     [key], {});\n",
              "          if (!dataTable) return;\n",
              "\n",
              "          const docLinkHtml = 'Like what you see? Visit the ' +\n",
              "            '<a target=\"_blank\" href=https://colab.research.google.com/notebooks/data_table.ipynb>data table notebook</a>'\n",
              "            + ' to learn more about interactive tables.';\n",
              "          element.innerHTML = '';\n",
              "          dataTable['output_type'] = 'display_data';\n",
              "          await google.colab.output.renderOutput(dataTable, element);\n",
              "          const docLink = document.createElement('div');\n",
              "          docLink.innerHTML = docLinkHtml;\n",
              "          element.appendChild(docLink);\n",
              "        }\n",
              "      </script>\n",
              "    </div>\n",
              "  </div>\n",
              "  "
            ]
          },
          "metadata": {},
          "execution_count": 50
        }
      ]
    },
    {
      "cell_type": "code",
      "source": [
        "df.drop(['week','SalesperCustomer'],axis=1,inplace=True)"
      ],
      "metadata": {
        "id": "fpgpnL_HBOP4"
      },
      "execution_count": null,
      "outputs": []
    },
    {
      "cell_type": "markdown",
      "source": [
        "## Feature Selection"
      ],
      "metadata": {
        "id": "O-dXtKISlMlW"
      }
    },
    {
      "cell_type": "code",
      "source": [
        "df.columns"
      ],
      "metadata": {
        "colab": {
          "base_uri": "https://localhost:8080/"
        },
        "id": "qdBWSptd0IoV",
        "outputId": "aae4e82f-4c1f-4762-900e-eae1fe78898a"
      },
      "execution_count": null,
      "outputs": [
        {
          "output_type": "execute_result",
          "data": {
            "text/plain": [
              "Index(['Store', 'DayOfWeek', 'Sales', 'Customers', 'Promo', 'StateHoliday',\n",
              "       'SchoolHoliday', 'StoreType', 'Assortment', 'CompetitionDistance',\n",
              "       'Promo2', 'year', 'month', 'day', 'Promo2Open', 'CompetitionOpen',\n",
              "       'isPromoMonth'],\n",
              "      dtype='object')"
            ]
          },
          "metadata": {},
          "execution_count": 52
        }
      ]
    },
    {
      "cell_type": "code",
      "source": [
        "# Dataset contains 8L rows, by considering the time complexity and Ram management , random sampling of 3L rows have been considered \n",
        "new_df = df.sample(n=300000,random_state=2) # Number of rows reduced to 3L"
      ],
      "metadata": {
        "id": "_hPCFPo70Op2"
      },
      "execution_count": null,
      "outputs": []
    },
    {
      "cell_type": "code",
      "source": [
        "# x- Independent Variable y - dependent Variable\n",
        "x=new_df.drop(['Sales'],axis = 1)\n",
        "y=new_df[['Sales']]"
      ],
      "metadata": {
        "id": "j1Jdaay61jUc"
      },
      "execution_count": null,
      "outputs": []
    },
    {
      "cell_type": "code",
      "source": [
        "from sklearn.model_selection import train_test_split\n",
        "x_train,x_test,y_train,y_test = train_test_split(x,y,test_size = 0.2,random_state = 0)"
      ],
      "metadata": {
        "id": "NKp0g1To1vO-"
      },
      "execution_count": null,
      "outputs": []
    },
    {
      "cell_type": "markdown",
      "source": [
        "# **ML-Regression Model**"
      ],
      "metadata": {
        "id": "tVYTDQPYmVXj"
      }
    },
    {
      "cell_type": "markdown",
      "source": [
        "## Evaluation Metrics"
      ],
      "metadata": {
        "id": "XZcIGLS4_0F7"
      }
    },
    {
      "cell_type": "code",
      "source": [
        "# Import Libraries related to regression evaluation metrics\n",
        "from sklearn.metrics import mean_squared_error,r2_score,mean_absolute_error,mean_absolute_percentage_error"
      ],
      "metadata": {
        "id": "E6OsmK2jML-R"
      },
      "execution_count": null,
      "outputs": []
    },
    {
      "cell_type": "code",
      "source": [
        "pip install sktime"
      ],
      "metadata": {
        "colab": {
          "base_uri": "https://localhost:8080/"
        },
        "id": "O7DchesWFDie",
        "outputId": "0ac993d3-ec34-4639-cb24-45e722b0eeb0"
      },
      "execution_count": null,
      "outputs": [
        {
          "output_type": "stream",
          "name": "stdout",
          "text": [
            "Looking in indexes: https://pypi.org/simple, https://us-python.pkg.dev/colab-wheels/public/simple/\n",
            "Collecting sktime\n",
            "  Downloading sktime-0.14.0-py3-none-any.whl (7.0 MB)\n",
            "\u001b[K     |████████████████████████████████| 7.0 MB 5.3 MB/s \n",
            "\u001b[?25hRequirement already satisfied: scipy<2.0.0 in /usr/local/lib/python3.7/dist-packages (from sktime) (1.7.3)\n",
            "Collecting deprecated>=1.2.13\n",
            "  Downloading Deprecated-1.2.13-py2.py3-none-any.whl (9.6 kB)\n",
            "Requirement already satisfied: pandas<1.6.0,>=1.1.0 in /usr/local/lib/python3.7/dist-packages (from sktime) (1.3.5)\n",
            "Requirement already satisfied: statsmodels>=0.12.1 in /usr/local/lib/python3.7/dist-packages (from sktime) (0.12.2)\n",
            "Requirement already satisfied: numba>=0.53 in /usr/local/lib/python3.7/dist-packages (from sktime) (0.56.4)\n",
            "Requirement already satisfied: numpy<1.23,>=1.21.0 in /usr/local/lib/python3.7/dist-packages (from sktime) (1.21.6)\n",
            "Requirement already satisfied: scikit-learn<1.2.0,>=0.24.0 in /usr/local/lib/python3.7/dist-packages (from sktime) (1.0.2)\n",
            "Requirement already satisfied: wrapt<2,>=1.10 in /usr/local/lib/python3.7/dist-packages (from deprecated>=1.2.13->sktime) (1.14.1)\n",
            "Requirement already satisfied: llvmlite<0.40,>=0.39.0dev0 in /usr/local/lib/python3.7/dist-packages (from numba>=0.53->sktime) (0.39.1)\n",
            "Requirement already satisfied: setuptools in /usr/local/lib/python3.7/dist-packages (from numba>=0.53->sktime) (57.4.0)\n",
            "Requirement already satisfied: importlib-metadata in /usr/local/lib/python3.7/dist-packages (from numba>=0.53->sktime) (4.13.0)\n",
            "Requirement already satisfied: python-dateutil>=2.7.3 in /usr/local/lib/python3.7/dist-packages (from pandas<1.6.0,>=1.1.0->sktime) (2.8.2)\n",
            "Requirement already satisfied: pytz>=2017.3 in /usr/local/lib/python3.7/dist-packages (from pandas<1.6.0,>=1.1.0->sktime) (2022.6)\n",
            "Requirement already satisfied: six>=1.5 in /usr/local/lib/python3.7/dist-packages (from python-dateutil>=2.7.3->pandas<1.6.0,>=1.1.0->sktime) (1.15.0)\n",
            "Requirement already satisfied: joblib>=0.11 in /usr/local/lib/python3.7/dist-packages (from scikit-learn<1.2.0,>=0.24.0->sktime) (1.2.0)\n",
            "Requirement already satisfied: threadpoolctl>=2.0.0 in /usr/local/lib/python3.7/dist-packages (from scikit-learn<1.2.0,>=0.24.0->sktime) (3.1.0)\n",
            "Requirement already satisfied: patsy>=0.5 in /usr/local/lib/python3.7/dist-packages (from statsmodels>=0.12.1->sktime) (0.5.3)\n",
            "Requirement already satisfied: zipp>=0.5 in /usr/local/lib/python3.7/dist-packages (from importlib-metadata->numba>=0.53->sktime) (3.10.0)\n",
            "Requirement already satisfied: typing-extensions>=3.6.4 in /usr/local/lib/python3.7/dist-packages (from importlib-metadata->numba>=0.53->sktime) (4.1.1)\n",
            "Installing collected packages: deprecated, sktime\n",
            "Successfully installed deprecated-1.2.13 sktime-0.14.0\n"
          ]
        }
      ]
    },
    {
      "cell_type": "markdown",
      "source": [
        "Root Mean Squared Percentage Error\n",
        "\n",
        "-shows better prediction accuracy compared with the regression models"
      ],
      "metadata": {
        "id": "nW5jcnnSKQMl"
      }
    },
    {
      "cell_type": "code",
      "source": [
        "# Root mean square percentage error\n",
        "from sktime.performance_metrics.forecasting import     MeanSquaredPercentageError\n",
        "rmspe = MeanSquaredPercentageError(square_root=True)"
      ],
      "metadata": {
        "id": "wF_3DAUKd90Z"
      },
      "execution_count": null,
      "outputs": []
    },
    {
      "cell_type": "code",
      "source": [
        "# Regression Evaluation Metrics\n",
        "def regression_evaluation(x_test,y_test,y_pred):\n",
        "  print('The mean squared error is = ', mean_squared_error((y_test),(y_pred)))\n",
        "  print('The mean absolute error is=', mean_absolute_error((y_test),(y_pred)))\n",
        "  print('The root mean squared error is = ',np.sqrt(mean_squared_error((y_test),(y_pred))))\n",
        "  print('The R Squared error is = ', r2_score((y_test),(y_pred)))\n",
        "  print('The adjusted R Squared error is = ',1-(1-r2_score((y_test),(y_pred)))*((x_test.shape[0]-1)/(x_test.shape[0]-x_test.shape[1]-1)))\n",
        " "
      ],
      "metadata": {
        "id": "MjM36ObeKopd"
      },
      "execution_count": null,
      "outputs": []
    },
    {
      "cell_type": "code",
      "source": [
        "# To visualize the regression evaluation plot\n",
        "def regression_evaluation_plot (y_test,y_pred):\n",
        "  plt.figure(figsize=(10,5))\n",
        "  plt.scatter((y_test), (y_pred))\n",
        "  plt.xlabel('Actual sales')\n",
        "  plt.ylabel('Predicted sales')\n",
        "\n",
        "  plt.figure(figsize=(10,5))\n",
        "  plt.plot((y_pred))\n",
        "  plt.plot(np.array((y_test)))\n",
        "  plt.legend([\"Predicted\",\"Actual\"])\n",
        "  plt.xlabel('No of Test Data')\n",
        "  plt.show()"
      ],
      "metadata": {
        "id": "2yB1Zhu4IVPr"
      },
      "execution_count": null,
      "outputs": []
    },
    {
      "cell_type": "code",
      "source": [
        "# Linear Regression - Assumption check - Residual plot\n",
        "def residual_plot(y_test,y_pred):\n",
        "  fig_1 = plt.figure(figsize=(10,5))\n",
        "  plt.subplot(1,2,1)\n",
        "  sns.distplot(((y_test)- (y_pred)),bins=20,color='r')\n",
        "  fig_1.suptitle('Residual Analysis', fontsize = 20)   \n",
        "  \n",
        "  fig_2 = plt.figure(figsize=(10,5))\n",
        "  plt.subplot(1,2,2)\n",
        "  plt.scatter((y_pred),(y_test)-(y_pred),c='r')\n",
        "  plt.xlabel('Sales')\n",
        "  plt.ylabel('residuals')\n",
        "  fig_2.suptitle('Homoscadacity', fontsize = 20)"
      ],
      "metadata": {
        "id": "CRpV_YKN_zfb"
      },
      "execution_count": null,
      "outputs": []
    },
    {
      "cell_type": "markdown",
      "source": [
        "## Linear Regression"
      ],
      "metadata": {
        "id": "3hBsqMP9_8vO"
      }
    },
    {
      "cell_type": "code",
      "source": [
        "# Create a linear regression model\n",
        "from sklearn.linear_model import LinearRegression\n",
        "lr=LinearRegression()\n",
        "lr.fit(x_train,y_train)"
      ],
      "metadata": {
        "id": "mac_4ovKwNBy",
        "colab": {
          "base_uri": "https://localhost:8080/"
        },
        "outputId": "9f0ec626-b05d-4615-c1e0-4d7d0c35d26c"
      },
      "execution_count": null,
      "outputs": [
        {
          "output_type": "execute_result",
          "data": {
            "text/plain": [
              "LinearRegression()"
            ]
          },
          "metadata": {},
          "execution_count": 62
        }
      ]
    },
    {
      "cell_type": "code",
      "source": [
        "# predicting the y values for x_train and xtest\n",
        "y_pred_train_lr = lr.predict(x_train)\n",
        "y_pred_test_lr=lr.predict(x_test)"
      ],
      "metadata": {
        "id": "X3KRU2Ce236f"
      },
      "execution_count": null,
      "outputs": []
    },
    {
      "cell_type": "code",
      "source": [
        "# Regression Evaluation Metrics\n",
        "regression_evaluation(x_test,y_test,y_pred_test_lr)"
      ],
      "metadata": {
        "colab": {
          "base_uri": "https://localhost:8080/"
        },
        "id": "cG8kCpO_ADht",
        "outputId": "fba8ea86-511c-49ca-9c4f-9eda0312feed"
      },
      "execution_count": null,
      "outputs": [
        {
          "output_type": "stream",
          "name": "stdout",
          "text": [
            "The mean squared error is =  2289199.2478716327\n",
            "The mean absolute error is= 1044.7074446053011\n",
            "The root mean squared error is =  1513.0099959589272\n",
            "The R Squared error is =  0.7664467089303969\n",
            "The adjusted R Squared error is =  0.7663844104015285\n"
          ]
        }
      ]
    },
    {
      "cell_type": "code",
      "source": [
        "y_train.values"
      ],
      "metadata": {
        "colab": {
          "base_uri": "https://localhost:8080/"
        },
        "id": "t4sy03WtFv5_",
        "outputId": "8c82be67-375d-43b8-c314-ea5d8f926bbf"
      },
      "execution_count": null,
      "outputs": [
        {
          "output_type": "execute_result",
          "data": {
            "text/plain": [
              "array([[ 4214],\n",
              "       [ 3244],\n",
              "       [ 4172],\n",
              "       ...,\n",
              "       [12330],\n",
              "       [ 5994],\n",
              "       [ 4908]])"
            ]
          },
          "metadata": {},
          "execution_count": 83
        }
      ]
    },
    {
      "cell_type": "code",
      "source": [
        "rmspe(y_train.values,y_pred_train_lr)\n",
        "rmspe_1(y_test.values,y_pred_test_lr)"
      ],
      "metadata": {
        "colab": {
          "base_uri": "https://localhost:8080/"
        },
        "id": "cIdptEtOaiJ2",
        "outputId": "1b1a9c09-c7d9-4bf6-a041-1fa8f84a48cd"
      },
      "execution_count": null,
      "outputs": [
        {
          "output_type": "execute_result",
          "data": {
            "text/plain": [
              "5.263859050226102e+16"
            ]
          },
          "metadata": {},
          "execution_count": 87
        }
      ]
    },
    {
      "cell_type": "code",
      "source": [
        "# Scatter plot for y-test and y_predicted\n",
        "regression_evaluation_plot(y_test,y_pred_test_lr)"
      ],
      "metadata": {
        "colab": {
          "base_uri": "https://localhost:8080/",
          "height": 651
        },
        "id": "PuvkVjP5xuEJ",
        "outputId": "ce63f5bf-9b0c-4591-dad3-36c4ed1be17d"
      },
      "execution_count": null,
      "outputs": [
        {
          "output_type": "display_data",
          "data": {
            "text/plain": [
              "<Figure size 720x360 with 1 Axes>"
            ],
            "image/png": "[encoded data removed]"
          },
          "metadata": {
            "needs_background": "light"
          }
        },
        {
          "output_type": "display_data",
          "data": {
            "text/plain": [
              "<Figure size 720x360 with 1 Axes>"
            ],
            "image/png": "[encoded data removed]"
          },
          "metadata": {
            "needs_background": "light"
          }
        }
      ]
    },
    {
      "cell_type": "markdown",
      "source": [
        "**Normal Distribution of error terms**"
      ],
      "metadata": {
        "id": "GvHCbAKGcirF"
      }
    },
    {
      "cell_type": "code",
      "source": [
        "# Assumption check  - Residual Analysis  - to verify our error value is normally distributed\n",
        "residual_plot(y_test,y_pred_test_lr)"
      ],
      "metadata": {
        "colab": {
          "base_uri": "https://localhost:8080/",
          "height": 709
        },
        "id": "F0iwEOWbyGZL",
        "outputId": "4734b1ec-93a0-4251-f178-a4123aab32ca"
      },
      "execution_count": null,
      "outputs": [
        {
          "output_type": "display_data",
          "data": {
            "text/plain": [
              "<Figure size 720x360 with 1 Axes>"
            ],
            "image/png": "[encoded data removed]"
          },
          "metadata": {
            "needs_background": "light"
          }
        },
        {
          "output_type": "display_data",
          "data": {
            "text/plain": [
              "<Figure size 720x360 with 1 Axes>"
            ],
            "image/png": "[encoded data removed]"
          },
          "metadata": {
            "needs_background": "light"
          }
        }
      ]
    },
    {
      "cell_type": "markdown",
      "source": [
        "Residual Analysis shows that error terms are normally distributed,with mean 0\n",
        "Heteroskedasticity shows that , the variance of the residuals is unequal over a range of measured values\n",
        "\n",
        "From these we can infer that our model is good."
      ],
      "metadata": {
        "id": "78NNifFgcpib"
      }
    },
    {
      "cell_type": "markdown",
      "source": [
        "## Multiple ML Models"
      ],
      "metadata": {
        "id": "ybdbqgF1vMG8"
      }
    },
    {
      "cell_type": "markdown",
      "source": [
        "A pipeline is created to model multiple regression models- ElasticNet,Decision Tree Regressor,Random Forest Regressor,XGB Regressor.\n",
        "\n",
        "As the dataset is nearly 8L it is reduced to 3L by random sampling method"
      ],
      "metadata": {
        "id": "eEpRaI-DAI-m"
      }
    },
    {
      "cell_type": "code",
      "source": [
        "# Pipeline for automation\n",
        "from sklearn.pipeline import Pipeline\n",
        "# Scaling ,Random search\n",
        "from sklearn.compose import ColumnTransformer\n",
        "from sklearn.preprocessing import StandardScaler\n",
        "from sklearn.model_selection import RandomizedSearchCV\n",
        "\n",
        "# Regression Models\n",
        "from sklearn.linear_model import ElasticNet\n",
        "from sklearn.tree import DecisionTreeRegressor\n",
        "from sklearn.ensemble import RandomForestRegressor\n",
        "from xgboost import XGBRegressor\n",
        "from sklearn.linear_model import Lasso,Ridge"
      ],
      "metadata": {
        "id": "4hFSWxvDnff8"
      },
      "execution_count": null,
      "outputs": []
    },
    {
      "cell_type": "code",
      "source": [
        "# To scale the numerical columns using standard scaler\n",
        "num_columns=['Customers','CompetitionDistance',]"
      ],
      "metadata": {
        "id": "Zhvps5qX2sYW"
      },
      "execution_count": null,
      "outputs": []
    },
    {
      "cell_type": "code",
      "source": [
        "# create a pipeline to sequence of data processing\n",
        "pipe_dt = Pipeline([('CT',ColumnTransformer([('scl',StandardScaler(),num_columns)],remainder=\"passthrough\")),\n",
        "                    ('DT',DecisionTreeRegressor(random_state=2))])\n",
        "pipe_rf = Pipeline([('CT',ColumnTransformer([('scl',StandardScaler(),num_columns)],remainder=\"passthrough\")),\n",
        "                    ('RF',RandomForestRegressor(random_state=2))])\n",
        "pipe_xgb = Pipeline([('CT',ColumnTransformer([('scl',StandardScaler(),num_columns)],remainder=\"passthrough\")),\n",
        "                     ('XGB', XGBRegressor(random_state=2))])\n",
        "pipe_eln =Pipeline([('CT',ColumnTransformer([('scl',StandardScaler(),num_columns)],remainder=\"passthrough\")),\n",
        "                     ('ELN', ElasticNet(random_state=2))])\n",
        "pipe_ls = Pipeline([('CT',ColumnTransformer([('scl',StandardScaler(),num_columns)],remainder=\"passthrough\")),\n",
        "                     ('LS', Lasso(random_state=2))])\n",
        "pipe_rg = Pipeline([('CT',ColumnTransformer([('scl',StandardScaler(),num_columns)],remainder=\"passthrough\")),\n",
        "                     ('RG', Lasso(random_state=2))])"
      ],
      "metadata": {
        "id": "x-QjhFvaurCv"
      },
      "execution_count": null,
      "outputs": []
    },
    {
      "cell_type": "code",
      "source": [
        "# Hyper Parameter for various regression models\n",
        "eln_parameters = {'ELN__alpha':[1e-10, 1e-8, 1e-5, 1e-3, 1e-2, 1, 5],\n",
        "                  'ELN__l1_ratio':[0.3,0.4,0.5,0.6,0.7]} # Elastonet\n",
        "rf_parameters = {'RF__max_depth': [3,5,7],\n",
        "                 'RF__min_samples_leaf': [1, 2, 5],\n",
        "                 'RF__min_samples_split': [3, 5, 9]} # Random Forest Tree\n",
        "dt_parameters = {'DT__max_depth': [5, 10, 15],\n",
        "                 'DT__min_samples_leaf': [1, 3, 7],\n",
        "                 'DT__min_samples_split': [3, 5, 9],\n",
        "                 'DT__max_leaf_nodes': [5, 20, 100],\n",
        "                 'DT__max_features': ['auto', 'sqrt', 'log2']} # Decision Tree\n",
        "xgb_parameters = {'XGB__max_depth': [2, 5, 10],\n",
        "              'XGB__learning_rate': [0.05, 0.1, 0.2],\n",
        "              'XGB__min_child_weight': [1, 2, 5],\n",
        "              'XGB__gamma': [0, 0.1, 0.3],\n",
        "              'XGB__colsample_bytree': [0.3, 0.5, 0.7]} # XGB Boost\n",
        "rg_parameters ={'RG__alpha':[1e-15, 1e-13, 1e-12, 1e-9, 1e-7, 1e-3, 1e-2, 1,5]} # Ridge Regression\n",
        "\n",
        "ls_parameters ={'LS__alpha':[1e-15, 1e-13, 1e-12, 1e-9, 1e-7, 1e-3, 1e-2, 1,5]}# Lasso Regression\n"
      ],
      "metadata": {
        "id": "PmpX4y_NsUVM"
      },
      "execution_count": null,
      "outputs": []
    },
    {
      "cell_type": "code",
      "source": [
        "# create various regression models\n",
        "dt_random_search = RandomizedSearchCV(estimator=pipe_dt,\n",
        "                                      param_distributions=dt_parameters,\n",
        "                                      scoring='r2',\n",
        "                                      cv=2,\n",
        "                                      verbose=2) # Decision Tree\n",
        "rf_random_search = RandomizedSearchCV(estimator=pipe_rf,\n",
        "                                      param_distributions=rf_parameters,\n",
        "                                      scoring='r2',\n",
        "                                      cv=2,\n",
        "                                      verbose=2)# Random Forest Tree\n",
        "xgb_random_search = RandomizedSearchCV(estimator=pipe_xgb,\n",
        "                                       param_distributions=xgb_parameters,\n",
        "                                       scoring='r2',\n",
        "                                       cv=2,\n",
        "                                       verbose=2)# XGB Boost\n",
        "eln_random_search = RandomizedSearchCV(estimator=pipe_eln,\n",
        "                                       param_distributions=eln_parameters,\n",
        "                                       scoring='r2',\n",
        "                                       cv=2,\n",
        "                                       verbose=2)# Elastonet\n",
        "ls_random_search = RandomizedSearchCV(estimator=pipe_ls,\n",
        "                                      param_distributions=ls_parameters,\n",
        "                                      scoring='r2',\n",
        "                                      cv=2,\n",
        "                                      verbose=2)# Lasso Regression\n",
        "rg_random_search = RandomizedSearchCV(estimator=pipe_rg,\n",
        "                                      param_distributions=rg_parameters,\n",
        "                                      scoring='r2',\n",
        "                                      cv=2,\n",
        "                                      verbose=2)# Ridge Regression"
      ],
      "metadata": {
        "id": "b82SzZapwwPu"
      },
      "execution_count": null,
      "outputs": []
    },
    {
      "cell_type": "code",
      "source": [
        "# To fit the x_train and y_train in all the regression models\n",
        "grids = [ dt_random_search, rf_random_search, xgb_random_search, eln_random_search,ls_random_search,rg_random_search]\n",
        "for pipe in grids:\n",
        "    pipe.fit(x_train,y_train)"
      ],
      "metadata": {
        "colab": {
          "base_uri": "https://localhost:8080/"
        },
        "id": "-BdG_dUKug7j",
        "outputId": "608fbea4-c090-4b2f-b158-297332097e82"
      },
      "execution_count": null,
      "outputs": [
        {
          "output_type": "stream",
          "name": "stdout",
          "text": [
            "Fitting 2 folds for each of 10 candidates, totalling 20 fits\n",
            "[CV] END DT__max_depth=10, DT__max_features=auto, DT__max_leaf_nodes=100, DT__min_samples_leaf=7, DT__min_samples_split=5; total time=   0.6s\n",
            "[CV] END DT__max_depth=10, DT__max_features=auto, DT__max_leaf_nodes=100, DT__min_samples_leaf=7, DT__min_samples_split=5; total time=   0.6s\n",
            "[CV] END DT__max_depth=10, DT__max_features=sqrt, DT__max_leaf_nodes=100, DT__min_samples_leaf=1, DT__min_samples_split=3; total time=   0.2s\n",
            "[CV] END DT__max_depth=10, DT__max_features=sqrt, DT__max_leaf_nodes=100, DT__min_samples_leaf=1, DT__min_samples_split=3; total time=   0.2s\n",
            "[CV] END DT__max_depth=5, DT__max_features=log2, DT__max_leaf_nodes=100, DT__min_samples_leaf=7, DT__min_samples_split=3; total time=   0.2s\n",
            "[CV] END DT__max_depth=5, DT__max_features=log2, DT__max_leaf_nodes=100, DT__min_samples_leaf=7, DT__min_samples_split=3; total time=   0.2s\n",
            "[CV] END DT__max_depth=5, DT__max_features=log2, DT__max_leaf_nodes=100, DT__min_samples_leaf=3, DT__min_samples_split=3; total time=   0.2s\n",
            "[CV] END DT__max_depth=5, DT__max_features=log2, DT__max_leaf_nodes=100, DT__min_samples_leaf=3, DT__min_samples_split=3; total time=   0.2s\n",
            "[CV] END DT__max_depth=5, DT__max_features=log2, DT__max_leaf_nodes=20, DT__min_samples_leaf=3, DT__min_samples_split=3; total time=   0.2s\n",
            "[CV] END DT__max_depth=5, DT__max_features=log2, DT__max_leaf_nodes=20, DT__min_samples_leaf=3, DT__min_samples_split=3; total time=   0.2s\n",
            "[CV] END DT__max_depth=5, DT__max_features=auto, DT__max_leaf_nodes=20, DT__min_samples_leaf=3, DT__min_samples_split=3; total time=   0.5s\n",
            "[CV] END DT__max_depth=5, DT__max_features=auto, DT__max_leaf_nodes=20, DT__min_samples_leaf=3, DT__min_samples_split=3; total time=   0.4s\n",
            "[CV] END DT__max_depth=15, DT__max_features=auto, DT__max_leaf_nodes=20, DT__min_samples_leaf=3, DT__min_samples_split=9; total time=   0.4s\n",
            "[CV] END DT__max_depth=15, DT__max_features=auto, DT__max_leaf_nodes=20, DT__min_samples_leaf=3, DT__min_samples_split=9; total time=   0.4s\n",
            "[CV] END DT__max_depth=15, DT__max_features=auto, DT__max_leaf_nodes=5, DT__min_samples_leaf=7, DT__min_samples_split=3; total time=   0.3s\n",
            "[CV] END DT__max_depth=15, DT__max_features=auto, DT__max_leaf_nodes=5, DT__min_samples_leaf=7, DT__min_samples_split=3; total time=   0.3s\n",
            "[CV] END DT__max_depth=5, DT__max_features=auto, DT__max_leaf_nodes=100, DT__min_samples_leaf=1, DT__min_samples_split=9; total time=   0.4s\n",
            "[CV] END DT__max_depth=5, DT__max_features=auto, DT__max_leaf_nodes=100, DT__min_samples_leaf=1, DT__min_samples_split=9; total time=   0.4s\n",
            "[CV] END DT__max_depth=10, DT__max_features=log2, DT__max_leaf_nodes=5, DT__min_samples_leaf=1, DT__min_samples_split=9; total time=   0.1s\n",
            "[CV] END DT__max_depth=10, DT__max_features=log2, DT__max_leaf_nodes=5, DT__min_samples_leaf=1, DT__min_samples_split=9; total time=   0.1s\n",
            "Fitting 2 folds for each of 10 candidates, totalling 20 fits\n",
            "[CV] END RF__max_depth=3, RF__min_samples_leaf=2, RF__min_samples_split=3; total time=  14.8s\n",
            "[CV] END RF__max_depth=3, RF__min_samples_leaf=2, RF__min_samples_split=3; total time=  15.1s\n",
            "[CV] END RF__max_depth=7, RF__min_samples_leaf=5, RF__min_samples_split=5; total time=  33.2s\n",
            "[CV] END RF__max_depth=7, RF__min_samples_leaf=5, RF__min_samples_split=5; total time=  31.1s\n",
            "[CV] END RF__max_depth=3, RF__min_samples_leaf=5, RF__min_samples_split=3; total time=  13.0s\n",
            "[CV] END RF__max_depth=3, RF__min_samples_leaf=5, RF__min_samples_split=3; total time=  13.0s\n",
            "[CV] END RF__max_depth=3, RF__min_samples_leaf=5, RF__min_samples_split=9; total time=  23.0s\n",
            "[CV] END RF__max_depth=3, RF__min_samples_leaf=5, RF__min_samples_split=9; total time=  14.5s\n",
            "[CV] END RF__max_depth=5, RF__min_samples_leaf=1, RF__min_samples_split=5; total time=  23.4s\n",
            "[CV] END RF__max_depth=5, RF__min_samples_leaf=1, RF__min_samples_split=5; total time=  22.4s\n",
            "[CV] END RF__max_depth=7, RF__min_samples_leaf=1, RF__min_samples_split=9; total time=  34.1s\n",
            "[CV] END RF__max_depth=7, RF__min_samples_leaf=1, RF__min_samples_split=9; total time=  30.0s\n",
            "[CV] END RF__max_depth=3, RF__min_samples_leaf=5, RF__min_samples_split=5; total time=  13.0s\n",
            "[CV] END RF__max_depth=3, RF__min_samples_leaf=5, RF__min_samples_split=5; total time=  13.0s\n",
            "[CV] END RF__max_depth=7, RF__min_samples_leaf=5, RF__min_samples_split=9; total time=  30.8s\n",
            "[CV] END RF__max_depth=7, RF__min_samples_leaf=5, RF__min_samples_split=9; total time=  29.5s\n",
            "[CV] END RF__max_depth=3, RF__min_samples_leaf=1, RF__min_samples_split=3; total time=  13.9s\n",
            "[CV] END RF__max_depth=3, RF__min_samples_leaf=1, RF__min_samples_split=3; total time=  13.0s\n",
            "[CV] END RF__max_depth=5, RF__min_samples_leaf=5, RF__min_samples_split=3; total time=  21.3s\n",
            "[CV] END RF__max_depth=5, RF__min_samples_leaf=5, RF__min_samples_split=3; total time=  23.9s\n",
            "Fitting 2 folds for each of 10 candidates, totalling 20 fits\n",
            "[09:12:16] WARNING: /workspace/src/objective/regression_obj.cu:152: reg:linear is now deprecated in favor of reg:squarederror.\n",
            "[CV] END XGB__colsample_bytree=0.3, XGB__gamma=0.3, XGB__learning_rate=0.05, XGB__max_depth=5, XGB__min_child_weight=1; total time=   7.2s\n",
            "[09:12:23] WARNING: /workspace/src/objective/regression_obj.cu:152: reg:linear is now deprecated in favor of reg:squarederror.\n",
            "[CV] END XGB__colsample_bytree=0.3, XGB__gamma=0.3, XGB__learning_rate=0.05, XGB__max_depth=5, XGB__min_child_weight=1; total time=   7.0s\n",
            "[09:12:30] WARNING: /workspace/src/objective/regression_obj.cu:152: reg:linear is now deprecated in favor of reg:squarederror.\n",
            "[CV] END XGB__colsample_bytree=0.5, XGB__gamma=0, XGB__learning_rate=0.1, XGB__max_depth=5, XGB__min_child_weight=2; total time=   9.2s\n",
            "[09:12:39] WARNING: /workspace/src/objective/regression_obj.cu:152: reg:linear is now deprecated in favor of reg:squarederror.\n",
            "[CV] END XGB__colsample_bytree=0.5, XGB__gamma=0, XGB__learning_rate=0.1, XGB__max_depth=5, XGB__min_child_weight=2; total time=   9.1s\n",
            "[09:12:49] WARNING: /workspace/src/objective/regression_obj.cu:152: reg:linear is now deprecated in favor of reg:squarederror.\n",
            "[CV] END XGB__colsample_bytree=0.3, XGB__gamma=0.1, XGB__learning_rate=0.1, XGB__max_depth=10, XGB__min_child_weight=5; total time=  14.7s\n",
            "[09:13:03] WARNING: /workspace/src/objective/regression_obj.cu:152: reg:linear is now deprecated in favor of reg:squarederror.\n",
            "[CV] END XGB__colsample_bytree=0.3, XGB__gamma=0.1, XGB__learning_rate=0.1, XGB__max_depth=10, XGB__min_child_weight=5; total time=  13.3s\n",
            "[09:13:17] WARNING: /workspace/src/objective/regression_obj.cu:152: reg:linear is now deprecated in favor of reg:squarederror.\n",
            "[CV] END XGB__colsample_bytree=0.7, XGB__gamma=0.1, XGB__learning_rate=0.1, XGB__max_depth=5, XGB__min_child_weight=2; total time=  10.7s\n",
            "[09:13:27] WARNING: /workspace/src/objective/regression_obj.cu:152: reg:linear is now deprecated in favor of reg:squarederror.\n",
            "[CV] END XGB__colsample_bytree=0.7, XGB__gamma=0.1, XGB__learning_rate=0.1, XGB__max_depth=5, XGB__min_child_weight=2; total time=  10.5s\n",
            "[09:13:38] WARNING: /workspace/src/objective/regression_obj.cu:152: reg:linear is now deprecated in favor of reg:squarederror.\n",
            "[CV] END XGB__colsample_bytree=0.5, XGB__gamma=0.1, XGB__learning_rate=0.05, XGB__max_depth=5, XGB__min_child_weight=2; total time=   9.2s\n",
            "[09:13:47] WARNING: /workspace/src/objective/regression_obj.cu:152: reg:linear is now deprecated in favor of reg:squarederror.\n",
            "[CV] END XGB__colsample_bytree=0.5, XGB__gamma=0.1, XGB__learning_rate=0.05, XGB__max_depth=5, XGB__min_child_weight=2; total time=  10.7s\n",
            "[09:13:58] WARNING: /workspace/src/objective/regression_obj.cu:152: reg:linear is now deprecated in favor of reg:squarederror.\n",
            "[CV] END XGB__colsample_bytree=0.3, XGB__gamma=0.1, XGB__learning_rate=0.05, XGB__max_depth=5, XGB__min_child_weight=5; total time=   7.0s\n",
            "[09:14:05] WARNING: /workspace/src/objective/regression_obj.cu:152: reg:linear is now deprecated in favor of reg:squarederror.\n",
            "[CV] END XGB__colsample_bytree=0.3, XGB__gamma=0.1, XGB__learning_rate=0.05, XGB__max_depth=5, XGB__min_child_weight=5; total time=   7.0s\n",
            "[09:14:12] WARNING: /workspace/src/objective/regression_obj.cu:152: reg:linear is now deprecated in favor of reg:squarederror.\n",
            "[CV] END XGB__colsample_bytree=0.7, XGB__gamma=0.1, XGB__learning_rate=0.2, XGB__max_depth=5, XGB__min_child_weight=5; total time=  10.5s\n",
            "[09:14:22] WARNING: /workspace/src/objective/regression_obj.cu:152: reg:linear is now deprecated in favor of reg:squarederror.\n",
            "[CV] END XGB__colsample_bytree=0.7, XGB__gamma=0.1, XGB__learning_rate=0.2, XGB__max_depth=5, XGB__min_child_weight=5; total time=  10.4s\n",
            "[09:14:33] WARNING: /workspace/src/objective/regression_obj.cu:152: reg:linear is now deprecated in favor of reg:squarederror.\n",
            "[CV] END XGB__colsample_bytree=0.3, XGB__gamma=0.1, XGB__learning_rate=0.1, XGB__max_depth=5, XGB__min_child_weight=1; total time=   8.2s\n",
            "[09:14:41] WARNING: /workspace/src/objective/regression_obj.cu:152: reg:linear is now deprecated in favor of reg:squarederror.\n",
            "[CV] END XGB__colsample_bytree=0.3, XGB__gamma=0.1, XGB__learning_rate=0.1, XGB__max_depth=5, XGB__min_child_weight=1; total time=   7.2s\n",
            "[09:14:48] WARNING: /workspace/src/objective/regression_obj.cu:152: reg:linear is now deprecated in favor of reg:squarederror.\n",
            "[CV] END XGB__colsample_bytree=0.5, XGB__gamma=0.3, XGB__learning_rate=0.1, XGB__max_depth=5, XGB__min_child_weight=1; total time=  10.7s\n",
            "[09:14:59] WARNING: /workspace/src/objective/regression_obj.cu:152: reg:linear is now deprecated in favor of reg:squarederror.\n",
            "[CV] END XGB__colsample_bytree=0.5, XGB__gamma=0.3, XGB__learning_rate=0.1, XGB__max_depth=5, XGB__min_child_weight=1; total time=   9.1s\n",
            "[09:15:08] WARNING: /workspace/src/objective/regression_obj.cu:152: reg:linear is now deprecated in favor of reg:squarederror.\n",
            "[CV] END XGB__colsample_bytree=0.7, XGB__gamma=0, XGB__learning_rate=0.2, XGB__max_depth=5, XGB__min_child_weight=2; total time=  10.4s\n",
            "[09:15:18] WARNING: /workspace/src/objective/regression_obj.cu:152: reg:linear is now deprecated in favor of reg:squarederror.\n",
            "[CV] END XGB__colsample_bytree=0.7, XGB__gamma=0, XGB__learning_rate=0.2, XGB__max_depth=5, XGB__min_child_weight=2; total time=  10.3s\n",
            "[09:15:29] WARNING: /workspace/src/objective/regression_obj.cu:152: reg:linear is now deprecated in favor of reg:squarederror.\n",
            "Fitting 2 folds for each of 10 candidates, totalling 20 fits\n",
            "[CV] END ................ELN__alpha=0.001, ELN__l1_ratio=0.4; total time=   0.2s\n",
            "[CV] END ................ELN__alpha=0.001, ELN__l1_ratio=0.4; total time=   0.2s\n",
            "[CV] END .................ELN__alpha=0.01, ELN__l1_ratio=0.4; total time=   0.2s\n",
            "[CV] END .................ELN__alpha=0.01, ELN__l1_ratio=0.4; total time=   0.2s\n",
            "[CV] END ................ELN__alpha=1e-08, ELN__l1_ratio=0.6; total time=   0.3s\n",
            "[CV] END ................ELN__alpha=1e-08, ELN__l1_ratio=0.6; total time=   0.3s\n",
            "[CV] END ................ELN__alpha=1e-05, ELN__l1_ratio=0.6; total time=   0.2s\n",
            "[CV] END ................ELN__alpha=1e-05, ELN__l1_ratio=0.6; total time=   0.2s\n",
            "[CV] END ................ELN__alpha=0.001, ELN__l1_ratio=0.5; total time=   0.2s\n",
            "[CV] END ................ELN__alpha=0.001, ELN__l1_ratio=0.5; total time=   0.2s\n",
            "[CV] END ................ELN__alpha=1e-08, ELN__l1_ratio=0.4; total time=   0.3s\n",
            "[CV] END ................ELN__alpha=1e-08, ELN__l1_ratio=0.4; total time=   0.3s\n",
            "[CV] END .................ELN__alpha=0.01, ELN__l1_ratio=0.6; total time=   0.2s\n",
            "[CV] END .................ELN__alpha=0.01, ELN__l1_ratio=0.6; total time=   0.2s\n",
            "[CV] END ................ELN__alpha=0.001, ELN__l1_ratio=0.6; total time=   0.2s\n",
            "[CV] END ................ELN__alpha=0.001, ELN__l1_ratio=0.6; total time=   0.2s\n",
            "[CV] END ................ELN__alpha=1e-10, ELN__l1_ratio=0.6; total time=   0.3s\n",
            "[CV] END ................ELN__alpha=1e-10, ELN__l1_ratio=0.6; total time=   0.3s\n",
            "[CV] END ....................ELN__alpha=5, ELN__l1_ratio=0.3; total time=   0.2s\n",
            "[CV] END ....................ELN__alpha=5, ELN__l1_ratio=0.3; total time=   0.1s\n",
            "Fitting 2 folds for each of 9 candidates, totalling 18 fits\n",
            "[CV] END ....................................LS__alpha=1e-15; total time=   5.3s\n",
            "[CV] END ....................................LS__alpha=1e-15; total time=   5.4s\n",
            "[CV] END ....................................LS__alpha=1e-13; total time=   5.4s\n",
            "[CV] END ....................................LS__alpha=1e-13; total time=   5.4s\n",
            "[CV] END ....................................LS__alpha=1e-12; total time=   5.5s\n",
            "[CV] END ....................................LS__alpha=1e-12; total time=   0.8s\n",
            "[CV] END ....................................LS__alpha=1e-09; total time=   0.3s\n",
            "[CV] END ....................................LS__alpha=1e-09; total time=   0.3s\n",
            "[CV] END ....................................LS__alpha=1e-07; total time=   0.3s\n",
            "[CV] END ....................................LS__alpha=1e-07; total time=   0.3s\n",
            "[CV] END ....................................LS__alpha=0.001; total time=   0.2s\n",
            "[CV] END ....................................LS__alpha=0.001; total time=   0.2s\n",
            "[CV] END .....................................LS__alpha=0.01; total time=   0.2s\n",
            "[CV] END .....................................LS__alpha=0.01; total time=   0.2s\n",
            "[CV] END ........................................LS__alpha=1; total time=   0.2s\n",
            "[CV] END ........................................LS__alpha=1; total time=   0.2s\n",
            "[CV] END ........................................LS__alpha=5; total time=   0.1s\n",
            "[CV] END ........................................LS__alpha=5; total time=   0.2s\n",
            "Fitting 2 folds for each of 9 candidates, totalling 18 fits\n",
            "[CV] END ....................................RG__alpha=1e-15; total time=   5.4s\n",
            "[CV] END ....................................RG__alpha=1e-15; total time=   5.4s\n",
            "[CV] END ....................................RG__alpha=1e-13; total time=   6.9s\n",
            "[CV] END ....................................RG__alpha=1e-13; total time=   5.4s\n",
            "[CV] END ....................................RG__alpha=1e-12; total time=   5.2s\n",
            "[CV] END ....................................RG__alpha=1e-12; total time=   0.8s\n",
            "[CV] END ....................................RG__alpha=1e-09; total time=   0.3s\n",
            "[CV] END ....................................RG__alpha=1e-09; total time=   0.3s\n",
            "[CV] END ....................................RG__alpha=1e-07; total time=   0.2s\n",
            "[CV] END ....................................RG__alpha=1e-07; total time=   0.3s\n",
            "[CV] END ....................................RG__alpha=0.001; total time=   0.2s\n",
            "[CV] END ....................................RG__alpha=0.001; total time=   0.3s\n",
            "[CV] END .....................................RG__alpha=0.01; total time=   0.2s\n",
            "[CV] END .....................................RG__alpha=0.01; total time=   0.2s\n",
            "[CV] END ........................................RG__alpha=1; total time=   0.2s\n",
            "[CV] END ........................................RG__alpha=1; total time=   0.2s\n",
            "[CV] END ........................................RG__alpha=5; total time=   0.1s\n",
            "[CV] END ........................................RG__alpha=5; total time=   0.2s\n"
          ]
        }
      ]
    },
    {
      "cell_type": "code",
      "source": [
        "# Metric Table is created to compare the r2 score and RMSE score for different regression models\n",
        "metrics_table = pd.DataFrame(columns=['Regression_Model', 'Train_R2', 'Test_R2', 'Train_RMSE', 'Test_RMSE','Train_RMSPE','Test_RMSPE'])\n",
        "\n",
        "grid_dict = {0: 'Decision Trees', 1: 'Random Forest', \n",
        "             2: 'XGBoost', 3: 'ElastoNet',4:'Lasso Regression',5:'Ridge Regression'}"
      ],
      "metadata": {
        "id": "ABL_zVKhTf-N"
      },
      "execution_count": null,
      "outputs": []
    },
    {
      "cell_type": "code",
      "source": [
        "# To visualize the best parameter for each model\n",
        "for i, model in enumerate(grids):\n",
        "    print('{} Test Accuracy: {}'.format(grid_dict[i],\n",
        "    model.score(x_test,y_test)))\n",
        "    print('{} Best Params: {}\\n\\n'.format(grid_dict[i],          model.best_params_))"
      ],
      "metadata": {
        "colab": {
          "base_uri": "https://localhost:8080/"
        },
        "id": "Utq1mKeDBN3f",
        "outputId": "f094401e-3c67-4eb7-efe0-483af90a98bd"
      },
      "execution_count": null,
      "outputs": [
        {
          "output_type": "stream",
          "name": "stdout",
          "text": [
            "Decision Trees Test Accuracy: 0.8433279563751643\n",
            "Decision Trees Best Params: {'DT__min_samples_split': 5, 'DT__min_samples_leaf': 7, 'DT__max_leaf_nodes': 100, 'DT__max_features': 'auto', 'DT__max_depth': 10}\n",
            "\n",
            "\n",
            "Random Forest Test Accuracy: 0.8530029635086127\n",
            "Random Forest Best Params: {'RF__min_samples_split': 9, 'RF__min_samples_leaf': 1, 'RF__max_depth': 7}\n",
            "\n",
            "\n",
            "XGBoost Test Accuracy: 0.9488195449513641\n",
            "XGBoost Best Params: {'XGB__min_child_weight': 5, 'XGB__max_depth': 10, 'XGB__learning_rate': 0.1, 'XGB__gamma': 0.1, 'XGB__colsample_bytree': 0.3}\n",
            "\n",
            "\n",
            "ElastoNet Test Accuracy: 0.766446612650609\n",
            "ElastoNet Best Params: {'ELN__l1_ratio': 0.6, 'ELN__alpha': 1e-05}\n",
            "\n",
            "\n",
            "Lasso Regression Test Accuracy: 0.7664466927266718\n",
            "Lasso Regression Best Params: {'LS__alpha': 0.001}\n",
            "\n",
            "\n",
            "Ridge Regression Test Accuracy: 0.7664466927266718\n",
            "Ridge Regression Best Params: {'RG__alpha': 0.001}\n",
            "\n",
            "\n"
          ]
        }
      ]
    },
    {
      "cell_type": "code",
      "source": [
        "# To visualize the metrics table\n",
        "for i,model in enumerate(grids):\n",
        "  y_train_pred = model.predict(x_train)\n",
        "  y_test_pred = model.predict(x_test)\n",
        "  metrics_table.loc[len(metrics_table.index)]=(grid_dict[i],\n",
        "                                               r2_score(y_train, y_train_pred),\n",
        "                                               r2_score(y_test, y_test_pred),\n",
        "                                               mean_squared_error(y_train, y_train_pred, squared=False),\n",
        "                                               mean_squared_error(y_test, y_test_pred, squared=False),\n",
        "                                               rmspe(y_train.values, y_train_pred),\n",
        "                                               rmspe(y_test.values, y_test_pred))\n",
        "  \n",
        "metrics_table"
      ],
      "metadata": {
        "id": "T9eji_stO9Yw",
        "colab": {
          "base_uri": "https://localhost:8080/",
          "height": 237
        },
        "outputId": "556fcda3-31fe-4e90-93f5-93bdd4a2fbc4"
      },
      "execution_count": null,
      "outputs": [
        {
          "output_type": "execute_result",
          "data": {
            "text/plain": [
              "   Regression_Model  Train_R2   Test_R2   Train_RMSE    Test_RMSE  \\\n",
              "0    Decision Trees  0.845077  0.843328  1223.116169  1239.208991   \n",
              "1     Random Forest  0.855128  0.853003  1182.774905  1200.336718   \n",
              "2           XGBoost  0.956961  0.948820   644.673598   708.273304   \n",
              "3         ElastoNet  0.763293  0.766447  1511.874914  1513.010308   \n",
              "4  Lasso Regression  0.763293  0.766447  1511.874893  1513.010048   \n",
              "5  Ridge Regression  0.763293  0.766447  1511.874893  1513.010048   \n",
              "\n",
              "    Train_RMSPE    Test_RMSPE  \n",
              "0  6.486957e+16  5.617869e+16  \n",
              "1  2.341389e+16  2.027702e+16  \n",
              "2  2.195606e+16  2.290929e+16  \n",
              "3  6.751131e+16  5.263958e+16  \n",
              "4  6.751017e+16  5.263868e+16  \n",
              "5  6.751017e+16  5.263868e+16  "
            ],
            "text/html": [
              "\n",
              "  <div id=\"df-2c230c89-a32e-472b-9895-13a3069f92eb\">\n",
              "    <div class=\"colab-df-container\">\n",
              "      <div>\n",
              "<style scoped>\n",
              "    .dataframe tbody tr th:only-of-type {\n",
              "        vertical-align: middle;\n",
              "    }\n",
              "\n",
              "    .dataframe tbody tr th {\n",
              "        vertical-align: top;\n",
              "    }\n",
              "\n",
              "    .dataframe thead th {\n",
              "        text-align: right;\n",
              "    }\n",
              "</style>\n",
              "<table border=\"1\" class=\"dataframe\">\n",
              "  <thead>\n",
              "    <tr style=\"text-align: right;\">\n",
              "      <th></th>\n",
              "      <th>Regression_Model</th>\n",
              "      <th>Train_R2</th>\n",
              "      <th>Test_R2</th>\n",
              "      <th>Train_RMSE</th>\n",
              "      <th>Test_RMSE</th>\n",
              "      <th>Train_RMSPE</th>\n",
              "      <th>Test_RMSPE</th>\n",
              "    </tr>\n",
              "  </thead>\n",
              "  <tbody>\n",
              "    <tr>\n",
              "      <th>0</th>\n",
              "      <td>Decision Trees</td>\n",
              "      <td>0.845077</td>\n",
              "      <td>0.843328</td>\n",
              "      <td>1223.116169</td>\n",
              "      <td>1239.208991</td>\n",
              "      <td>6.486957e+16</td>\n",
              "      <td>5.617869e+16</td>\n",
              "    </tr>\n",
              "    <tr>\n",
              "      <th>1</th>\n",
              "      <td>Random Forest</td>\n",
              "      <td>0.855128</td>\n",
              "      <td>0.853003</td>\n",
              "      <td>1182.774905</td>\n",
              "      <td>1200.336718</td>\n",
              "      <td>2.341389e+16</td>\n",
              "      <td>2.027702e+16</td>\n",
              "    </tr>\n",
              "    <tr>\n",
              "      <th>2</th>\n",
              "      <td>XGBoost</td>\n",
              "      <td>0.956961</td>\n",
              "      <td>0.948820</td>\n",
              "      <td>644.673598</td>\n",
              "      <td>708.273304</td>\n",
              "      <td>2.195606e+16</td>\n",
              "      <td>2.290929e+16</td>\n",
              "    </tr>\n",
              "    <tr>\n",
              "      <th>3</th>\n",
              "      <td>ElastoNet</td>\n",
              "      <td>0.763293</td>\n",
              "      <td>0.766447</td>\n",
              "      <td>1511.874914</td>\n",
              "      <td>1513.010308</td>\n",
              "      <td>6.751131e+16</td>\n",
              "      <td>5.263958e+16</td>\n",
              "    </tr>\n",
              "    <tr>\n",
              "      <th>4</th>\n",
              "      <td>Lasso Regression</td>\n",
              "      <td>0.763293</td>\n",
              "      <td>0.766447</td>\n",
              "      <td>1511.874893</td>\n",
              "      <td>1513.010048</td>\n",
              "      <td>6.751017e+16</td>\n",
              "      <td>5.263868e+16</td>\n",
              "    </tr>\n",
              "    <tr>\n",
              "      <th>5</th>\n",
              "      <td>Ridge Regression</td>\n",
              "      <td>0.763293</td>\n",
              "      <td>0.766447</td>\n",
              "      <td>1511.874893</td>\n",
              "      <td>1513.010048</td>\n",
              "      <td>6.751017e+16</td>\n",
              "      <td>5.263868e+16</td>\n",
              "    </tr>\n",
              "  </tbody>\n",
              "</table>\n",
              "</div>\n",
              "      <button class=\"colab-df-convert\" onclick=\"convertToInteractive('df-2c230c89-a32e-472b-9895-13a3069f92eb')\"\n",
              "              title=\"Convert this dataframe to an interactive table.\"\n",
              "              style=\"display:none;\">\n",
              "        \n",
              "  <svg xmlns=\"http://www.w3.org/2000/svg\" height=\"24px\"viewBox=\"0 0 24 24\"\n",
              "       width=\"24px\">\n",
              "    <path d=\"M0 0h24v24H0V0z\" fill=\"none\"/>\n",
              "    <path d=\"M18.56 5.44l.94 2.06.94-2.06 2.06-.94-2.06-.94-.94-2.06-.94 2.06-2.06.94zm-11 1L8.5 8.5l.94-2.06 2.06-.94-2.06-.94L8.5 2.5l-.94 2.06-2.06.94zm10 10l.94 2.06.94-2.06 2.06-.94-2.06-.94-.94-2.06-.94 2.06-2.06.94z\"/><path d=\"M17.41 7.96l-1.37-1.37c-.4-.4-.92-.59-1.43-.59-.52 0-1.04.2-1.43.59L10.3 9.45l-7.72 7.72c-.78.78-.78 2.05 0 2.83L4 21.41c.39.39.9.59 1.41.59.51 0 1.02-.2 1.41-.59l7.78-7.78 2.81-2.81c.8-.78.8-2.07 0-2.86zM5.41 20L4 18.59l7.72-7.72 1.47 1.35L5.41 20z\"/>\n",
              "  </svg>\n",
              "      </button>\n",
              "      \n",
              "  <style>\n",
              "    .colab-df-container {\n",
              "      display:flex;\n",
              "      flex-wrap:wrap;\n",
              "      gap: 12px;\n",
              "    }\n",
              "\n",
              "    .colab-df-convert {\n",
              "      background-color: #E8F0FE;\n",
              "      border: none;\n",
              "      border-radius: 50%;\n",
              "      cursor: pointer;\n",
              "      display: none;\n",
              "      fill: #1967D2;\n",
              "      height: 32px;\n",
              "      padding: 0 0 0 0;\n",
              "      width: 32px;\n",
              "    }\n",
              "\n",
              "    .colab-df-convert:hover {\n",
              "      background-color: #E2EBFA;\n",
              "      box-shadow: 0px 1px 2px rgba(60, 64, 67, 0.3), 0px 1px 3px 1px rgba(60, 64, 67, 0.15);\n",
              "      fill: #174EA6;\n",
              "    }\n",
              "\n",
              "    [theme=dark] .colab-df-convert {\n",
              "      background-color: #3B4455;\n",
              "      fill: #D2E3FC;\n",
              "    }\n",
              "\n",
              "    [theme=dark] .colab-df-convert:hover {\n",
              "      background-color: #434B5C;\n",
              "      box-shadow: 0px 1px 3px 1px rgba(0, 0, 0, 0.15);\n",
              "      filter: drop-shadow(0px 1px 2px rgba(0, 0, 0, 0.3));\n",
              "      fill: #FFFFFF;\n",
              "    }\n",
              "  </style>\n",
              "\n",
              "      <script>\n",
              "        const buttonEl =\n",
              "          document.querySelector('#df-2c230c89-a32e-472b-9895-13a3069f92eb button.colab-df-convert');\n",
              "        buttonEl.style.display =\n",
              "          google.colab.kernel.accessAllowed ? 'block' : 'none';\n",
              "\n",
              "        async function convertToInteractive(key) {\n",
              "          const element = document.querySelector('#df-2c230c89-a32e-472b-9895-13a3069f92eb');\n",
              "          const dataTable =\n",
              "            await google.colab.kernel.invokeFunction('convertToInteractive',\n",
              "                                                     [key], {});\n",
              "          if (!dataTable) return;\n",
              "\n",
              "          const docLinkHtml = 'Like what you see? Visit the ' +\n",
              "            '<a target=\"_blank\" href=https://colab.research.google.com/notebooks/data_table.ipynb>data table notebook</a>'\n",
              "            + ' to learn more about interactive tables.';\n",
              "          element.innerHTML = '';\n",
              "          dataTable['output_type'] = 'display_data';\n",
              "          await google.colab.output.renderOutput(dataTable, element);\n",
              "          const docLink = document.createElement('div');\n",
              "          docLink.innerHTML = docLinkHtml;\n",
              "          element.appendChild(docLink);\n",
              "        }\n",
              "      </script>\n",
              "    </div>\n",
              "  </div>\n",
              "  "
            ]
          },
          "metadata": {},
          "execution_count": 92
        }
      ]
    },
    {
      "cell_type": "markdown",
      "source": [
        "\n",
        "**Conclusion**\n",
        "-----------------------------------------\n",
        "*   Among all the regression models , XGBoost produces high r2 score, but there is tendency for a model to over fit because of high r2 score.\n",
        "*   Random Forest gives 85% as r2 which pretty good.it may be because of more categorical features.\n",
        "*   ElastoNet,Lasso,Ridge Regression models produces same output.compared to linear regression,regularized regression algorithm produces good result\n",
        "*   If model interpretability is more important than accuracy, model built using decision tree algorithm should be chosen over the one using random forest algorithm. Since the difference between accuracy of these two models is less than 1%, there won't be a large difference in the result.\n",
        "\n",
        "\n",
        "\n"
      ],
      "metadata": {
        "id": "Lomxi_2CZetG"
      }
    },
    {
      "cell_type": "markdown",
      "source": [
        "# Feature Importances"
      ],
      "metadata": {
        "id": "uAmAtiimRwBJ"
      }
    },
    {
      "cell_type": "code",
      "source": [
        "plt.figure(figsize=(10,5))\n",
        "sort = rf_random_search.best_estimator_.named_steps[\"RF\"].feature_importances_.argsort()\n",
        "plt.barh(x.columns[sort], rf_random_search.best_estimator_.named_steps[\"RF\"].feature_importances_[sort])\n",
        "plt.xlabel(\"Feature Importance\")"
      ],
      "metadata": {
        "colab": {
          "base_uri": "https://localhost:8080/",
          "height": 351
        },
        "id": "89iMEINOOvmo",
        "outputId": "5e5dbb5a-18a6-4d24-e6b9-f723bd9e30ce"
      },
      "execution_count": null,
      "outputs": [
        {
          "output_type": "execute_result",
          "data": {
            "text/plain": [
              "Text(0.5, 0, 'Feature Importance')"
            ]
          },
          "metadata": {},
          "execution_count": 108
        },
        {
          "output_type": "display_data",
          "data": {
            "text/plain": [
              "<Figure size 720x360 with 1 Axes>"
            ],
            "image/png": "[encoded data removed]"
          },
          "metadata": {
            "needs_background": "light"
          }
        }
      ]
    }
  ]
}